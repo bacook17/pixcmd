{
 "cells": [
  {
   "cell_type": "code",
   "execution_count": 1,
   "metadata": {
    "collapsed": false
   },
   "outputs": [
    {
     "name": "stderr",
     "output_type": "stream",
     "text": [
      "Vendor:  Continuum Analytics, Inc.\n",
      "Package: mkl\n",
      "Message: trial mode expires in 30 days\n"
     ]
    },
    {
     "name": "stdout",
     "output_type": "stream",
     "text": [
      "GPU acceleration enabled\n"
     ]
    }
   ],
   "source": [
    "import pcmdpy as ppy"
   ]
  },
  {
   "cell_type": "code",
   "execution_count": 5,
   "metadata": {
    "collapsed": true
   },
   "outputs": [],
   "source": [
    "import numpy as np"
   ]
  },
  {
   "cell_type": "code",
   "execution_count": 2,
   "metadata": {
    "collapsed": false
   },
   "outputs": [
    {
     "name": "stdout",
     "output_type": "stream",
     "text": [
      "using given n: 0\n",
      "Starting SourceModule Code\n",
      "Getting function\n",
      "Past the SourceModule code\n",
      "CUDAC Available\n"
     ]
    }
   ],
   "source": [
    "ppy.gpu_utils.initialize_gpu(n=0)"
   ]
  },
  {
   "cell_type": "code",
   "execution_count": 3,
   "metadata": {
    "collapsed": true
   },
   "outputs": [],
   "source": [
    "filters = [ppy.instrument.Filter.HST_F475W(1.0), ppy.instrument.Filter.HST_F814W(1.0)]\n",
    "iso_model = ppy.isochrones.Isochrone_Model(filters)\n",
    "driv = ppy.driver.Driver(iso_model, gpu=True)"
   ]
  },
  {
   "cell_type": "code",
   "execution_count": 6,
   "metadata": {
    "collapsed": false
   },
   "outputs": [],
   "source": [
    "gal = ppy.galaxy.Constant_SFR(np.array([0., -2., 4.]))"
   ]
  },
  {
   "cell_type": "code",
   "execution_count": 14,
   "metadata": {
    "collapsed": false
   },
   "outputs": [
    {
     "name": "stdout",
     "output_type": "stream",
     "text": [
      "CPU times: user 1.31 s, sys: 359 ms, total: 1.67 s\n",
      "Wall time: 1.8 s\n"
     ]
    },
    {
     "data": {
      "text/plain": [
       "(array([[-2.47856154, -2.51210961, -2.58422777, ..., -2.58367971,\n",
       "         -2.63821648, -2.6296295 ],\n",
       "        [-3.69237243, -3.702323  , -3.6757985 , ..., -3.77908773,\n",
       "         -3.81778946, -3.9732131 ]]),\n",
       " array([[[  97016.40734925,  100060.902598  ,  106932.98192081, ...,\n",
       "           100568.01179287,  100714.54022688,  102472.55223938],\n",
       "         [  94296.00238388,  102023.17027769,  119901.00870201, ...,\n",
       "            98217.32554277,   97552.76066652,   97158.2234901 ],\n",
       "         [  98926.97459422,  105812.91611125,  120014.5929254 , ...,\n",
       "            97326.38182737,  102336.93351491,  101468.57430896],\n",
       "         ..., \n",
       "         [ 137301.22608749,  116440.05717271,  116203.76441722, ...,\n",
       "           110365.22508177,  125585.48585961,  148793.41010373],\n",
       "         [ 116516.53886457,  111769.30358908,  116230.92018108, ...,\n",
       "           111875.5588114 ,  115760.44187016,  123013.74279828],\n",
       "         [ 107718.97734926,  110951.1710312 ,  117050.02892805, ...,\n",
       "           106879.01784974,  112384.69316814,  111499.35855333]],\n",
       " \n",
       "        [[ 234577.98710694,  236737.73403535,  231024.3119168 , ...,\n",
       "           213513.62904362,  215337.26732049,  229782.93717299],\n",
       "         [ 216317.75299764,  216993.24014372,  237124.17744682, ...,\n",
       "           213601.14249518,  219516.18849874,  229400.12213415],\n",
       "         [ 226076.72864873,  228268.28359153,  235691.20103825, ...,\n",
       "           220389.32087856,  242767.35459013,  258807.54011453],\n",
       "         ..., \n",
       "         [ 302563.40226419,  316479.71325256,  371190.76659711, ...,\n",
       "           277001.73113669,  276586.23326329,  293698.62392757],\n",
       "         [ 321236.37645598,  293463.4752085 ,  293161.92773388, ...,\n",
       "           283154.50809694,  280664.25499941,  312665.723769  ],\n",
       "         [ 308198.18610623,  269130.82541148,  269393.34899746, ...,\n",
       "           254081.69361858,  263301.94579992,  303825.01355309]]]))"
      ]
     },
     "execution_count": 14,
     "metadata": {},
     "output_type": "execute_result"
    }
   ],
   "source": [
    "%%time\n",
    "driv.simulate(gal, 1024, psf=True)"
   ]
  },
  {
   "cell_type": "code",
   "execution_count": null,
   "metadata": {
    "collapsed": true
   },
   "outputs": [],
   "source": []
  }
 ],
 "metadata": {
  "anaconda-cloud": {},
  "kernelspec": {
   "display_name": "Python [default]",
   "language": "python",
   "name": "python2"
  },
  "language_info": {
   "codemirror_mode": {
    "name": "ipython",
    "version": 2
   },
   "file_extension": ".py",
   "mimetype": "text/x-python",
   "name": "python",
   "nbconvert_exporter": "python",
   "pygments_lexer": "ipython2",
   "version": "2.7.13"
  }
 },
 "nbformat": 4,
 "nbformat_minor": 2
}
