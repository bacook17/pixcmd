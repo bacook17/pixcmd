{
 "cells": [
  {
   "cell_type": "code",
   "execution_count": 2,
   "metadata": {},
   "outputs": [],
   "source": [
    "import numpy as np, matplotlib as mpl, matplotlib.pyplot as plt\n",
    "from time import time\n",
    "from tqdm import tqdm as tqdm\n",
    "import pcmdpy_gpu as ppy\n",
    "%matplotlib inline"
   ]
  },
  {
   "cell_type": "code",
   "execution_count": 37,
   "metadata": {},
   "outputs": [],
   "source": [
    "mpl.style.use('seaborn-poster')"
   ]
  },
  {
   "cell_type": "code",
   "execution_count": 3,
   "metadata": {},
   "outputs": [],
   "source": [
    "f = ppy.instrument.default_m31_filters()\n",
    "iso_model = ppy.isochrones.Isochrone_Model(f)\n",
    "driv_cpu = ppy.driver.Driver(iso_model, gpu=False)\n",
    "driv_gpu = ppy.driver.Driver(iso_model, gpu=True)"
   ]
  },
  {
   "cell_type": "code",
   "execution_count": 4,
   "metadata": {},
   "outputs": [],
   "source": [
    "gals = {}\n",
    "gals['ssp'] = ppy.galaxy.SSPSimple(np.array([0., -2., 2.0, 10.]), dmod=26.0)\n",
    "gals['tau'] = ppy.galaxy.CustomGalaxy(\n",
    "    'single',\n",
    "    'single',\n",
    "    'tau',\n",
    "    'variable',\n",
    "    initial_params=np.array([0., -2.0, 2.0, 3.0, 26.0])\n",
    ")\n",
    "gals['taumdf'] = ppy.galaxy.TauFull(np.array([0., -2.0, 2.0, 3.0, 26.0]))"
   ]
  },
  {
   "cell_type": "code",
   "execution_count": 5,
   "metadata": {},
   "outputs": [
    {
     "name": "stdout",
     "output_type": "stream",
     "text": [
      "CPU times: user 9.72 ms, sys: 0 ns, total: 9.72 ms\n",
      "Wall time: 9.52 ms\n"
     ]
    }
   ],
   "source": [
    "%%time\n",
    "imf_ssp, _ = iso_model.model_galaxy(gals['ssp'], downsample=5);"
   ]
  },
  {
   "cell_type": "code",
   "execution_count": 6,
   "metadata": {},
   "outputs": [
    {
     "name": "stdout",
     "output_type": "stream",
     "text": [
      "CPU times: user 144 ms, sys: 2.65 ms, total: 146 ms\n",
      "Wall time: 145 ms\n"
     ]
    }
   ],
   "source": [
    "%%time\n",
    "imf_tau, _ = iso_model.model_galaxy(gals['tau'], downsample=5)"
   ]
  },
  {
   "cell_type": "code",
   "execution_count": 7,
   "metadata": {},
   "outputs": [
    {
     "name": "stdout",
     "output_type": "stream",
     "text": [
      "CPU times: user 856 ms, sys: 477 µs, total: 857 ms\n",
      "Wall time: 857 ms\n"
     ]
    }
   ],
   "source": [
    "%%time\n",
    "imf_taumdf, _ = iso_model.model_galaxy(gals['taumdf'], downsample=5)"
   ]
  },
  {
   "cell_type": "code",
   "execution_count": 8,
   "metadata": {},
   "outputs": [
    {
     "data": {
      "text/plain": [
       "(295, 4757, 28497)"
      ]
     },
     "execution_count": 8,
     "metadata": {},
     "output_type": "execute_result"
    }
   ],
   "source": [
    "len(imf_ssp), len(imf_tau), len(imf_taumdf)"
   ]
  },
  {
   "cell_type": "code",
   "execution_count": 9,
   "metadata": {},
   "outputs": [],
   "source": [
    "Nims_cpu = [128, 256]\n",
    "Nims_gpu = [128, 256, 512, 1024, 2048]"
   ]
  },
  {
   "cell_type": "code",
   "execution_count": 10,
   "metadata": {},
   "outputs": [],
   "source": [
    "times = {}"
   ]
  },
  {
   "cell_type": "code",
   "execution_count": 11,
   "metadata": {},
   "outputs": [],
   "source": [
    "def time_sim(gal, Nim, psf, gpu, n_sample=5, max_time_sample=60., downsample=5, **kwargs):\n",
    "    times = []\n",
    "    if gpu:\n",
    "        driv = driv_gpu\n",
    "        # get GPU warmed up\n",
    "        _ = driv_gpu.simulate(gal, 128, psf=False, downsample=10)\n",
    "    else:\n",
    "        driv = driv_cpu\n",
    "    for i in range(n_sample):\n",
    "        t_start = time()\n",
    "        _ = driv.simulate(gal, Nim, downsample=downsample, psf=psf, **kwargs)\n",
    "        times.append(time() - t_start)\n",
    "        if times[-1] > max_time_sample:\n",
    "            break\n",
    "    return np.median(times), times"
   ]
  },
  {
   "cell_type": "code",
   "execution_count": 12,
   "metadata": {},
   "outputs": [],
   "source": [
    "def get_times(key):\n",
    "    gpu_str, gal_str, psf_str = key.split('_')\n",
    "    gpu = (gpu_str == 'gpu')\n",
    "    if not gpu: assert gpu_str == 'nogpu'\n",
    "    if gpu:\n",
    "        Nims = Nims_gpu\n",
    "    else:\n",
    "        Nims = Nims_cpu\n",
    "    psf = (psf_str == 'psf')\n",
    "    if not psf: assert psf_str == 'nopsf'\n",
    "    return np.array([time_sim(gals[gal_str], Nim, psf=psf, gpu=gpu)[0] for Nim in tqdm(Nims, desc=key, leave=False)])"
   ]
  },
  {
   "cell_type": "code",
   "execution_count": 13,
   "metadata": {},
   "outputs": [
    {
     "name": "stderr",
     "output_type": "stream",
     "text": []
    }
   ],
   "source": [
    "times = {}\n",
    "for k in ['gpu_ssp_psf', 'gpu_ssp_nopsf', 'gpu_tau_psf', 'gpu_tau_nopsf', 'gpu_taumdf_psf', 'gpu_taumdf_nopsf',\n",
    "          'nogpu_ssp_psf', 'nogpu_ssp_nopsf']:#, 'nogpu_tau_psf', 'nogpu_tau_nopsf']:#, 'nogpu_taumdf_psf', 'nogpu_taumdf_nopsf']:\n",
    "    times[k] = get_times(k)"
   ]
  },
  {
   "cell_type": "code",
   "execution_count": 14,
   "metadata": {},
   "outputs": [
    {
     "data": {
      "text/plain": [
       "{'gpu_ssp_nopsf': [0.5845181941986084,\n",
       "  0.6030337810516357,\n",
       "  0.7266902923583984,\n",
       "  1.1738195419311523,\n",
       "  3.1556358337402344],\n",
       " 'gpu_ssp_psf': [0.6455440521240234,\n",
       "  0.7137446403503418,\n",
       "  0.9053528308868408,\n",
       "  1.6028242111206055,\n",
       "  4.711624383926392],\n",
       " 'gpu_tau_nopsf': [0.7347838878631592,\n",
       "  0.7846665382385254,\n",
       "  0.9787137508392334,\n",
       "  1.9118716716766357,\n",
       "  5.578387022018433],\n",
       " 'gpu_tau_psf': [0.7968916893005371,\n",
       "  0.8900868892669678,\n",
       "  1.1814332008361816,\n",
       "  2.3354785442352295,\n",
       "  7.137518882751465],\n",
       " 'gpu_taumdf_nopsf': [1.618697166442871,\n",
       "  1.9520673751831055,\n",
       "  3.4551165103912354,\n",
       "  9.348565578460693,\n",
       "  33.329111099243164],\n",
       " 'gpu_taumdf_psf': [1.6548843383789062,\n",
       "  2.031461000442505,\n",
       "  3.611848831176758,\n",
       "  9.793633937835693,\n",
       "  34.954856157302856],\n",
       " 'nogpu_ssp_nopsf': [0.41502857208251953, 1.6655681133270264],\n",
       " 'nogpu_ssp_psf': [0.47525763511657715, 1.7588920593261719]}"
      ]
     },
     "execution_count": 14,
     "metadata": {},
     "output_type": "execute_result"
    }
   ],
   "source": [
    "times"
   ]
  },
  {
   "cell_type": "code",
   "execution_count": 40,
   "metadata": {},
   "outputs": [
    {
     "data": {
      "text/plain": [
       "Text(0,0.5,'Simulation Time (s)')"
      ]
     },
     "execution_count": 40,
     "metadata": {},
     "output_type": "execute_result"
    },
    {
     "data": {
      "image/png": "[encoded data removed]",
      "text/plain": [
       "<Figure size 576x360 with 1 Axes>"
      ]
     },
     "metadata": {},
     "output_type": "display_data"
    }
   ],
   "source": [
    "fig, ax = plt.subplots(figsize=(8,5))\n",
    "ax.plot(Nims_cpu, times['nogpu_ssp_psf'], color='r')\n",
    "ax.plot(Nims_gpu, times['gpu_ssp_psf'], color='b')\n",
    "ax.plot(Nims_cpu, times['nogpu_ssp_nopsf'], color='r', ls='--')\n",
    "ax.plot(Nims_gpu, times['gpu_ssp_nopsf'], color='b', ls='--')\n",
    "# ax.plot(Nims_gpu, times['gpu_tau_psf'], color='g')\n",
    "# ax.plot(Nims_gpu, times['gpu_tau_nopsf'], color='g', ls='--')\n",
    "# ax.plot(Nims_gpu, times['gpu_taumdf_psf'], color='k')\n",
    "# ax.plot(Nims_gpu, times['gpu_taumdf_nopsf'], color='k', ls='--')\n",
    "ax.set_xscale('log')\n",
    "ax.set_xticklabels([128, 256, 512, 1024, 2048])\n",
    "ax.minorticks_off()\n",
    "ax.set_xticks([128, 256, 512, 1024, 2048])\n",
    "ax.set_xlabel(r'$\\mathrm{N}_\\mathrm{im}$')\n",
    "ax.set_ylabel('Simulation Time (s)')"
   ]
  },
  {
   "cell_type": "code",
   "execution_count": 43,
   "metadata": {},
   "outputs": [
    {
     "data": {
      "text/plain": [
       "array([2.56354982, 2.84620141, 3.98943783, 6.11023584, 7.41885458])"
      ]
     },
     "execution_count": 43,
     "metadata": {},
     "output_type": "execute_result"
    }
   ],
   "source": [
    "np.array(times['gpu_taumdf_psf'])/np.array(times['gpu_ssp_psf'])"
   ]
  },
  {
   "cell_type": "code",
   "execution_count": 44,
   "metadata": {},
   "outputs": [
    {
     "data": {
      "text/plain": [
       "array([1.23444974, 1.2470663 , 1.30494229, 1.45710211, 1.51487434])"
      ]
     },
     "execution_count": 44,
     "metadata": {},
     "output_type": "execute_result"
    }
   ],
   "source": [
    "np.array(times['gpu_tau_psf'])/np.array(times['gpu_ssp_psf'])"
   ]
  },
  {
   "cell_type": "code",
   "execution_count": 42,
   "metadata": {},
   "outputs": [
    {
     "data": {
      "text/plain": [
       "Text(0,0.5,'Simulation Time (s)')"
      ]
     },
     "execution_count": 42,
     "metadata": {},
     "output_type": "execute_result"
    },
    {
     "data": {
      "image/png": "[encoded data removed]",
      "text/plain": [
       "<Figure size 576x360 with 1 Axes>"
      ]
     },
     "metadata": {},
     "output_type": "display_data"
    }
   ],
   "source": [
    "fig, ax = plt.subplots(figsize=(8,5))\n",
    "ax.plot(Nims_gpu, np.array(times['gpu_taumdf_psf'])/np.array(times['gpu_ssp_psf']), color='b')\n",
    "# ax.plot(Nims_gpu, times['gpu_ssp_nopsf'], color='b', ls='--')\n",
    "# ax.plot(Nims_gpu, times['gpu_tau_psf'], color='g')\n",
    "# ax.plot(Nims_gpu, times['gpu_tau_nopsf'], color='g', ls='--')\n",
    "# ax.plot(Nims_gpu, times['gpu_taumdf_psf'], color='k')\n",
    "# ax.plot(Nims_gpu, times['gpu_taumdf_nopsf'], color='k', ls='--')\n",
    "ax.axhline(y=len(imf_taumdf)/len(imf_ssp))\n",
    "ax.set_xscale('log')\n",
    "ax.set_xticklabels([128, 256, 512, 1024, 2048])\n",
    "ax.minorticks_off()\n",
    "ax.set_xticks([128, 256, 512, 1024, 2048])\n",
    "ax.set_xlabel(r'$\\mathrm{N}_\\mathrm{im}$')\n",
    "ax.set_ylabel('Simulation Time (s)')"
   ]
  },
  {
   "cell_type": "code",
   "execution_count": null,
   "metadata": {},
   "outputs": [],
   "source": []
  },
  {
   "cell_type": "code",
   "execution_count": 34,
   "metadata": {},
   "outputs": [
    {
     "data": {
      "text/plain": [
       "5.990540256464158"
      ]
     },
     "execution_count": 34,
     "metadata": {},
     "output_type": "execute_result"
    }
   ],
   "source": [
    "len(imf_taumdf) / len(imf_tau)"
   ]
  },
  {
   "cell_type": "code",
   "execution_count": 32,
   "metadata": {},
   "outputs": [
    {
     "data": {
      "text/plain": [
       "array([2.07667411, 2.28231763, 3.05717566, 4.19341636, 4.89733992])"
      ]
     },
     "execution_count": 32,
     "metadata": {},
     "output_type": "execute_result"
    }
   ],
   "source": [
    "np.array(times['gpu_taumdf_psf']) / np.array(times['gpu_tau_psf'])"
   ]
  },
  {
   "cell_type": "code",
   "execution_count": 33,
   "metadata": {},
   "outputs": [
    {
     "data": {
      "text/plain": [
       "array([1.23444974, 1.2470663 , 1.30494229, 1.45710211, 1.51487434])"
      ]
     },
     "execution_count": 33,
     "metadata": {},
     "output_type": "execute_result"
    }
   ],
   "source": [
    "np.array(times['gpu_tau_psf']) / np.array(times['gpu_ssp_psf'])"
   ]
  },
  {
   "cell_type": "code",
   "execution_count": null,
   "metadata": {},
   "outputs": [],
   "source": []
  }
 ],
 "metadata": {
  "kernelspec": {
   "display_name": "Python 3",
   "language": "python",
   "name": "python3"
  },
  "language_info": {
   "codemirror_mode": {
    "name": "ipython",
    "version": 3
   },
   "file_extension": ".py",
   "mimetype": "text/x-python",
   "name": "python",
   "nbconvert_exporter": "python",
   "pygments_lexer": "ipython3",
   "version": "3.6.4"
  }
 },
 "nbformat": 4,
 "nbformat_minor": 2
}
