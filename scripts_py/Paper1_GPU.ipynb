{
 "cells": [
  {
   "cell_type": "code",
   "execution_count": 1,
   "metadata": {},
   "outputs": [],
   "source": [
    "import numpy as np, matplotlib as mpl, matplotlib.pyplot as plt\n",
    "from time import time\n",
    "from tqdm import tqdm as tqdm\n",
    "import pcmdpy_gpu as ppy\n",
    "%matplotlib inline"
   ]
  },
  {
   "cell_type": "code",
   "execution_count": 2,
   "metadata": {},
   "outputs": [],
   "source": [
    "mpl.style.use('seaborn-poster')"
   ]
  },
  {
   "cell_type": "code",
   "execution_count": 3,
   "metadata": {},
   "outputs": [],
   "source": [
    "f = ppy.instrument.default_m31_filters()\n",
    "iso_model = ppy.isochrones.Isochrone_Model(f)\n",
    "driv_cpu = ppy.driver.Driver(iso_model, gpu=False)\n",
    "driv_gpu = ppy.driver.Driver(iso_model, gpu=True)"
   ]
  },
  {
   "cell_type": "code",
   "execution_count": 4,
   "metadata": {},
   "outputs": [],
   "source": [
    "gals = {}\n",
    "gals['ssp'] = ppy.galaxy.SSPSimple(np.array([0., -2., 2.0, 10.]), dmod=26.0)\n",
    "gals['tau'] = ppy.galaxy.CustomGalaxy(\n",
    "    'single',\n",
    "    'single',\n",
    "    'tau',\n",
    "    'variable',\n",
    "    initial_params=np.array([0., -2.0, 2.0, 3.0, 26.0])\n",
    ")\n",
    "gals['taumdf'] = ppy.galaxy.TauFull(np.array([0., -2.0, 2.0, 3.0, 26.0]))"
   ]
  },
  {
   "cell_type": "code",
   "execution_count": 5,
   "metadata": {},
   "outputs": [
    {
     "name": "stdout",
     "output_type": "stream",
     "text": [
      "CPU times: user 12.3 ms, sys: 1.06 ms, total: 13.4 ms\n",
      "Wall time: 13 ms\n"
     ]
    }
   ],
   "source": [
    "%%time\n",
    "imf_ssp, _ = iso_model.model_galaxy(gals['ssp'], downsample=5);"
   ]
  },
  {
   "cell_type": "code",
   "execution_count": 6,
   "metadata": {},
   "outputs": [
    {
     "name": "stdout",
     "output_type": "stream",
     "text": [
      "CPU times: user 218 ms, sys: 19.6 ms, total: 237 ms\n",
      "Wall time: 235 ms\n"
     ]
    }
   ],
   "source": [
    "%%time\n",
    "imf_tau, _ = iso_model.model_galaxy(gals['tau'], downsample=5)"
   ]
  },
  {
   "cell_type": "code",
   "execution_count": 7,
   "metadata": {},
   "outputs": [
    {
     "name": "stdout",
     "output_type": "stream",
     "text": [
      "CPU times: user 1.48 s, sys: 3.51 ms, total: 1.48 s\n",
      "Wall time: 1.48 s\n"
     ]
    }
   ],
   "source": [
    "%%time\n",
    "imf_taumdf, _ = iso_model.model_galaxy(gals['taumdf'], downsample=5)"
   ]
  },
  {
   "cell_type": "code",
   "execution_count": 8,
   "metadata": {},
   "outputs": [
    {
     "data": {
      "text/plain": [
       "(295, 4757, 28497)"
      ]
     },
     "execution_count": 8,
     "metadata": {},
     "output_type": "execute_result"
    }
   ],
   "source": [
    "len(imf_ssp), len(imf_tau), len(imf_taumdf)"
   ]
  },
  {
   "cell_type": "code",
   "execution_count": 9,
   "metadata": {},
   "outputs": [],
   "source": [
    "N_cpu = [128, 256, 512]\n",
    "N_gpu = [128, 256, 512, 1024, 2048, 4096]"
   ]
  },
  {
   "cell_type": "code",
   "execution_count": 12,
   "metadata": {},
   "outputs": [],
   "source": [
    "def time_sim(gal, Nim, psf, gpu, n_sample=5, max_time_sample=10., downsample=5, **kwargs):\n",
    "    times = []\n",
    "    if gpu:\n",
    "        driv = driv_gpu\n",
    "        # get GPU warmed up\n",
    "        _ = driv_gpu.simulate(gal, 128, psf=False, downsample=10)\n",
    "    else:\n",
    "        driv = driv_cpu\n",
    "    for i in range(n_sample):\n",
    "        t_start = time()\n",
    "        _ = driv.simulate(gal, Nim, downsample=downsample, psf=psf, shot_noise=False, sky_noise=None, **kwargs)\n",
    "        times.append(time() - t_start)\n",
    "        if times[-1] > max_time_sample:\n",
    "            break\n",
    "    return np.median(times), times"
   ]
  },
  {
   "cell_type": "code",
   "execution_count": 13,
   "metadata": {},
   "outputs": [],
   "source": [
    "def get_times(key):\n",
    "    gpu_str, gal_str, psf_str = key.split('_')\n",
    "    gpu = (gpu_str == 'gpu')\n",
    "    if not gpu: assert gpu_str == 'nogpu'\n",
    "    if gpu:\n",
    "        Nims = Nims_gpu\n",
    "    else:\n",
    "        Nims = Nims_cpu\n",
    "    psf = (psf_str == 'psf')\n",
    "    if not psf: assert psf_str == 'nopsf'\n",
    "    return np.array([time_sim(gals[gal_str], Nim, psf=psf, gpu=gpu)[0] for Nim in tqdm(Nims, desc=key, leave=False)])"
   ]
  },
  {
   "cell_type": "markdown",
   "metadata": {},
   "source": [
    "# GPU Speedup"
   ]
  },
  {
   "cell_type": "code",
   "execution_count": 14,
   "metadata": {},
   "outputs": [
    {
     "name": "stderr",
     "output_type": "stream",
     "text": [
      "100%|██████████| 3/3 [00:43<00:00, 11.98s/it]\n"
     ]
    }
   ],
   "source": [
    "t_cpu = []\n",
    "for N in tqdm(N_cpu):\n",
    "    t_cpu.append(time_sim(gals['ssp'], N, psf=True, gpu=False, n_sample=10, downsample=5)[0])"
   ]
  },
  {
   "cell_type": "code",
   "execution_count": 15,
   "metadata": {},
   "outputs": [
    {
     "name": "stderr",
     "output_type": "stream",
     "text": [
      "100%|██████████| 6/6 [01:56<00:00, 22.75s/it]\n"
     ]
    }
   ],
   "source": [
    "t_gpu = []\n",
    "for N in tqdm(N_gpu):\n",
    "    t_gpu.append(time_sim(gals['ssp'], N, psf=True, gpu=True, n_sample=10, downsample=5, max_time_sample=10.)[0])"
   ]
  },
  {
   "cell_type": "code",
   "execution_count": 60,
   "metadata": {},
   "outputs": [
    {
     "data": {
      "image/png": "[encoded data removed]",
      "text/plain": [
       "<Figure size 504x360 with 1 Axes>"
      ]
     },
     "metadata": {},
     "output_type": "display_data"
    }
   ],
   "source": [
    "fig, axis = plt.subplots(figsize=(7,5))\n",
    "axis.plot(N_cpu, t_cpu, 'ko-', label='CPU')\n",
    "axis.plot(N_gpu, t_gpu, 'rD-', label='GPU', mfc='w', mew=3)\n",
    "# axis.plot(N_cpu, t_cpu[-1] * (np.array(N_cpu) / N_cpu[-1])**2, 'k--')\n",
    "# axis.plot(N_gpu, t_gpu[-1] * (np.array(N_gpu) / N_gpu[-1])**2, 'r--')\n",
    "axis.set_xscale('log')\n",
    "axis.set_xticks([128, 256, 512, 1024, 2048, 4096])\n",
    "axis.set_xticks([], minor=True)\n",
    "axis.set_xticklabels([128, 256, 512, 1024, 2048, 4096])\n",
    "axis.set_yscale('log')\n",
    "\n",
    "# axis.set_ylim(ymin=3e-1)\n",
    "\n",
    "axis.legend(loc=0)\n",
    "axis.set_xlabel(r'$\\mathrm{N_{im}}$')\n",
    "axis.set_ylabel('Simulation Time (s)')\n",
    "plt.tight_layout()\n",
    "plt.savefig('figures/paper1/gpu_speedup.pdf')"
   ]
  },
  {
   "cell_type": "markdown",
   "metadata": {},
   "source": [
    "# GPU Scaling"
   ]
  },
  {
   "cell_type": "code",
   "execution_count": 17,
   "metadata": {},
   "outputs": [],
   "source": [
    "imf_, mags_ = iso_model.model_galaxy(gals['taumdf'], downsample=1)"
   ]
  },
  {
   "cell_type": "code",
   "execution_count": 18,
   "metadata": {},
   "outputs": [],
   "source": [
    "imf = np.tile(imf_, 10)\n",
    "mags = np.tile(mags_, 10)"
   ]
  },
  {
   "cell_type": "code",
   "execution_count": 19,
   "metadata": {},
   "outputs": [],
   "source": [
    "fluxes = np.array([filt.mag_to_counts(m) for filt,m in zip(f, mags)])"
   ]
  },
  {
   "cell_type": "code",
   "execution_count": 29,
   "metadata": {},
   "outputs": [],
   "source": [
    "def draw(Niso, Nim=1024, gpu=True, psf=True):\n",
    "    imf_temp = imf[:Niso]\n",
    "    fluxes_temp = fluxes[:, :Niso]\n",
    "    dust_frac, dust_mean, dust_std = gals['taumdf'].dust_model.get_props()\n",
    "    images = ppy.gpu_utils.draw_image(imf_temp, fluxes_temp, Nim, f, dust_frac, dust_mean, dust_std, gpu=gpu, fixed_seed=False)\n",
    "    if psf:\n",
    "        images = np.array([filt.psf_convolve(im) for filt,im in zip(f, images)])\n",
    "    images += 1e-3\n",
    "    mags = np.array([filt.counts_to_mag(im.flatten()) for filt,im in zip(f, images)])\n",
    "    pcmd = ppy.utils.make_pcmd(mags)\n",
    "    return pcmd"
   ]
  },
  {
   "cell_type": "code",
   "execution_count": 34,
   "metadata": {},
   "outputs": [],
   "source": [
    "def time_draw(Niso, Nim=1024, gpu=True, psf=True, n_sample=5, t_max=10.):\n",
    "    times = []\n",
    "    if gpu:\n",
    "        # get GPU warmed up\n",
    "        _ = driv_gpu.simulate(gals['ssp'], 128, psf=False, downsample=10)\n",
    "    for i in range(n_sample):\n",
    "        t_start = time()\n",
    "        _ = draw(Niso, Nim=Nim, gpu=gpu, psf=psf)\n",
    "        times.append(time() - t_start)\n",
    "        if times[-1] > t_max:\n",
    "            break\n",
    "    return np.median(times)"
   ]
  },
  {
   "cell_type": "code",
   "execution_count": 31,
   "metadata": {},
   "outputs": [
    {
     "data": {
      "text/plain": [
       "0.9718751907348633"
      ]
     },
     "execution_count": 31,
     "metadata": {},
     "output_type": "execute_result"
    }
   ],
   "source": [
    "time_draw(1000, Nim=512)"
   ]
  },
  {
   "cell_type": "code",
   "execution_count": 33,
   "metadata": {},
   "outputs": [],
   "source": [
    "Niso = [1000, 3000, 10000, 30000, 100000, 300000, 1000000]"
   ]
  },
  {
   "cell_type": "code",
   "execution_count": 35,
   "metadata": {},
   "outputs": [
    {
     "name": "stderr",
     "output_type": "stream",
     "text": [
      "100%|██████████| 7/7 [01:25<00:00, 19.48s/it]\n"
     ]
    }
   ],
   "source": [
    "t_128 = [time_draw(N, Nim=128) for N in tqdm(Niso)]"
   ]
  },
  {
   "cell_type": "code",
   "execution_count": 36,
   "metadata": {},
   "outputs": [
    {
     "name": "stderr",
     "output_type": "stream",
     "text": [
      "100%|██████████| 7/7 [03:16<00:00, 41.33s/it]\n"
     ]
    }
   ],
   "source": [
    "t_512 = [time_draw(N, Nim=512) for N in tqdm(Niso)]"
   ]
  },
  {
   "cell_type": "code",
   "execution_count": 37,
   "metadata": {},
   "outputs": [
    {
     "name": "stderr",
     "output_type": "stream",
     "text": [
      "100%|██████████| 7/7 [08:46<00:00, 130.22s/it]\n"
     ]
    }
   ],
   "source": [
    "t_1024 = [time_draw(N, Nim=1024) for N in tqdm(Niso)]"
   ]
  },
  {
   "cell_type": "code",
   "execution_count": 38,
   "metadata": {},
   "outputs": [
    {
     "data": {
      "text/plain": [
       "[0.6356980800628662,\n",
       " 0.6508026123046875,\n",
       " 0.7086505889892578,\n",
       " 0.8730587959289551,\n",
       " 1.4464240074157715,\n",
       " 3.090702772140503,\n",
       " 8.831433296203613]"
      ]
     },
     "execution_count": 38,
     "metadata": {},
     "output_type": "execute_result"
    }
   ],
   "source": [
    "t_128"
   ]
  },
  {
   "cell_type": "code",
   "execution_count": 39,
   "metadata": {},
   "outputs": [
    {
     "data": {
      "text/plain": [
       "[0.9764828681945801,\n",
       " 1.1411375999450684,\n",
       " 1.721299171447754,\n",
       " 3.387173652648926,\n",
       " 9.196478366851807,\n",
       " 25.755529165267944,\n",
       " 84.21068239212036]"
      ]
     },
     "execution_count": 39,
     "metadata": {},
     "output_type": "execute_result"
    }
   ],
   "source": [
    "t_512"
   ]
  },
  {
   "cell_type": "code",
   "execution_count": 40,
   "metadata": {},
   "outputs": [
    {
     "data": {
      "text/plain": [
       "[1.9652273654937744,\n",
       " 2.6107308864593506,\n",
       " 4.901810884475708,\n",
       " 11.459131002426147,\n",
       " 34.42199754714966,\n",
       " 99.82114744186401,\n",
       " 329.0714294910431]"
      ]
     },
     "execution_count": 40,
     "metadata": {},
     "output_type": "execute_result"
    }
   ],
   "source": [
    "t_1024"
   ]
  },
  {
   "cell_type": "code",
   "execution_count": 62,
   "metadata": {},
   "outputs": [
    {
     "data": {
      "image/png": "[encoded data removed]",
      "text/plain": [
       "<Figure size 504x360 with 1 Axes>"
      ]
     },
     "metadata": {},
     "output_type": "display_data"
    }
   ],
   "source": [
    "fig, axis = plt.subplots(figsize=(7,5))\n",
    "axis.plot(Niso, t_128, 'ko-', label=r'$\\mathrm{N_{im}}$=128')\n",
    "axis.plot(Niso, t_512, 'rD-', label=r'$\\mathrm{N_{im}}$=512', mfc='w', mew=3)\n",
    "axis.plot(Niso, t_1024, 'bs-', label=r'$\\mathrm{N_{im}}$=1024', mfc='w', mew=3)\n",
    "\n",
    "axis.set_xlabel(r'$\\mathrm{N_{iso}}$')\n",
    "axis.set_ylabel('Simulation Time (s)')\n",
    "axis.set_xscale('log')\n",
    "axis.set_yscale('log')\n",
    "axis.legend(loc=0)\n",
    "plt.savefig('figures/paper1/gpu_scaling.pdf')"
   ]
  },
  {
   "cell_type": "code",
   "execution_count": null,
   "metadata": {},
   "outputs": [],
   "source": []
  }
 ],
 "metadata": {
  "kernelspec": {
   "display_name": "Python 3",
   "language": "python",
   "name": "python3"
  },
  "language_info": {
   "codemirror_mode": {
    "name": "ipython",
    "version": 3
   },
   "file_extension": ".py",
   "mimetype": "text/x-python",
   "name": "python",
   "nbconvert_exporter": "python",
   "pygments_lexer": "ipython3",
   "version": "3.6.1"
  }
 },
 "nbformat": 4,
 "nbformat_minor": 2
}
