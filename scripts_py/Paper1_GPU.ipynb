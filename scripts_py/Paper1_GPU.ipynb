{
 "cells": [
  {
   "cell_type": "code",
   "execution_count": 1,
   "metadata": {},
   "outputs": [],
   "source": [
    "import numpy as np, matplotlib as mpl, matplotlib.pyplot as plt\n",
    "from time import time\n",
    "from tqdm import tqdm as tqdm\n",
    "import pcmdpy_gpu as ppy\n",
    "%matplotlib inline"
   ]
  },
  {
   "cell_type": "code",
   "execution_count": 2,
   "metadata": {},
   "outputs": [
    {
     "data": {
      "text/plain": [
       "'0.8.5'"
      ]
     },
     "execution_count": 2,
     "metadata": {},
     "output_type": "execute_result"
    }
   ],
   "source": [
    "ppy.__version__"
   ]
  },
  {
   "cell_type": "code",
   "execution_count": 3,
   "metadata": {},
   "outputs": [],
   "source": [
    "mpl.style.use('seaborn-poster')"
   ]
  },
  {
   "cell_type": "code",
   "execution_count": 4,
   "metadata": {},
   "outputs": [
    {
     "name": "stderr",
     "output_type": "stream",
     "text": [
      "Please wait while the GPU states are initialized"
     ]
    }
   ],
   "source": [
    "f = ppy.instrument.default_m31_filters()\n",
    "iso_model = ppy.isochrones.Isochrone_Model(f)\n",
    "driv_cpu = ppy.driver.Driver(iso_model, gpu=False)\n",
    "driv_gpu = ppy.driver.Driver(iso_model, max_Nim=4096, gpu=True)"
   ]
  },
  {
   "cell_type": "code",
   "execution_count": 5,
   "metadata": {},
   "outputs": [],
   "source": [
    "gals = {}\n",
    "gals['ssp'] = ppy.galaxy.SSPSimple(np.array([0., -2., 2.0, 10.]), dmod=26.0)\n",
    "gals['tau'] = ppy.galaxy.CustomGalaxy(\n",
    "    'single',\n",
    "    'single',\n",
    "    'tau',\n",
    "    'variable',\n",
    "    initial_params=np.array([0., -2.0, 2.0, 3.0, 26.0])\n",
    ")\n",
    "gals['taumdf'] = ppy.galaxy.TauFull(np.array([0., -2.0, 2.0, 3.0, 26.0]))"
   ]
  },
  {
   "cell_type": "code",
   "execution_count": 6,
   "metadata": {},
   "outputs": [
    {
     "name": "stdout",
     "output_type": "stream",
     "text": [
      "CPU times: user 2.46 s, sys: 65.6 ms, total: 2.52 s\n",
      "Wall time: 2.52 s\n"
     ]
    }
   ],
   "source": [
    "%%time\n",
    "imf_taumdf, _ = iso_model.model_galaxy(gals['taumdf'], downsample=5)"
   ]
  },
  {
   "cell_type": "code",
   "execution_count": 7,
   "metadata": {},
   "outputs": [
    {
     "data": {
      "text/plain": [
       "28497"
      ]
     },
     "execution_count": 7,
     "metadata": {},
     "output_type": "execute_result"
    }
   ],
   "source": [
    "len(imf_taumdf)"
   ]
  },
  {
   "cell_type": "code",
   "execution_count": 8,
   "metadata": {},
   "outputs": [],
   "source": [
    "N_cpu = [128, 256, 512, 1024]\n",
    "N_gpu = [128, 256, 512, 1024, 2048, 4096]"
   ]
  },
  {
   "cell_type": "code",
   "execution_count": 9,
   "metadata": {},
   "outputs": [],
   "source": [
    "def time_sim(gal, Nim, psf, gpu, n_sample=5, max_time_sample=10., downsample=5, **kwargs):\n",
    "    times = []\n",
    "    if gpu:\n",
    "        driv = driv_gpu\n",
    "        # get GPU warmed up\n",
    "        _ = driv_gpu.simulate(gal, 128, psf=False, downsample=10)\n",
    "    else:\n",
    "        driv = driv_cpu\n",
    "    for i in range(n_sample):\n",
    "        t_start = time()\n",
    "        _ = driv.simulate(gal, Nim, downsample=downsample, psf=psf, fixed_seed=True, shot_noise=False, sky_noise=None, **kwargs)\n",
    "        times.append(time() - t_start)\n",
    "        if times[-1] > max_time_sample:\n",
    "            break\n",
    "    return np.median(times), times"
   ]
  },
  {
   "cell_type": "code",
   "execution_count": 10,
   "metadata": {},
   "outputs": [],
   "source": [
    "def get_times(key):\n",
    "    gpu_str, gal_str, psf_str = key.split('_')\n",
    "    gpu = (gpu_str == 'gpu')\n",
    "    if not gpu: assert gpu_str == 'nogpu'\n",
    "    if gpu:\n",
    "        Nims = Nims_gpu\n",
    "    else:\n",
    "        Nims = Nims_cpu\n",
    "    psf = (psf_str == 'psf')\n",
    "    if not psf: assert psf_str == 'nopsf'\n",
    "    return np.array([time_sim(gals[gal_str], Nim, psf=psf, gpu=gpu)[0] for Nim in tqdm(Nims, desc=key, leave=False)])"
   ]
  },
  {
   "cell_type": "markdown",
   "metadata": {},
   "source": [
    "# GPU Speedup"
   ]
  },
  {
   "cell_type": "code",
   "execution_count": 11,
   "metadata": {},
   "outputs": [
    {
     "name": "stderr",
     "output_type": "stream",
     "text": [
      "100%|██████████| 4/4 [01:52<00:00, 27.60s/it]\n"
     ]
    }
   ],
   "source": [
    "t_cpu = []\n",
    "for N in tqdm(N_cpu):\n",
    "    t_cpu.append(time_sim(gals['ssp'], N, psf=True, gpu=False, n_sample=10, downsample=5)[0])"
   ]
  },
  {
   "cell_type": "code",
   "execution_count": 12,
   "metadata": {},
   "outputs": [
    {
     "name": "stderr",
     "output_type": "stream",
     "text": [
      "100%|██████████| 6/6 [01:32<00:00, 19.55s/it]\n"
     ]
    }
   ],
   "source": [
    "t_gpu = []\n",
    "for N in tqdm(N_gpu):\n",
    "    t_gpu.append(time_sim(gals['ssp'], N, psf=True, gpu=True, n_sample=10, downsample=5, max_time_sample=10.)[0])"
   ]
  },
  {
   "cell_type": "code",
   "execution_count": 26,
   "metadata": {},
   "outputs": [
    {
     "data": {
      "image/png": "[encoded data removed]",
      "text/plain": [
       "<Figure size 504x360 with 1 Axes>"
      ]
     },
     "metadata": {},
     "output_type": "display_data"
    }
   ],
   "source": [
    "fig, axis = plt.subplots(figsize=(7,5))\n",
    "axis.plot(N_cpu, t_cpu, 'ko-', label='CPU')\n",
    "axis.plot(N_gpu, t_gpu, 'rD-', label='GPU')\n",
    "# axis.plot(N_gpu[2], t_gpu[2], 'rD-', mfc='w', mew=3)\n",
    "# axis.plot(N_cpu[2], t_cpu[2], 'ko-', mfc='w', mew=3)\n",
    "# axis.plot(N_gpu, t_gpu_tau, 'rD--', label='GPU (Tau Model)', mfc='w', mew=3)\n",
    "# axis.plot(N_gpu, t_gpu_taumdf, 'rs:', label='GPU (Tau MDF Model)', mfc='w', mew=3)\n",
    "# axis.plot(N_cpu, t_cpu[-1] * (np.array(N_cpu) / N_cpu[-1])**2, 'k--')\n",
    "# axis.plot(N_gpu, t_gpu[-1] * (np.array(N_gpu) / N_gpu[-1])**2, 'r--')\n",
    "axis.axvline(x=512, ls='--', color='k', zorder=-1)\n",
    "axis.set_xscale('log')\n",
    "axis.set_xticks([128, 256, 512, 1024, 2048, 4096])\n",
    "axis.set_xticks([], minor=True)\n",
    "axis.set_xticklabels([128, 256, 512, 1024, 2048, 4096])\n",
    "axis.set_yscale('log')\n",
    "\n",
    "# axis.set_ylim(ymin=3e-1)\n",
    "\n",
    "axis.legend(loc=0)\n",
    "axis.set_xlabel(r'$\\mathrm{N_{im}}$')\n",
    "axis.set_ylabel('SSP Model Draw Time (s)')\n",
    "plt.tight_layout()\n",
    "plt.savefig('figures/paper1/gpu_speedup.pdf')"
   ]
  },
  {
   "cell_type": "code",
   "execution_count": 24,
   "metadata": {},
   "outputs": [
    {
     "data": {
      "text/plain": [
       "array([ 4.20630733, 13.45348712, 34.21922692, 47.76036932])"
      ]
     },
     "execution_count": 24,
     "metadata": {},
     "output_type": "execute_result"
    }
   ],
   "source": [
    "np.array(t_cpu) / np.array(t_gpu[:-2])"
   ]
  },
  {
   "cell_type": "code",
   "execution_count": 25,
   "metadata": {},
   "outputs": [
    {
     "name": "stdout",
     "output_type": "stream",
     "text": [
      "Thu Jan 24 16:37:51 2019       \n",
      "+-----------------------------------------------------------------------------+\n",
      "| NVIDIA-SMI 410.79       Driver Version: 410.79       CUDA Version: 10.0     |\n",
      "|-------------------------------+----------------------+----------------------+\n",
      "| GPU  Name        Persistence-M| Bus-Id        Disp.A | Volatile Uncorr. ECC |\n",
      "| Fan  Temp  Perf  Pwr:Usage/Cap|         Memory-Usage | GPU-Util  Compute M. |\n",
      "|===============================+======================+======================|\n",
      "|   0  Tesla K40m          Off  | 00000000:42:00.0 Off |                    0 |\n",
      "| N/A   47C    P0    61W / 235W |   1774MiB / 11441MiB |      0%      Default |\n",
      "+-------------------------------+----------------------+----------------------+\n",
      "                                                                               \n",
      "+-----------------------------------------------------------------------------+\n",
      "| Processes:                                                       GPU Memory |\n",
      "|  GPU       PID   Type   Process name                             Usage      |\n",
      "|=============================================================================|\n",
      "|    0     10457      C   ...ome01/bcook/.conda/envs/py36/bin/python  1763MiB |\n",
      "+-----------------------------------------------------------------------------+\n"
     ]
    }
   ],
   "source": [
    "!nvidia-smi"
   ]
  },
  {
   "cell_type": "code",
   "execution_count": 27,
   "metadata": {},
   "outputs": [
    {
     "name": "stderr",
     "output_type": "stream",
     "text": [
      "100%|██████████| 6/6 [02:47<00:00, 35.92s/it]\n"
     ]
    }
   ],
   "source": [
    "t_gpu_tau = []\n",
    "for N in tqdm(N_gpu):\n",
    "    t_gpu_tau.append(time_sim(gals['tau'], N, psf=True, gpu=True, n_sample=10, downsample=5, max_time_sample=10.)[0])"
   ]
  },
  {
   "cell_type": "code",
   "execution_count": 28,
   "metadata": {},
   "outputs": [
    {
     "name": "stderr",
     "output_type": "stream",
     "text": [
      "100%|██████████| 6/6 [05:14<00:00, 66.41s/it]\n"
     ]
    }
   ],
   "source": [
    "t_gpu_taumdf = []\n",
    "for N in tqdm(N_gpu):\n",
    "    t_gpu_taumdf.append(time_sim(gals['taumdf'], N, psf=True, gpu=True, n_sample=10, downsample=5, max_time_sample=10.)[0])"
   ]
  },
  {
   "cell_type": "code",
   "execution_count": 29,
   "metadata": {},
   "outputs": [
    {
     "data": {
      "image/png": "[encoded data removed]",
      "text/plain": [
       "<Figure size 504x360 with 1 Axes>"
      ]
     },
     "metadata": {},
     "output_type": "display_data"
    }
   ],
   "source": [
    "fig, axis = plt.subplots(figsize=(7,5))\n",
    "axis.plot(N_cpu, t_cpu, 'ko-', label='CPU (SSP Model)')\n",
    "axis.plot(N_gpu, t_gpu, 'rD-', label='GPU (SSP Model)')\n",
    "axis.plot(N_gpu, t_gpu_tau, 'rD--', label='GPU (Tau Model)', mfc='w', mew=3)\n",
    "axis.plot(N_gpu, t_gpu_taumdf, 'rs:', label='GPU (Tau MDF Model)', mfc='w', mew=3)\n",
    "axis.axvline(x=512, ls='--', color='k', zorder=-1)\n",
    "axis.set_xscale('log')\n",
    "axis.set_xticks([128, 256, 512, 1024, 2048, 4096])\n",
    "axis.set_xticks([], minor=True)\n",
    "axis.set_xticklabels([128, 256, 512, 1024, 2048, 4096])\n",
    "axis.set_yscale('log')\n",
    "\n",
    "# axis.set_ylim(ymin=3e-1)\n",
    "\n",
    "axis.legend(loc=0)\n",
    "axis.set_xlabel(r'$\\mathrm{N_{im}}$')\n",
    "axis.set_ylabel('Model Draw Time (s)')\n",
    "plt.tight_layout()\n",
    "plt.savefig('figures/paper1/gpu_speedup_all.pdf')"
   ]
  },
  {
   "cell_type": "code",
   "execution_count": null,
   "metadata": {},
   "outputs": [],
   "source": []
  },
  {
   "cell_type": "markdown",
   "metadata": {},
   "source": [
    "# GPU Scaling"
   ]
  },
  {
   "cell_type": "code",
   "execution_count": 16,
   "metadata": {},
   "outputs": [],
   "source": [
    "imf_, mags_ = iso_model.model_galaxy(gals['taumdf'], downsample=1)"
   ]
  },
  {
   "cell_type": "code",
   "execution_count": 17,
   "metadata": {},
   "outputs": [],
   "source": [
    "imf = np.tile(imf_, 10)\n",
    "mags = np.tile(mags_, 10)"
   ]
  },
  {
   "cell_type": "code",
   "execution_count": 18,
   "metadata": {},
   "outputs": [],
   "source": [
    "fluxes = np.array([filt.mag_to_counts(m) for filt,m in zip(f, mags)])"
   ]
  },
  {
   "cell_type": "code",
   "execution_count": 19,
   "metadata": {},
   "outputs": [],
   "source": [
    "def draw(Niso, Nim=1024, gpu=True, psf=True):\n",
    "    imf_temp = imf[:Niso]\n",
    "    fluxes_temp = fluxes[:, :Niso]\n",
    "    dust_frac, dust_mean, dust_std = gals['taumdf'].dust_model.get_props()\n",
    "    images = ppy.gpu_utils.draw_image(imf_temp, fluxes_temp, Nim, f, dust_frac, dust_mean, dust_std, gpu=gpu, fixed_seed=False)\n",
    "    if psf:\n",
    "        images = np.array([filt.psf_convolve(im) for filt,im in zip(f, images)])\n",
    "    images += 1e-3\n",
    "    mags = np.array([filt.counts_to_mag(im.flatten()) for filt,im in zip(f, images)])\n",
    "    pcmd = ppy.utils.make_pcmd(mags)\n",
    "    return pcmd"
   ]
  },
  {
   "cell_type": "code",
   "execution_count": 20,
   "metadata": {},
   "outputs": [],
   "source": [
    "def time_draw(Niso, Nim=1024, gpu=True, psf=True, n_sample=5, t_max=10.):\n",
    "    times = []\n",
    "    if gpu:\n",
    "        # get GPU warmed up\n",
    "        _ = driv_gpu.simulate(gals['ssp'], 128, psf=False, downsample=10)\n",
    "    for i in range(n_sample):\n",
    "        t_start = time()\n",
    "        _ = draw(Niso, Nim=Nim, gpu=gpu, psf=psf)\n",
    "        times.append(time() - t_start)\n",
    "        if times[-1] > t_max:\n",
    "            break\n",
    "    return np.median(times)"
   ]
  },
  {
   "cell_type": "code",
   "execution_count": 21,
   "metadata": {},
   "outputs": [
    {
     "ename": "TypeError",
     "evalue": "_draw_image_gpu() missing 1 required positional argument: 'd_states'",
     "output_type": "error",
     "traceback": [
      "\u001b[0;31m---------------------------------------------------------------------------\u001b[0m",
      "\u001b[0;31mTypeError\u001b[0m                                 Traceback (most recent call last)",
      "\u001b[0;32m<ipython-input-21-46df0747eb4f>\u001b[0m in \u001b[0;36m<module>\u001b[0;34m()\u001b[0m\n\u001b[0;32m----> 1\u001b[0;31m \u001b[0mtime_draw\u001b[0m\u001b[0;34m(\u001b[0m\u001b[0;36m1000\u001b[0m\u001b[0;34m,\u001b[0m \u001b[0mNim\u001b[0m\u001b[0;34m=\u001b[0m\u001b[0;36m512\u001b[0m\u001b[0;34m)\u001b[0m\u001b[0;34m\u001b[0m\u001b[0m\n\u001b[0m",
      "\u001b[0;32m<ipython-input-20-857f85bcd203>\u001b[0m in \u001b[0;36mtime_draw\u001b[0;34m(Niso, Nim, gpu, psf, n_sample, t_max)\u001b[0m\n\u001b[1;32m      6\u001b[0m     \u001b[0;32mfor\u001b[0m \u001b[0mi\u001b[0m \u001b[0;32min\u001b[0m \u001b[0mrange\u001b[0m\u001b[0;34m(\u001b[0m\u001b[0mn_sample\u001b[0m\u001b[0;34m)\u001b[0m\u001b[0;34m:\u001b[0m\u001b[0;34m\u001b[0m\u001b[0m\n\u001b[1;32m      7\u001b[0m         \u001b[0mt_start\u001b[0m \u001b[0;34m=\u001b[0m \u001b[0mtime\u001b[0m\u001b[0;34m(\u001b[0m\u001b[0;34m)\u001b[0m\u001b[0;34m\u001b[0m\u001b[0m\n\u001b[0;32m----> 8\u001b[0;31m         \u001b[0m_\u001b[0m \u001b[0;34m=\u001b[0m \u001b[0mdraw\u001b[0m\u001b[0;34m(\u001b[0m\u001b[0mNiso\u001b[0m\u001b[0;34m,\u001b[0m \u001b[0mNim\u001b[0m\u001b[0;34m=\u001b[0m\u001b[0mNim\u001b[0m\u001b[0;34m,\u001b[0m \u001b[0mgpu\u001b[0m\u001b[0;34m=\u001b[0m\u001b[0mgpu\u001b[0m\u001b[0;34m,\u001b[0m \u001b[0mpsf\u001b[0m\u001b[0;34m=\u001b[0m\u001b[0mpsf\u001b[0m\u001b[0;34m)\u001b[0m\u001b[0;34m\u001b[0m\u001b[0m\n\u001b[0m\u001b[1;32m      9\u001b[0m         \u001b[0mtimes\u001b[0m\u001b[0;34m.\u001b[0m\u001b[0mappend\u001b[0m\u001b[0;34m(\u001b[0m\u001b[0mtime\u001b[0m\u001b[0;34m(\u001b[0m\u001b[0;34m)\u001b[0m \u001b[0;34m-\u001b[0m \u001b[0mt_start\u001b[0m\u001b[0;34m)\u001b[0m\u001b[0;34m\u001b[0m\u001b[0m\n\u001b[1;32m     10\u001b[0m         \u001b[0;32mif\u001b[0m \u001b[0mtimes\u001b[0m\u001b[0;34m[\u001b[0m\u001b[0;34m-\u001b[0m\u001b[0;36m1\u001b[0m\u001b[0;34m]\u001b[0m \u001b[0;34m>\u001b[0m \u001b[0mt_max\u001b[0m\u001b[0;34m:\u001b[0m\u001b[0;34m\u001b[0m\u001b[0m\n",
      "\u001b[0;32m<ipython-input-19-3f1dc4edef5f>\u001b[0m in \u001b[0;36mdraw\u001b[0;34m(Niso, Nim, gpu, psf)\u001b[0m\n\u001b[1;32m      3\u001b[0m     \u001b[0mfluxes_temp\u001b[0m \u001b[0;34m=\u001b[0m \u001b[0mfluxes\u001b[0m\u001b[0;34m[\u001b[0m\u001b[0;34m:\u001b[0m\u001b[0;34m,\u001b[0m \u001b[0;34m:\u001b[0m\u001b[0mNiso\u001b[0m\u001b[0;34m]\u001b[0m\u001b[0;34m\u001b[0m\u001b[0m\n\u001b[1;32m      4\u001b[0m     \u001b[0mdust_frac\u001b[0m\u001b[0;34m,\u001b[0m \u001b[0mdust_mean\u001b[0m\u001b[0;34m,\u001b[0m \u001b[0mdust_std\u001b[0m \u001b[0;34m=\u001b[0m \u001b[0mgals\u001b[0m\u001b[0;34m[\u001b[0m\u001b[0;34m'taumdf'\u001b[0m\u001b[0;34m]\u001b[0m\u001b[0;34m.\u001b[0m\u001b[0mdust_model\u001b[0m\u001b[0;34m.\u001b[0m\u001b[0mget_props\u001b[0m\u001b[0;34m(\u001b[0m\u001b[0;34m)\u001b[0m\u001b[0;34m\u001b[0m\u001b[0m\n\u001b[0;32m----> 5\u001b[0;31m     \u001b[0mimages\u001b[0m \u001b[0;34m=\u001b[0m \u001b[0mppy\u001b[0m\u001b[0;34m.\u001b[0m\u001b[0mgpu_utils\u001b[0m\u001b[0;34m.\u001b[0m\u001b[0mdraw_image\u001b[0m\u001b[0;34m(\u001b[0m\u001b[0mimf_temp\u001b[0m\u001b[0;34m,\u001b[0m \u001b[0mfluxes_temp\u001b[0m\u001b[0;34m,\u001b[0m \u001b[0mNim\u001b[0m\u001b[0;34m,\u001b[0m \u001b[0mf\u001b[0m\u001b[0;34m,\u001b[0m \u001b[0mdust_frac\u001b[0m\u001b[0;34m,\u001b[0m \u001b[0mdust_mean\u001b[0m\u001b[0;34m,\u001b[0m \u001b[0mdust_std\u001b[0m\u001b[0;34m,\u001b[0m \u001b[0mgpu\u001b[0m\u001b[0;34m=\u001b[0m\u001b[0mgpu\u001b[0m\u001b[0;34m,\u001b[0m \u001b[0mfixed_seed\u001b[0m\u001b[0;34m=\u001b[0m\u001b[0;32mFalse\u001b[0m\u001b[0;34m)\u001b[0m\u001b[0;34m\u001b[0m\u001b[0m\n\u001b[0m\u001b[1;32m      6\u001b[0m     \u001b[0;32mif\u001b[0m \u001b[0mpsf\u001b[0m\u001b[0;34m:\u001b[0m\u001b[0;34m\u001b[0m\u001b[0m\n\u001b[1;32m      7\u001b[0m         \u001b[0mimages\u001b[0m \u001b[0;34m=\u001b[0m \u001b[0mnp\u001b[0m\u001b[0;34m.\u001b[0m\u001b[0marray\u001b[0m\u001b[0;34m(\u001b[0m\u001b[0;34m[\u001b[0m\u001b[0mfilt\u001b[0m\u001b[0;34m.\u001b[0m\u001b[0mpsf_convolve\u001b[0m\u001b[0;34m(\u001b[0m\u001b[0mim\u001b[0m\u001b[0;34m)\u001b[0m \u001b[0;32mfor\u001b[0m \u001b[0mfilt\u001b[0m\u001b[0;34m,\u001b[0m\u001b[0mim\u001b[0m \u001b[0;32min\u001b[0m \u001b[0mzip\u001b[0m\u001b[0;34m(\u001b[0m\u001b[0mf\u001b[0m\u001b[0;34m,\u001b[0m \u001b[0mimages\u001b[0m\u001b[0;34m)\u001b[0m\u001b[0;34m]\u001b[0m\u001b[0;34m)\u001b[0m\u001b[0;34m\u001b[0m\u001b[0m\n",
      "\u001b[0;32m/n/home01/bcook/pixcmd/pcmdpy/pcmdpy/simulation/gpu_utils.py\u001b[0m in \u001b[0;36mdraw_image\u001b[0;34m(gpu, *args, **kwargs)\u001b[0m\n\u001b[1;32m    142\u001b[0m     \u001b[0;32melse\u001b[0m\u001b[0;34m:\u001b[0m\u001b[0;34m\u001b[0m\u001b[0m\n\u001b[1;32m    143\u001b[0m         \u001b[0mfunc\u001b[0m \u001b[0;34m=\u001b[0m \u001b[0m_draw_image_numpy\u001b[0m\u001b[0;34m\u001b[0m\u001b[0m\n\u001b[0;32m--> 144\u001b[0;31m     \u001b[0;32mreturn\u001b[0m \u001b[0mfunc\u001b[0m\u001b[0;34m(\u001b[0m\u001b[0;34m*\u001b[0m\u001b[0margs\u001b[0m\u001b[0;34m,\u001b[0m \u001b[0;34m**\u001b[0m\u001b[0mkwargs\u001b[0m\u001b[0;34m)\u001b[0m\u001b[0;34m\u001b[0m\u001b[0m\n\u001b[0m\u001b[1;32m    145\u001b[0m \u001b[0;34m\u001b[0m\u001b[0m\n\u001b[1;32m    146\u001b[0m \u001b[0;34m\u001b[0m\u001b[0m\n",
      "\u001b[0;31mTypeError\u001b[0m: _draw_image_gpu() missing 1 required positional argument: 'd_states'"
     ]
    }
   ],
   "source": [
    "time_draw(1000, Nim=512)"
   ]
  },
  {
   "cell_type": "code",
   "execution_count": null,
   "metadata": {},
   "outputs": [],
   "source": [
    "Niso = [1000, 3000, 10000, 30000, 100000, 300000, 1000000]"
   ]
  },
  {
   "cell_type": "code",
   "execution_count": null,
   "metadata": {},
   "outputs": [],
   "source": [
    "t_128 = [time_draw(N, Nim=128) for N in tqdm(Niso)]"
   ]
  },
  {
   "cell_type": "code",
   "execution_count": null,
   "metadata": {},
   "outputs": [],
   "source": [
    "t_512 = [time_draw(N, Nim=512) for N in tqdm(Niso)]"
   ]
  },
  {
   "cell_type": "code",
   "execution_count": null,
   "metadata": {},
   "outputs": [],
   "source": [
    "t_1024 = [time_draw(N, Nim=1024) for N in tqdm(Niso)]"
   ]
  },
  {
   "cell_type": "code",
   "execution_count": null,
   "metadata": {},
   "outputs": [],
   "source": [
    "t_128"
   ]
  },
  {
   "cell_type": "code",
   "execution_count": null,
   "metadata": {},
   "outputs": [],
   "source": [
    "t_512"
   ]
  },
  {
   "cell_type": "code",
   "execution_count": null,
   "metadata": {},
   "outputs": [],
   "source": [
    "t_1024"
   ]
  },
  {
   "cell_type": "code",
   "execution_count": null,
   "metadata": {},
   "outputs": [],
   "source": [
    "fig, axis = plt.subplots(figsize=(7,5))\n",
    "axis.plot(Niso, t_128, 'ko-', label=r'$\\mathrm{N_{im}}$=128')\n",
    "axis.plot(Niso, t_512, 'rD-', label=r'$\\mathrm{N_{im}}$=512', mfc='w', mew=3)\n",
    "axis.plot(Niso, t_1024, 'bs-', label=r'$\\mathrm{N_{im}}$=1024', mfc='w', mew=3)\n",
    "\n",
    "axis.set_xlabel(r'$\\mathrm{N_{iso}}$')\n",
    "axis.set_ylabel('Simulation Time (s)')\n",
    "axis.set_xscale('log')\n",
    "axis.set_yscale('log')\n",
    "axis.legend(loc=0)\n",
    "plt.savefig('figures/paper1/gpu_scaling.pdf')"
   ]
  },
  {
   "cell_type": "code",
   "execution_count": null,
   "metadata": {},
   "outputs": [],
   "source": []
  }
 ],
 "metadata": {
  "kernelspec": {
   "display_name": "Python 3",
   "language": "python",
   "name": "python3"
  },
  "language_info": {
   "codemirror_mode": {
    "name": "ipython",
    "version": 3
   },
   "file_extension": ".py",
   "mimetype": "text/x-python",
   "name": "python",
   "nbconvert_exporter": "python",
   "pygments_lexer": "ipython3",
   "version": "3.6.1"
  }
 },
 "nbformat": 4,
 "nbformat_minor": 2
}
