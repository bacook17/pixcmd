{
 "cells": [
  {
   "cell_type": "code",
   "execution_count": 1,
   "metadata": {
    "collapsed": true
   },
   "outputs": [],
   "source": [
    "import numpy as np\n",
    "from scipy.stats import dirichlet, gamma\n",
    "import matplotlib.pyplot as plt\n",
    "import seaborn.apionly as sns\n",
    "%matplotlib inline"
   ]
  },
  {
   "cell_type": "code",
   "execution_count": 39,
   "metadata": {
    "collapsed": true
   },
   "outputs": [],
   "source": [
    "D = 8\n",
    "N = 100000"
   ]
  },
  {
   "cell_type": "code",
   "execution_count": 40,
   "metadata": {},
   "outputs": [
    {
     "data": {
      "text/plain": [
       "array([ 1.,  2.,  3.,  4.,  5.,  6.,  7.,  8.])"
      ]
     },
     "execution_count": 40,
     "metadata": {},
     "output_type": "execute_result"
    }
   ],
   "source": [
    "w = (np.arange(D)+1).astype(float)\n",
    "w"
   ]
  },
  {
   "cell_type": "code",
   "execution_count": 41,
   "metadata": {},
   "outputs": [
    {
     "data": {
      "text/plain": [
       "array([ 1.,  2.,  3.,  4.,  5.,  6.,  7.,  8.])"
      ]
     },
     "execution_count": 41,
     "metadata": {},
     "output_type": "execute_result"
    }
   ],
   "source": [
    "w"
   ]
  },
  {
   "cell_type": "code",
   "execution_count": 50,
   "metadata": {},
   "outputs": [],
   "source": [
    "a = dirichlet.rvs(w, size=N) * w.sum()"
   ]
  },
  {
   "cell_type": "code",
   "execution_count": 51,
   "metadata": {},
   "outputs": [
    {
     "data": {
      "text/plain": [
       "array([[  0.32967419,   5.34361284,   1.63218507, ...,   5.39431681,\n",
       "          1.98169869,   7.92575466],\n",
       "       [  2.04894217,   1.6564486 ,   2.30871292, ...,   6.7135773 ,\n",
       "          2.6419877 ,  12.53236738],\n",
       "       [  3.34506819,   0.88616007,   1.79005717, ...,   3.81796871,\n",
       "          7.73522517,   8.9521592 ],\n",
       "       ..., \n",
       "       [  0.39061659,   1.16735313,   3.81255663, ...,   4.50903227,\n",
       "          6.12629518,   8.97688579],\n",
       "       [  1.40201903,   0.30465909,   5.63279781, ...,   6.78045846,\n",
       "          9.95138114,   8.03968517],\n",
       "       [  1.64050777,   1.08609561,   3.57900931, ...,   4.58102541,\n",
       "          7.51095524,   9.04151569]])"
      ]
     },
     "execution_count": 51,
     "metadata": {},
     "output_type": "execute_result"
    }
   ],
   "source": [
    "a"
   ]
  },
  {
   "cell_type": "code",
   "execution_count": 52,
   "metadata": {},
   "outputs": [
    {
     "data": {
      "text/plain": [
       "<matplotlib.axes._subplots.AxesSubplot at 0x125eac310>"
      ]
     },
     "execution_count": 52,
     "metadata": {},
     "output_type": "execute_result"
    },
    {
     "data": {
      "image/png": "[encoded data removed]",
      "text/plain": [
       "<matplotlib.figure.Figure at 0x125c16410>"
      ]
     },
     "metadata": {},
     "output_type": "display_data"
    }
   ],
   "source": [
    "sns.kdeplot(a[:,0])\n",
    "sns.kdeplot(a[:,1])\n",
    "sns.kdeplot(a[:,2])"
   ]
  },
  {
   "cell_type": "code",
   "execution_count": 53,
   "metadata": {},
   "outputs": [
    {
     "data": {
      "text/plain": [
       "array([[ 0.85024879,  0.80048337,  0.44031382, ...,  0.437643  ,\n",
       "         0.53237815,  0.50542197],\n",
       "       [ 0.33124866,  0.74892425,  0.74475242, ...,  0.25303847,\n",
       "         0.13665065,  0.86919106],\n",
       "       [ 0.2415996 ,  0.15148835,  0.06800372, ...,  0.76782318,\n",
       "         0.33144377,  0.35182359],\n",
       "       ..., \n",
       "       [ 0.32203974,  0.50191546,  0.09841608, ...,  0.65541495,\n",
       "         0.03223398,  0.10366312],\n",
       "       [ 0.54707738,  0.47862472,  0.85373619, ...,  0.68069397,\n",
       "         0.29080466,  0.20958277],\n",
       "       [ 0.9011426 ,  0.91909052,  0.32389137, ...,  0.76516234,\n",
       "         0.76427569,  0.63444894]])"
      ]
     },
     "execution_count": 53,
     "metadata": {},
     "output_type": "execute_result"
    }
   ],
   "source": [
    "b"
   ]
  },
  {
   "cell_type": "code",
   "execution_count": 54,
   "metadata": {},
   "outputs": [],
   "source": [
    "b = np.random.random((N,D))\n",
    "b_ = np.array([gamma.ppf(b[:,i], w[i]) for i in range(D)])\n",
    "# c = (b / np.sum(b, axis=0)).T"
   ]
  },
  {
   "cell_type": "code",
   "execution_count": 55,
   "metadata": {
    "collapsed": true
   },
   "outputs": [],
   "source": [
    "c = (b_ / np.sum(b_, axis=0) * w.sum()).T "
   ]
  },
  {
   "cell_type": "code",
   "execution_count": 56,
   "metadata": {},
   "outputs": [
    {
     "data": {
      "text/plain": [
       "array([[  0.32967419,   5.34361284,   1.63218507, ...,   5.39431681,\n",
       "          1.98169869,   7.92575466],\n",
       "       [  2.04894217,   1.6564486 ,   2.30871292, ...,   6.7135773 ,\n",
       "          2.6419877 ,  12.53236738],\n",
       "       [  3.34506819,   0.88616007,   1.79005717, ...,   3.81796871,\n",
       "          7.73522517,   8.9521592 ],\n",
       "       ..., \n",
       "       [  0.39061659,   1.16735313,   3.81255663, ...,   4.50903227,\n",
       "          6.12629518,   8.97688579],\n",
       "       [  1.40201903,   0.30465909,   5.63279781, ...,   6.78045846,\n",
       "          9.95138114,   8.03968517],\n",
       "       [  1.64050777,   1.08609561,   3.57900931, ...,   4.58102541,\n",
       "          7.51095524,   9.04151569]])"
      ]
     },
     "execution_count": 56,
     "metadata": {},
     "output_type": "execute_result"
    }
   ],
   "source": [
    "a"
   ]
  },
  {
   "cell_type": "code",
   "execution_count": 57,
   "metadata": {},
   "outputs": [
    {
     "data": {
      "text/plain": [
       "array([[  2.45361717,   2.73205618,   2.0380533 , ...,   9.03625407,\n",
       "          6.11138347,   5.14680877],\n",
       "       [  0.2810392 ,   1.21040961,   3.203413  , ...,   6.06905566,\n",
       "          8.28990116,   9.44121519],\n",
       "       [  0.30358745,   1.03711273,   5.08440149, ...,   4.89554318,\n",
       "          6.34814371,   8.15275627],\n",
       "       ..., \n",
       "       [  1.26825473,   5.16185346,   2.72453818, ...,   4.35087345,\n",
       "          5.63323572,   9.2653181 ],\n",
       "       [  0.44671246,   2.54761478,   3.15057805, ...,   6.72064677,\n",
       "          7.75733394,   6.09534654],\n",
       "       [  0.28753576,   1.82720335,   0.41469588, ...,   5.68808448,\n",
       "          5.26539114,  17.11075971]])"
      ]
     },
     "execution_count": 57,
     "metadata": {},
     "output_type": "execute_result"
    }
   ],
   "source": [
    "c"
   ]
  },
  {
   "cell_type": "code",
   "execution_count": 58,
   "metadata": {},
   "outputs": [
    {
     "data": {
      "text/plain": [
       "<matplotlib.axes._subplots.AxesSubplot at 0x1256e0250>"
      ]
     },
     "execution_count": 58,
     "metadata": {},
     "output_type": "execute_result"
    },
    {
     "data": {
      "image/png": "[encoded data removed]",
      "text/plain": [
       "<matplotlib.figure.Figure at 0x126404710>"
      ]
     },
     "metadata": {},
     "output_type": "display_data"
    }
   ],
   "source": [
    "sns.kdeplot(a[:,0])\n",
    "sns.kdeplot(a[:,1])\n",
    "sns.kdeplot(a[:,2])\n",
    "sns.kdeplot(c[:,0], ls='--')\n",
    "sns.kdeplot(c[:,1], ls='--')\n",
    "sns.kdeplot(c[:,2], ls='--')"
   ]
  },
  {
   "cell_type": "code",
   "execution_count": null,
   "metadata": {
    "collapsed": true
   },
   "outputs": [],
   "source": [
    "dirichlet."
   ]
  }
 ],
 "metadata": {
  "kernelspec": {
   "display_name": "Python 2",
   "language": "python",
   "name": "python2"
  }
 },
 "nbformat": 4,
 "nbformat_minor": 2
}
