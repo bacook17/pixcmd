{
 "cells": [
  {
   "cell_type": "code",
   "execution_count": 1,
   "metadata": {},
   "outputs": [
    {
     "ename": "ModuleNotFoundError",
     "evalue": "No module named 'sep'",
     "output_type": "error",
     "traceback": [
      "\u001b[0;31m---------------------------------------------------------------------------\u001b[0m",
      "\u001b[0;31mModuleNotFoundError\u001b[0m                       Traceback (most recent call last)",
      "\u001b[0;32m<ipython-input-1-33caeb93f239>\u001b[0m in \u001b[0;36m<module>\u001b[0;34m()\u001b[0m\n\u001b[1;32m      4\u001b[0m \u001b[0;32mimport\u001b[0m \u001b[0mpandas\u001b[0m \u001b[0;32mas\u001b[0m \u001b[0mpd\u001b[0m\u001b[0;34m\u001b[0m\u001b[0m\n\u001b[1;32m      5\u001b[0m \u001b[0;32mfrom\u001b[0m \u001b[0mastropy\u001b[0m\u001b[0;34m.\u001b[0m\u001b[0mwcs\u001b[0m \u001b[0;32mimport\u001b[0m \u001b[0mWCS\u001b[0m\u001b[0;34m\u001b[0m\u001b[0m\n\u001b[0;32m----> 6\u001b[0;31m \u001b[0;32mimport\u001b[0m \u001b[0msep\u001b[0m\u001b[0;34m\u001b[0m\u001b[0m\n\u001b[0m\u001b[1;32m      7\u001b[0m \u001b[0;32mimport\u001b[0m \u001b[0mpyregion\u001b[0m\u001b[0;34m\u001b[0m\u001b[0m\n\u001b[1;32m      8\u001b[0m \u001b[0mget_ipython\u001b[0m\u001b[0;34m(\u001b[0m\u001b[0;34m)\u001b[0m\u001b[0;34m.\u001b[0m\u001b[0mmagic\u001b[0m\u001b[0;34m(\u001b[0m\u001b[0;34m'matplotlib inline'\u001b[0m\u001b[0;34m)\u001b[0m\u001b[0;34m\u001b[0m\u001b[0m\n",
      "\u001b[0;31mModuleNotFoundError\u001b[0m: No module named 'sep'"
     ]
    }
   ],
   "source": [
    "import numpy as np, matplotlib.pyplot as plt, matplotlib as mpl\n",
    "from astropy.io import fits\n",
    "from tqdm import tqdm\n",
    "import pandas as pd\n",
    "from astropy.wcs import WCS\n",
    "import sep\n",
    "import pyregion\n",
    "%matplotlib inline"
   ]
  },
  {
   "cell_type": "code",
   "execution_count": null,
   "metadata": {
    "collapsed": true
   },
   "outputs": [],
   "source": [
    "mpl.rcParams['image.origin'] = 'lower'"
   ]
  },
  {
   "cell_type": "code",
   "execution_count": null,
   "metadata": {
    "collapsed": true
   },
   "outputs": [],
   "source": [
    "plt.style.use('seaborn-poster')"
   ]
  },
  {
   "cell_type": "code",
   "execution_count": 4,
   "metadata": {
    "collapsed": true
   },
   "outputs": [],
   "source": [
    "# for filt in ['f475w', 'f850lp']:\n",
    "#     for exp in [1, 2]:\n",
    "#         hdulist = fits.open('../data/m49/raw/m49_exp{:d}_{:s}_flc.fits'.format(exp, filt))\n",
    "#         h1 = hdulist[0:4]\n",
    "#         h1.writeto('../data/m49/raw/m49_chip{:d}_exp{:d}_{:s}_flc.fits'.format(h1['SCI'].header['CCDCHIP'], exp, filt),\n",
    "#                   overwrite=True)\n",
    "#         h2 = fits.HDUList(hdus=[hdulist[0]]+list(hdulist[4:7]))\n",
    "#         for hdu in h2:\n",
    "#             hdu.header['EXTVER'] = 1\n",
    "#         h2.writeto('../data/m49/raw/m49_chip{:d}_exp{:d}_{:s}_flc.fits'.format(h2['SCI'].header['CCDCHIP'], exp, filt),\n",
    "#                   overwrite=True)\n"
   ]
  },
  {
   "cell_type": "code",
   "execution_count": 40,
   "metadata": {
    "collapsed": true
   },
   "outputs": [],
   "source": [
    "def make_RGB(list_f475w, list_f850lp):\n",
    "    color_im = np.zeros((3, list_f475w['SCI'].shape[0], list_f475w['SCI'].shape[1]))\n",
    "    color_im[0] = list_f850lp['SCI'].data\n",
    "    color_im[1] = 0.5 * (list_f850lp['SCI'].data + list_f475w['SCI'].data)\n",
    "    color_im[2] = list_f475w['SCI'].data\n",
    "    color_hdu = fits.ImageHDU(data=color_im)\n",
    "    color_hdu.header = list_f475w['SCI'].header\n",
    "    color_hdu.header['FILTER2'] = 'F850LP'\n",
    "    color_list = fits.HDUList(hdus=[list_f475w[0], color_hdu])\n",
    "    h = color_list[0].header\n",
    "    h.add_history('RGB Image Components (scaled by exposure time):')\n",
    "    h.add_history('Red   - F850LP')\n",
    "    h.add_history('Green - 0.5 * (F850LP + F475W)')\n",
    "    h.add_history('Blue  - F475W')\n",
    "    return color_list"
   ]
  },
  {
   "cell_type": "code",
   "execution_count": 41,
   "metadata": {
    "collapsed": true
   },
   "outputs": [],
   "source": [
    "for exp in [1,2]:\n",
    "    for chip in [1,2]:\n",
    "        list_f475w = fits.open('../data/m49/raw/m49_chip{:d}_exp{:d}_f475w_flc.fits'.format(chip, exp))\n",
    "        list_f850lp = fits.open('../data/m49/raw/m49_chip{:d}_exp{:d}_f850lp_flc.fits'.format(chip, exp))\n",
    "        color_list = make_RGB(list_f475w, list_f850lp)\n",
    "        color_list.writeto('../data/m49/raw/m49_chip{:d}_exp{:d}_RGB.fits'.format(chip, exp), overwrite=True)"
   ]
  },
  {
   "cell_type": "code",
   "execution_count": 11,
   "metadata": {
    "collapsed": true
   },
   "outputs": [],
   "source": [
    "f475w = fits.open('../data/m49/raw/m49_chip2_exp1_f475w_flc.fits')"
   ]
  },
  {
   "cell_type": "markdown",
   "metadata": {},
   "source": [
    "# Manual Object Identification"
   ]
  },
  {
   "cell_type": "code",
   "execution_count": 22,
   "metadata": {
    "collapsed": true
   },
   "outputs": [],
   "source": [
    "def get_manual_mask(hdulist, region_file):\n",
    "    manual_mask = pyregion.open(region_file).as_imagecoord(header=hdulist['PRIMARY'].header).get_mask(shape=hdulist['SCI'].shape)\n",
    "    manual_hdu = fits.ImageHDU(data=manual_mask.astype(np.int32))\n",
    "    h = manual_hdu.header\n",
    "    h['EXTNAME'] = 'MANUAL'\n",
    "    h.add_history('Sources Manually Identified through DS9')\n",
    "    h.add_history('Region File: {:s}'.format(region_file))\n",
    "    return manual_hdu"
   ]
  },
  {
   "cell_type": "markdown",
   "metadata": {},
   "source": [
    "# Cosmic Ray Rejection"
   ]
  },
  {
   "cell_type": "code",
   "execution_count": 14,
   "metadata": {
    "collapsed": true
   },
   "outputs": [],
   "source": [
    "def get_cr_mask(hdulist):\n",
    "    cr_mask = (hdulist['DQ'].data > 0)\n",
    "    cr_hdu = fits.ImageHDU(data=cr_mask.astype(np.int32))\n",
    "    h = cr_hdu.header\n",
    "    h['EXTNAME'] = 'CRMASK'\n",
    "    h.add_history('Cosmic Ray mask from DQ extension of {:s}'.format(hdulist[0].header['FILTER1']))\n",
    "    return cr_hdu"
   ]
  },
  {
   "cell_type": "markdown",
   "metadata": {},
   "source": [
    "# Source Extraction"
   ]
  },
  {
   "cell_type": "code",
   "execution_count": 26,
   "metadata": {
    "collapsed": true
   },
   "outputs": [],
   "source": [
    "default_bkg_kwargs = {}\n",
    "default_bkg_kwargs['bw'] = default_bkg_kwargs['bh'] = 16 # size of the background boxes (default 64)\n",
    "default_bkg_kwargs['fw'] = default_bkg_kwargs['fh'] = 3  # size of the filters (default 3)\n",
    "default_bkg_kwargs['fthresh'] = 0  # filter threshold (default 0)"
   ]
  },
  {
   "cell_type": "code",
   "execution_count": 27,
   "metadata": {
    "collapsed": true
   },
   "outputs": [],
   "source": [
    "def get_background(hdulist, cr_hdu=None, bkg_kwargs=default_bkg_kwargs):\n",
    "    if cr_hdu is None:\n",
    "        cr_hdu = get_cr_mask(hdulist)\n",
    "    image = np.copy(hdulist['SCI'].data)\n",
    "    bkg = sep.Background(image.astype(np.float64), mask=cr_hdu.data, **bkg_kwargs)\n",
    "    bkg_hdu = fits.ImageHDU(data=bkg.back())\n",
    "    h = bkg_hdu.header\n",
    "    h['EXTNAME'] = 'BACKGROUND'\n",
    "    h.add_history('SExtractor Background computed for {:s}'.format(hdulist[0].header['FILTER1']))\n",
    "    h.add_history('SExtractor Params:')\n",
    "    h.add_history('   Background Box Size (pixels): {:d}'.format(bkg_kwargs['bw']))\n",
    "    h.add_history('   Background Filter Size (pixels): {:d}'.format(bkg_kwargs['fw']))\n",
    "    h.add_history('   Background Filter Threshold (pixels): {:.2f}'.format(bkg_kwargs['fthresh']))\n",
    "    h['GLOBBKG'] = bkg.globalback\n",
    "    h['GLOBRMS'] = bkg.globalrms\n",
    "    return bkg_hdu"
   ]
  },
  {
   "cell_type": "code",
   "execution_count": 28,
   "metadata": {
    "collapsed": true
   },
   "outputs": [],
   "source": [
    "default_obj_kwargs = {}\n",
    "default_obj_kwargs['thresh'] = 5.0  # object detection sigma-threshold\n",
    "default_obj_kwargs['minarea'] = 5 # minimum size in pixels\n",
    "\n",
    "max_npix_object = 1000"
   ]
  },
  {
   "cell_type": "code",
   "execution_count": 29,
   "metadata": {
    "collapsed": true
   },
   "outputs": [],
   "source": [
    "def get_source_mask(hdulist, max_npix_object=max_npix_object, cr_hdu=None, bkg_hdu=None, obj_kwargs=default_obj_kwargs):\n",
    "    if cr_hdu is None:\n",
    "        cr_hdu = get_cr_mask(hdulist)\n",
    "    if bkg_hdu is None:\n",
    "        bkg_hdu = get_background(hdulist, bkg_kwargs=default_bkg_kwargs)\n",
    "    image = np.copy(hdulist['SCI'].data)\n",
    "    sub_im = image - bkg_hdu.data\n",
    "    objects, mask = sep.extract(sub_im, err=bkg_hdu.header['GLOBRMS'], mask=cr_hdu.data, segmentation_map=True, **obj_kwargs)\n",
    "    for i in range(len(objects)):\n",
    "        if objects['npix'][i] > max_npix_object:\n",
    "            mask[mask == i+1] = 0\n",
    "    obj_hdu = fits.ImageHDU(data=mask)\n",
    "    h = obj_hdu.header\n",
    "    h['EXTNAME'] = 'SRCMASK'\n",
    "    h.add_history('SExtractor Source Mask computed for {:s}'.format(hdulist[0].header['FILTER1']))\n",
    "    for hist in bkg_hdu.header['HISTORY']:\n",
    "        h.add_history(hist)\n",
    "    h.add_history('   Detection Threshold (sigma): {:.2f}'.format(obj_kwargs['thresh']))\n",
    "    h.add_history('   Min Source Size (pixels): {:d}'.format(obj_kwargs['minarea']))\n",
    "    h.add_history('   Max Source Size (pixels): {:d}'.format(max_npix_object))\n",
    "    return obj_hdu"
   ]
  },
  {
   "cell_type": "code",
   "execution_count": 32,
   "metadata": {
    "collapsed": true
   },
   "outputs": [],
   "source": [
    "def reduce_images(list_of_hdulists, list_of_output_filenames, mask_filename, region_file=None, mask_val=np.nan,\n",
    "                  bkg_kwargs=default_bkg_kwargs, obj_kwargs=default_obj_kwargs, max_npix_object=max_npix_object):\n",
    "    mask_list = [fits.PrimaryHDU()]\n",
    "    assert len(list_of_hdulists) == len(list_of_output_filenames)\n",
    "    im_shape = list_of_hdulists[0]['SCI'].shape\n",
    "    for hdulist in list_of_hdulists[1:]:\n",
    "        assert hdulist['SCI'].shape == im_shape\n",
    "    cr_hdus = []\n",
    "    bkg_hdus = []\n",
    "    obj_hdus = []\n",
    "    for hdulist in list_of_hdulists:\n",
    "        cr_hdus.append(get_cr_mask(hdulist))\n",
    "        bkg_hdus.append(get_background(hdulist, cr_hdu=cr_hdus[-1], bkg_kwargs=bkg_kwargs))\n",
    "        obj_hdus.append(get_source_mask(hdulist, max_npix_object=max_npix_object, \n",
    "                                       cr_hdu=cr_hdus[-1], bkg_hdu=bkg_hdus[-1], obj_kwargs=obj_kwargs))\n",
    "    final_mask = np.zeros(im_shape, dtype=np.int32)\n",
    "    for hdu in cr_hdus+obj_hdus:\n",
    "        final_mask += hdu.data\n",
    "    if region_file is not None:\n",
    "        manual_hdu = get_manual_mask(hdulist, region_file)\n",
    "        final_mask += manual_hdu.data\n",
    "    final_mask = (final_mask > 0).astype(np.int32)\n",
    "    mask_hdu = fits.ImageHDU(data=final_mask)\n",
    "    h = mask_hdu.header\n",
    "    h['EXTNAME'] = 'MASK'\n",
    "    h.add_history('Cosmic Ray and Source Mask computed from following filters:')\n",
    "    for hdulist in list_of_hdulists:\n",
    "        h.add_history('   {:s}'.format(hdulist[0].header['FILTER1']))\n",
    "    for hist in cr_hdus[0].header['HISTORY']:\n",
    "        h.add_history(hist)\n",
    "    for hist in obj_hdus[0].header['HISTORY']:\n",
    "        h.add_history(hist)\n",
    "    mask_list += [mask_hdu]\n",
    "    mask_list += cr_hdus\n",
    "    mask_list += bkg_hdus\n",
    "    mask_list += obj_hdus\n",
    "    if region_file is not None:\n",
    "        for hist in manual_hdu.header['HISTORY']:\n",
    "            h.add_history(hist)\n",
    "        mask_list += [manual_hdu]\n",
    "    mask_list = fits.HDUList(hdus=mask_list)\n",
    "    mask_list.writeto(mask_filename, overwrite=True)\n",
    "    \n",
    "    for hdulist, filename in zip(list_of_hdulists, list_of_output_filenames):\n",
    "        hdulist['SCI'].data[(final_mask > 0)] = mask_val\n",
    "        hdulist[0].header.add_history('====================')\n",
    "        for hist in mask_hdu.header['HISTORY']:\n",
    "            hdulist[0].header.add_history(hist)\n",
    "        hdulist.writeto(filename, overwrite=True)    \n",
    "    return list_of_hdulists, mask_list"
   ]
  },
  {
   "cell_type": "code",
   "execution_count": 42,
   "metadata": {},
   "outputs": [
    {
     "name": "stderr",
     "output_type": "stream",
     "text": [
      "  0%|          | 0/2 [00:00<?, ?it/s]\n",
      "  0%|          | 0/2 [00:00<?, ?it/s]\u001b[A\n",
      " 50%|█████     | 1/2 [00:05<00:05,  5.03s/it]\u001b[A\n",
      "100%|██████████| 2/2 [00:10<00:00,  5.22s/it]\u001b[A\n",
      " 50%|█████     | 1/2 [00:10<00:10, 10.45s/it]\n",
      "  0%|          | 0/2 [00:00<?, ?it/s]\u001b[A\n",
      " 50%|█████     | 1/2 [00:04<00:04,  4.93s/it]\u001b[A\n",
      "100%|██████████| 2/2 [00:10<00:00,  5.14s/it]\u001b[A\n"
     ]
    }
   ],
   "source": [
    "for chip in tqdm([1, 2], leave=False):\n",
    "    region_file = '../data/m49/masks/m49_chip{:d}.reg'.format(chip)\n",
    "    for exp in tqdm([1, 2], leave=False):\n",
    "        f475w = fits.open('../data/m49/raw/m49_chip{:d}_exp{:d}_f475w_flc.fits'.format(chip, exp))\n",
    "        f850lp = fits.open('../data/m49/raw/m49_chip{:d}_exp{:d}_f850lp_flc.fits'.format(chip, exp))\n",
    "        fnames = ['../data/m49/reduced/m49_chip{:d}_exp{:d}_{:s}_reduced.fits'.format(chip, exp, filt) for filt in ['f475w', 'f850lp']]\n",
    "        (list_f475w, list_f850lp), mask_list = reduce_images([f475w, f850lp], fnames, '../data/m49/masks/m49_chip{:d}_exp{:d}_mask.fits'.format(chip, exp), region_file=region_file)\n",
    "        color_list = make_RGB(list_f475w, list_f850lp)\n",
    "        color_list.writeto('../data/m49/RGB/m49_chip{:d}_exp{:d}_RGB.fits'.format(chip, exp), overwrite=True)"
   ]
  },
  {
   "cell_type": "code",
   "execution_count": null,
   "metadata": {
    "collapsed": true
   },
   "outputs": [],
   "source": [
    "fig, ax = plt.subplots(figsize=(20, 10))\n",
    "plt.imshow(masked_images['f475w_11'], norm=mpl.colors.LogNorm(), vmax=5000)\n",
    "plt.colorbar()"
   ]
  },
  {
   "cell_type": "code",
   "execution_count": 43,
   "metadata": {},
   "outputs": [
    {
     "data": {
      "text/plain": [
       "560.0"
      ]
     },
     "execution_count": 43,
     "metadata": {},
     "output_type": "execute_result"
    }
   ],
   "source": [
    "f850lp[0].header['EXPTIME']"
   ]
  },
  {
   "cell_type": "code",
   "execution_count": 45,
   "metadata": {},
   "outputs": [
    {
     "data": {
      "text/plain": [
       "array([0.08562  , 0.0617575])"
      ]
     },
     "execution_count": 45,
     "metadata": {},
     "output_type": "execute_result"
    }
   ],
   "source": [
    "sky_per_sec = np.array([34.248, 24.703]) / 400.\n",
    "sky_per_sec"
   ]
  },
  {
   "cell_type": "code",
   "execution_count": 47,
   "metadata": {},
   "outputs": [
    {
     "data": {
      "text/plain": [
       "array([32.1075, 34.5842])"
      ]
     },
     "execution_count": 47,
     "metadata": {},
     "output_type": "execute_result"
    }
   ],
   "source": [
    "sky_total = sky_per_sec * np.array([375., 560.])\n",
    "sky_total"
   ]
  },
  {
   "cell_type": "code",
   "execution_count": 48,
   "metadata": {},
   "outputs": [
    {
     "data": {
      "text/plain": [
       "array([5.66634803, 5.88083327])"
      ]
     },
     "execution_count": 48,
     "metadata": {},
     "output_type": "execute_result"
    }
   ],
   "source": [
    "sky_std = np.sqrt(sky_total)\n",
    "sky_std"
   ]
  },
  {
   "cell_type": "code",
   "execution_count": 51,
   "metadata": {},
   "outputs": [
    {
     "data": {
      "text/plain": [
       "13186.93212617938"
      ]
     },
     "execution_count": 51,
     "metadata": {},
     "output_type": "execute_result"
    }
   ],
   "source": [
    "160 / 3600. * (np.pi / 180.) * 1.7e7"
   ]
  },
  {
   "cell_type": "code",
   "execution_count": 53,
   "metadata": {
    "collapsed": true
   },
   "outputs": [],
   "source": [
    "back = get_background(f850lp)"
   ]
  },
  {
   "cell_type": "code",
   "execution_count": 55,
   "metadata": {},
   "outputs": [
    {
     "data": {
      "text/plain": [
       "42.25394821166992"
      ]
     },
     "execution_count": 55,
     "metadata": {},
     "output_type": "execute_result"
    }
   ],
   "source": [
    "back.data.min()"
   ]
  },
  {
   "cell_type": "code",
   "execution_count": 56,
   "metadata": {},
   "outputs": [
    {
     "data": {
      "text/plain": [
       "8.705357142857142"
      ]
     },
     "execution_count": 56,
     "metadata": {},
     "output_type": "execute_result"
    }
   ],
   "source": [
    "13*(375/560.)"
   ]
  },
  {
   "cell_type": "code",
   "execution_count": 57,
   "metadata": {},
   "outputs": [
    {
     "name": "stdout",
     "output_type": "stream",
     "text": [
      "GPU acceleration not available, sorry\n",
      "No module named 'pycuda'\n"
     ]
    }
   ],
   "source": [
    "import pcmdpy"
   ]
  },
  {
   "cell_type": "code",
   "execution_count": 58,
   "metadata": {
    "collapsed": true
   },
   "outputs": [],
   "source": [
    "f1 = pcmdpy.instrument.ACS_WFC_F475W(exposure=375.)\n",
    "f2 = pcmdpy.instrument.ACS_WFC_F850LP(exposure=560.)"
   ]
  },
  {
   "cell_type": "code",
   "execution_count": 60,
   "metadata": {},
   "outputs": [
    {
     "data": {
      "text/plain": [
       "25.328453201839437"
      ]
     },
     "execution_count": 60,
     "metadata": {},
     "output_type": "execute_result"
    }
   ],
   "source": [
    "f1.counts_to_mag(2.*400)"
   ]
  },
  {
   "cell_type": "code",
   "execution_count": 64,
   "metadata": {},
   "outputs": [
    {
     "data": {
      "text/plain": [
       "21.923461708428505"
      ]
     },
     "execution_count": 64,
     "metadata": {},
     "output_type": "execute_result"
    }
   ],
   "source": [
    "f2.counts_to_mag(13.*400)"
   ]
  },
  {
   "cell_type": "code",
   "execution_count": 66,
   "metadata": {},
   "outputs": [
    {
     "data": {
      "text/plain": [
       "28.996078209124395"
      ]
     },
     "execution_count": 66,
     "metadata": {},
     "output_type": "execute_result"
    }
   ],
   "source": [
    "20.714/24.703 * 34.58"
   ]
  },
  {
   "cell_type": "code",
   "execution_count": 67,
   "metadata": {},
   "outputs": [
    {
     "data": {
      "text/plain": [
       "25.513621605839415"
      ]
     },
     "execution_count": 67,
     "metadata": {},
     "output_type": "execute_result"
    }
   ],
   "source": [
    "32.11 * (27.214 / 34.25)"
   ]
  },
  {
   "cell_type": "code",
   "execution_count": 68,
   "metadata": {},
   "outputs": [
    {
     "data": {
      "text/plain": [
       "23.757480876713657"
      ]
     },
     "execution_count": 68,
     "metadata": {},
     "output_type": "execute_result"
    }
   ],
   "source": [
    "f1.counts_to_mag((34 - 25.5)*400)"
   ]
  },
  {
   "cell_type": "code",
   "execution_count": 69,
   "metadata": {},
   "outputs": [
    {
     "data": {
      "text/plain": [
       "21.57013882643733"
      ]
     },
     "execution_count": 69,
     "metadata": {},
     "output_type": "execute_result"
    }
   ],
   "source": [
    "f2.counts_to_mag((47 - 29.)*400)"
   ]
  },
  {
   "cell_type": "code",
   "execution_count": null,
   "metadata": {
    "collapsed": true
   },
   "outputs": [],
   "source": []
  }
 ],
 "metadata": {
  "kernelspec": {
   "display_name": "Python 3",
   "language": "python",
   "name": "python3"
  }
 },
 "nbformat": 4,
 "nbformat_minor": 2
}
