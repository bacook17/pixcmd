{
 "cells": [
  {
   "cell_type": "code",
   "execution_count": 1,
   "metadata": {},
   "outputs": [],
   "source": [
    "import numpy as np, matplotlib.pyplot as plt, matplotlib as mpl\n",
    "import FITS_tools\n",
    "from astropy.io import fits\n",
    "import astropy.wcs as pywcs\n",
    "%matplotlib inline"
   ]
  },
  {
   "cell_type": "code",
   "execution_count": 2,
   "metadata": {},
   "outputs": [],
   "source": [
    "def load_from_fits(f):\n",
    "    hdu_list = fits.open(f)\n",
    "    im = hdu_list['sci'].data\n",
    "    h = hdu_list['sci'].header\n",
    "    wcs = pywcs.WCS(h, fobj=hdu_list)\n",
    "    wcs.naxis2 = h['naxis2']\n",
    "    wcs.naxis1 = h['naxis1']\n",
    "    return im, h, wcs"
   ]
  },
  {
   "cell_type": "code",
   "execution_count": 3,
   "metadata": {},
   "outputs": [],
   "source": [
    "def update_header(h1, h2):\n",
    "    h3 = h1.copy()\n",
    "    for k in ['NAXIS1', 'NAXIS2', 'CRPIX1', 'CRPIX2', 'CRVAL1', 'CRVAL2', \n",
    "             'CD1_1', 'CD1_2', 'CD2_1', 'CD2_2', 'ORIENTAT', 'RA_APER', 'DEC_APER']:\n",
    "        h3[k] = h2[k]\n",
    "    return h2"
   ]
  },
  {
   "cell_type": "code",
   "execution_count": 4,
   "metadata": {},
   "outputs": [],
   "source": [
    "def shift_fits(file_1, file_2, output_file=None):\n",
    "    im1, h1, wcs1 = load_from_fits(file_1)\n",
    "    im2, h2, wcs2 = load_from_fits(file_2)\n",
    "    print('beginning transformation')\n",
    "    new_im = FITS_tools.hcongrid.hastrom(im1, wcs1, wcs2, preserve_bad_pixels=True)\n",
    "    print('transformation complete')\n",
    "    new_h = update_header(h1, h2)\n",
    "    hdu = fits.ImageHDU(data=new_im, header=new_h)\n",
    "    if output_file is not None:\n",
    "        print('saving result')\n",
    "        hdu.writeto(output_file)\n",
    "    return hdu"
   ]
  },
  {
   "cell_type": "code",
   "execution_count": 5,
   "metadata": {},
   "outputs": [
    {
     "name": "stdout",
     "output_type": "stream",
     "text": [
      "CPU times: user 3min 46s, sys: 2min 6s, total: 5min 53s\n",
      "Wall time: 7min 31s\n"
     ]
    },
    {
     "data": {
      "text/plain": [
       "<astropy.io.fits.hdu.image.ImageHDU at 0x1195b2b38>"
      ]
     },
     "execution_count": 5,
     "metadata": {},
     "output_type": "execute_result"
    }
   ],
   "source": [
    "%%time\n",
    "shift_fits('../data/m31/raw/hlsp_phat_hst_acs-wfc_12058-m31-b01_f475w_v1_drz.fits',\n",
    "           '../data/m31/raw/hlsp_phat_hst_acs-wfc_12058-m31-b01_f814w_v1_drz.fits',\n",
    "        output_file='../data/m31/raw/hlsp_phat_hst_acs-wfc_12058-m31-b01_f475w_v1_drz_ALIGNED.fits')"
   ]
  },
  {
   "cell_type": "code",
   "execution_count": null,
   "metadata": {},
   "outputs": [
    {
     "name": "stderr",
     "output_type": "stream",
     "text": [
      "WARNING: AstropyDeprecationWarning: The use of ``AXISCORR`` for D2IM correction has been deprecated.`~astropy.wcs` will read in files with ``AXISCORR`` but ``to_fits()`` will write out files without it. [astropy.wcs.wcs]\n"
     ]
    }
   ],
   "source": [
    "%%time\n",
    "shift_fits('../data/m31/raw/hlsp_phat_hst_acs-wfc_12105-m31-b06_f475w_v1_drz.fits',\n",
    "           '../data/m31/raw/hlsp_phat_hst_acs-wfc_12105-m31-b06_f814w_v1_drz.fits',\n",
    "        output_file='../data/m31/raw/hlsp_phat_hst_acs-wfc_12105-m31-b06_f475w_v1_drz_ALIGNED.fits')"
   ]
  },
  {
   "cell_type": "code",
   "execution_count": null,
   "metadata": {},
   "outputs": [],
   "source": []
  }
 ],
 "metadata": {
  "kernelspec": {
   "display_name": "Python 3",
   "language": "python",
   "name": "python3"
  },
  "language_info": {
   "codemirror_mode": {
    "name": "ipython",
    "version": 3
   },
   "file_extension": ".py",
   "mimetype": "text/x-python",
   "name": "python",
   "nbconvert_exporter": "python",
   "pygments_lexer": "ipython3",
   "version": "3.6.4"
  }
 },
 "nbformat": 4,
 "nbformat_minor": 2
}
