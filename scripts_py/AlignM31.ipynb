{
 "cells": [
  {
   "cell_type": "code",
   "execution_count": 1,
   "metadata": {},
   "outputs": [],
   "source": [
    "import numpy as np, matplotlib.pyplot as plt, matplotlib as mpl\n",
    "import FITS_tools\n",
    "from astropy.io import fits\n",
    "import astropy.wcs as pywcs\n",
    "import sep\n",
    "import pyregion\n",
    "%matplotlib inline"
   ]
  },
  {
   "cell_type": "markdown",
   "metadata": {},
   "source": [
    "# Center PHAT data"
   ]
  },
  {
   "cell_type": "code",
   "execution_count": 2,
   "metadata": {},
   "outputs": [],
   "source": [
    "def load_from_fits(f):\n",
    "    hdu_list = fits.open(f)\n",
    "    im = hdu_list['sci'].data\n",
    "    h = hdu_list['sci'].header\n",
    "    wcs = pywcs.WCS(h, fobj=hdu_list)\n",
    "    wcs.naxis2 = h['naxis2']\n",
    "    wcs.naxis1 = h['naxis1']\n",
    "    return im, h, wcs"
   ]
  },
  {
   "cell_type": "code",
   "execution_count": 3,
   "metadata": {},
   "outputs": [],
   "source": [
    "def update_header(h1, h2):\n",
    "    h3 = h1.copy()\n",
    "    for k in ['NAXIS1', 'NAXIS2', 'CRPIX1', 'CRPIX2', 'CRVAL1', 'CRVAL2', \n",
    "             'CD1_1', 'CD1_2', 'CD2_1', 'CD2_2', 'ORIENTAT', 'RA_APER', 'DEC_APER']:\n",
    "        h3[k] = h2[k]\n",
    "    return h2"
   ]
  },
  {
   "cell_type": "code",
   "execution_count": 4,
   "metadata": {},
   "outputs": [],
   "source": [
    "def shift_fits(file_1, file_2, output_file=None):\n",
    "    im1, h1, wcs1 = load_from_fits(file_1)\n",
    "    im2, h2, wcs2 = load_from_fits(file_2)\n",
    "    print('beginning transformation')\n",
    "    new_im = FITS_tools.hcongrid.hastrom(im1, wcs1, wcs2, preserve_bad_pixels=True)\n",
    "    print('transformation complete')\n",
    "    new_h = update_header(h1, h2)\n",
    "    hdu = fits.ImageHDU(data=new_im, header=new_h)\n",
    "    if output_file is not None:\n",
    "        print('saving result')\n",
    "        hdu.writeto(output_file)\n",
    "    return hdu"
   ]
  },
  {
   "cell_type": "code",
   "execution_count": null,
   "metadata": {},
   "outputs": [
    {
     "name": "stdout",
     "output_type": "stream",
     "text": [
      "beginning transformation\n"
     ]
    },
    {
     "ename": "KeyboardInterrupt",
     "evalue": "",
     "output_type": "error",
     "traceback": [
      "\u001b[0;31m---------------------------------------------------------------------------\u001b[0m",
      "\u001b[0;31mKeyboardInterrupt\u001b[0m                         Traceback (most recent call last)",
      "\u001b[0;32m<timed eval>\u001b[0m in \u001b[0;36m<module>\u001b[0;34m()\u001b[0m\n",
      "\u001b[0;32m<ipython-input-4-d92e7a9c714d>\u001b[0m in \u001b[0;36mshift_fits\u001b[0;34m(file_1, file_2, output_file)\u001b[0m\n\u001b[1;32m      3\u001b[0m     \u001b[0mim2\u001b[0m\u001b[0;34m,\u001b[0m \u001b[0mh2\u001b[0m\u001b[0;34m,\u001b[0m \u001b[0mwcs2\u001b[0m \u001b[0;34m=\u001b[0m \u001b[0mload_from_fits\u001b[0m\u001b[0;34m(\u001b[0m\u001b[0mfile_2\u001b[0m\u001b[0;34m)\u001b[0m\u001b[0;34m\u001b[0m\u001b[0m\n\u001b[1;32m      4\u001b[0m     \u001b[0mprint\u001b[0m\u001b[0;34m(\u001b[0m\u001b[0;34m'beginning transformation'\u001b[0m\u001b[0;34m)\u001b[0m\u001b[0;34m\u001b[0m\u001b[0m\n\u001b[0;32m----> 5\u001b[0;31m     \u001b[0mnew_im\u001b[0m \u001b[0;34m=\u001b[0m \u001b[0mFITS_tools\u001b[0m\u001b[0;34m.\u001b[0m\u001b[0mhcongrid\u001b[0m\u001b[0;34m.\u001b[0m\u001b[0mhastrom\u001b[0m\u001b[0;34m(\u001b[0m\u001b[0mim1\u001b[0m\u001b[0;34m,\u001b[0m \u001b[0mwcs1\u001b[0m\u001b[0;34m,\u001b[0m \u001b[0mwcs2\u001b[0m\u001b[0;34m,\u001b[0m \u001b[0mpreserve_bad_pixels\u001b[0m\u001b[0;34m=\u001b[0m\u001b[0;32mTrue\u001b[0m\u001b[0;34m)\u001b[0m\u001b[0;34m\u001b[0m\u001b[0m\n\u001b[0m\u001b[1;32m      6\u001b[0m     \u001b[0mprint\u001b[0m\u001b[0;34m(\u001b[0m\u001b[0;34m'transformation complete'\u001b[0m\u001b[0;34m)\u001b[0m\u001b[0;34m\u001b[0m\u001b[0m\n\u001b[1;32m      7\u001b[0m     \u001b[0mnew_h\u001b[0m \u001b[0;34m=\u001b[0m \u001b[0mupdate_header\u001b[0m\u001b[0;34m(\u001b[0m\u001b[0mh1\u001b[0m\u001b[0;34m,\u001b[0m \u001b[0mh2\u001b[0m\u001b[0;34m)\u001b[0m\u001b[0;34m\u001b[0m\u001b[0m\n",
      "\u001b[0;32m~/anaconda/envs/py36/lib/python3.6/site-packages/FITS_tools/hcongrid.py\u001b[0m in \u001b[0;36mhcongrid\u001b[0;34m(image, header1, header2, preserve_bad_pixels, **kwargs)\u001b[0m\n\u001b[1;32m     47\u001b[0m     \u001b[0m_check_header_matches_image\u001b[0m\u001b[0;34m(\u001b[0m\u001b[0mimage\u001b[0m\u001b[0;34m,\u001b[0m \u001b[0mheader1\u001b[0m\u001b[0;34m)\u001b[0m\u001b[0;34m\u001b[0m\u001b[0m\n\u001b[1;32m     48\u001b[0m \u001b[0;34m\u001b[0m\u001b[0m\n\u001b[0;32m---> 49\u001b[0;31m     \u001b[0mgrid1\u001b[0m \u001b[0;34m=\u001b[0m \u001b[0mget_pixel_mapping\u001b[0m\u001b[0;34m(\u001b[0m\u001b[0mheader1\u001b[0m\u001b[0;34m,\u001b[0m \u001b[0mheader2\u001b[0m\u001b[0;34m)\u001b[0m\u001b[0;34m\u001b[0m\u001b[0m\n\u001b[0m\u001b[1;32m     50\u001b[0m \u001b[0;34m\u001b[0m\u001b[0m\n\u001b[1;32m     51\u001b[0m     \u001b[0mbad_pixels\u001b[0m \u001b[0;34m=\u001b[0m \u001b[0mnp\u001b[0m\u001b[0;34m.\u001b[0m\u001b[0misnan\u001b[0m\u001b[0;34m(\u001b[0m\u001b[0mimage\u001b[0m\u001b[0;34m)\u001b[0m \u001b[0;34m+\u001b[0m \u001b[0mnp\u001b[0m\u001b[0;34m.\u001b[0m\u001b[0misinf\u001b[0m\u001b[0;34m(\u001b[0m\u001b[0mimage\u001b[0m\u001b[0;34m)\u001b[0m\u001b[0;34m\u001b[0m\u001b[0m\n",
      "\u001b[0;32m~/anaconda/envs/py36/lib/python3.6/site-packages/FITS_tools/hcongrid.py\u001b[0m in \u001b[0;36mget_pixel_mapping\u001b[0;34m(header1, header2)\u001b[0m\n\u001b[1;32m    141\u001b[0m     \u001b[0;31m# _load_wcs_from_header\u001b[0m\u001b[0;34m\u001b[0m\u001b[0;34m\u001b[0m\u001b[0m\n\u001b[1;32m    142\u001b[0m     \u001b[0moutshape\u001b[0m \u001b[0;34m=\u001b[0m \u001b[0;34m[\u001b[0m\u001b[0mwcs2\u001b[0m\u001b[0;34m.\u001b[0m\u001b[0mnaxis2\u001b[0m\u001b[0;34m,\u001b[0m \u001b[0mwcs2\u001b[0m\u001b[0;34m.\u001b[0m\u001b[0mnaxis1\u001b[0m\u001b[0;34m]\u001b[0m\u001b[0;34m\u001b[0m\u001b[0m\n\u001b[0;32m--> 143\u001b[0;31m     \u001b[0myy2\u001b[0m\u001b[0;34m,\u001b[0m \u001b[0mxx2\u001b[0m \u001b[0;34m=\u001b[0m \u001b[0mnp\u001b[0m\u001b[0;34m.\u001b[0m\u001b[0mindices\u001b[0m\u001b[0;34m(\u001b[0m\u001b[0moutshape\u001b[0m\u001b[0;34m)\u001b[0m\u001b[0;34m\u001b[0m\u001b[0m\n\u001b[0m\u001b[1;32m    144\u001b[0m \u001b[0;34m\u001b[0m\u001b[0m\n\u001b[1;32m    145\u001b[0m     \u001b[0;31m# get the world coordinates of the output image\u001b[0m\u001b[0;34m\u001b[0m\u001b[0;34m\u001b[0m\u001b[0m\n",
      "\u001b[0;32m~/anaconda/envs/py36/lib/python3.6/site-packages/numpy/core/numeric.py\u001b[0m in \u001b[0;36mindices\u001b[0;34m(dimensions, dtype)\u001b[0m\n\u001b[1;32m   1864\u001b[0m     \u001b[0;32mfor\u001b[0m \u001b[0mi\u001b[0m\u001b[0;34m,\u001b[0m \u001b[0mdim\u001b[0m \u001b[0;32min\u001b[0m \u001b[0menumerate\u001b[0m\u001b[0;34m(\u001b[0m\u001b[0mdimensions\u001b[0m\u001b[0;34m)\u001b[0m\u001b[0;34m:\u001b[0m\u001b[0;34m\u001b[0m\u001b[0m\n\u001b[1;32m   1865\u001b[0m         res[i] = arange(dim, dtype=dtype).reshape(\n\u001b[0;32m-> 1866\u001b[0;31m             \u001b[0mshape\u001b[0m\u001b[0;34m[\u001b[0m\u001b[0;34m:\u001b[0m\u001b[0mi\u001b[0m\u001b[0;34m]\u001b[0m \u001b[0;34m+\u001b[0m \u001b[0;34m(\u001b[0m\u001b[0mdim\u001b[0m\u001b[0;34m,\u001b[0m\u001b[0;34m)\u001b[0m \u001b[0;34m+\u001b[0m \u001b[0mshape\u001b[0m\u001b[0;34m[\u001b[0m\u001b[0mi\u001b[0m\u001b[0;34m+\u001b[0m\u001b[0;36m1\u001b[0m\u001b[0;34m:\u001b[0m\u001b[0;34m]\u001b[0m\u001b[0;34m\u001b[0m\u001b[0m\n\u001b[0m\u001b[1;32m   1867\u001b[0m         )\n\u001b[1;32m   1868\u001b[0m     \u001b[0;32mreturn\u001b[0m \u001b[0mres\u001b[0m\u001b[0;34m\u001b[0m\u001b[0m\n",
      "\u001b[0;31mKeyboardInterrupt\u001b[0m: "
     ]
    }
   ],
   "source": [
    "%%time\n",
    "shift_fits('../data/m31/raw/hlsp_phat_hst_acs-wfc_12058-m31-b01_f475w_v1_drz.fits',\n",
    "           '../data/m31/raw/hlsp_phat_hst_acs-wfc_12058-m31-b01_f814w_v1_drz.fits',\n",
    "        output_file='../data/m31/raw/hlsp_phat_hst_acs-wfc_12058-m31-b01_f475w_v1_drz_ALIGNED.fits')"
   ]
  },
  {
   "cell_type": "code",
   "execution_count": null,
   "metadata": {},
   "outputs": [
    {
     "name": "stderr",
     "output_type": "stream",
     "text": [
      "WARNING: AstropyDeprecationWarning: The use of ``AXISCORR`` for D2IM correction has been deprecated.`~astropy.wcs` will read in files with ``AXISCORR`` but ``to_fits()`` will write out files without it. [astropy.wcs.wcs]\n"
     ]
    },
    {
     "name": "stdout",
     "output_type": "stream",
     "text": [
      "beginning transformation\n"
     ]
    }
   ],
   "source": [
    "%%time\n",
    "shift_fits('../data/m31/raw/hlsp_phat_hst_acs-wfc_12105-m31-b06_f475w_v1_drz.fits',\n",
    "           '../data/m31/raw/hlsp_phat_hst_acs-wfc_12105-m31-b06_f814w_v1_drz.fits',\n",
    "        output_file='../data/m31/raw/hlsp_phat_hst_acs-wfc_12105-m31-b06_f475w_v1_drz_ALIGNED.fits')"
   ]
  },
  {
   "cell_type": "markdown",
   "metadata": {},
   "source": [
    "# Load a small m31 region"
   ]
  },
  {
   "cell_type": "code",
   "execution_count": null,
   "metadata": {},
   "outputs": [],
   "source": [
    "f814w = fits.open('../data/m31/raw/hlsp_phat_hst_acs-wfc_12058-m31-b01_f814w_v1_drz.fits')\n",
    "f475w = fits.open('../data/m31/raw/hlsp_phat_hst_acs-wfc_12058-m31-b01_f475w_v1_drz_ALIGNED.fits')"
   ]
  },
  {
   "cell_type": "code",
   "execution_count": null,
   "metadata": {},
   "outputs": [],
   "source": [
    "regions = pyregion.open('../data/m31/masks/bulge_square.reg').as_imagecoord(header=f814w[0].header)"
   ]
  },
  {
   "cell_type": "code",
   "execution_count": null,
   "metadata": {},
   "outputs": [],
   "source": [
    "mask = regions.get_mask(shape=f814w['SCI'].shape)"
   ]
  },
  {
   "cell_type": "code",
   "execution_count": null,
   "metadata": {},
   "outputs": [],
   "source": [
    "xs, ys = np.where(mask)\n",
    "im_f475w = f475w['sci'].data[mask].reshape((len(np.unique(xs)), len(np.unique(ys))))\n",
    "im_f814w = f814w['sci'].data[mask].reshape((len(np.unique(xs)), len(np.unique(ys))))"
   ]
  },
  {
   "cell_type": "code",
   "execution_count": null,
   "metadata": {},
   "outputs": [],
   "source": [
    "fig, axes = plt.subplots(ncols=2, figsize=(12, 5))\n",
    "axes[0].imshow(im_f475w, cmap='Greys_r'), axes[1].imshow(im_f814w, cmap='Greys_r')\n",
    "axes[0].set_title('F475W'), axes[1].set_title('F814W')"
   ]
  },
  {
   "cell_type": "code",
   "execution_count": null,
   "metadata": {},
   "outputs": [],
   "source": [
    "hdulist = fits.HDUList([\n",
    "    fits.PrimaryHDU(),\n",
    "    fits.ImageHDU(data=im_f475w, header=f475w[0].header, name='SCI,1'),\n",
    "    fits.ImageHDU(data=im_f814w, header=f814w[0].header, name='SCI,2'),\n",
    "])"
   ]
  },
  {
   "cell_type": "code",
   "execution_count": null,
   "metadata": {},
   "outputs": [],
   "source": [
    "hdulist.writeto('../data/m31/raw/bulge_tiny_both.fits')"
   ]
  },
  {
   "cell_type": "markdown",
   "metadata": {},
   "source": [
    "# Load small m49 regions"
   ]
  },
  {
   "cell_type": "code",
   "execution_count": 2,
   "metadata": {},
   "outputs": [],
   "source": [
    "f850lp = fits.open('../data/m49/reduced/m49_chip1_exp1_f850lp_reduced.fits')\n",
    "f475w = fits.open('../data/m49/reduced/m49_chip1_exp1_f475w_reduced.fits')\n",
    "regions = pyregion.open('../data/m49/masks/square.reg').as_imagecoord(header=f850lp[0].header)\n",
    "mask = regions.get_mask(shape=f850lp['SCI'].shape)"
   ]
  },
  {
   "cell_type": "code",
   "execution_count": 3,
   "metadata": {},
   "outputs": [],
   "source": [
    "xs, ys = np.where(mask)\n",
    "im_f475w = f475w['sci'].data[mask].reshape((len(np.unique(xs)), len(np.unique(ys))))\n",
    "im_f850lp = f850lp['sci'].data[mask].reshape((len(np.unique(xs)), len(np.unique(ys))))"
   ]
  },
  {
   "cell_type": "code",
   "execution_count": 4,
   "metadata": {},
   "outputs": [
    {
     "data": {
      "text/plain": [
       "(Text(0.5,1,'F475W'), Text(0.5,1,'F850lp'))"
      ]
     },
     "execution_count": 4,
     "metadata": {},
     "output_type": "execute_result"
    },
    {
     "data": {
      "image/png": "[encoded data removed]",
      "text/plain": [
       "<matplotlib.figure.Figure at 0x11578a630>"
      ]
     },
     "metadata": {},
     "output_type": "display_data"
    }
   ],
   "source": [
    "fig, axes = plt.subplots(ncols=2, figsize=(12, 5))\n",
    "axes[0].imshow(im_f475w, cmap='Greys_r'), axes[1].imshow(im_f850lp, cmap='Greys_r')\n",
    "axes[0].set_title('F475W'), axes[1].set_title('F850lp')"
   ]
  },
  {
   "cell_type": "code",
   "execution_count": 6,
   "metadata": {},
   "outputs": [],
   "source": [
    "hdulist = fits.HDUList([\n",
    "    fits.PrimaryHDU(),\n",
    "    fits.ImageHDU(data=im_f475w, header=f475w[0].header, name='SCI,1'),\n",
    "    fits.ImageHDU(data=im_f850lp, header=f850lp[0].header, name='SCI,2'),\n",
    "])\n",
    "hdulist.writeto('../data/m49/raw/oneexp_tiny_both.fits', overwrite=True)"
   ]
  },
  {
   "cell_type": "markdown",
   "metadata": {},
   "source": [
    "# Load drizzled m49 regions and save"
   ]
  },
  {
   "cell_type": "code",
   "execution_count": 17,
   "metadata": {},
   "outputs": [],
   "source": [
    "f850lp = fits.open('../data/m49/reduced/m49_f850lp_drc.fits')\n",
    "f475w = fits.open('../data/m49/reduced/m49_f475w_drc.fits')\n",
    "regions = pyregion.open('../data/m49/masks/square_drc.reg').as_imagecoord(header=f475w[1].header)\n",
    "\n",
    "\n",
    "mask = regions.get_mask(shape=f850lp['SCI'].shape)\n",
    "xy, ys = np.where(mask)\n",
    "im_f850lp = f850lp['sci'].data[mask].reshape((len(np.unique(xs)), len(np.unique(ys))))\n",
    "\n",
    "mask = regions.get_mask(shape=f475w['SCI'].shape)\n",
    "xy, ys = np.where(mask)\n",
    "im_f475w = f475w['sci'].data[mask].reshape((len(np.unique(xs)), len(np.unique(ys))))\n"
   ]
  },
  {
   "cell_type": "code",
   "execution_count": 18,
   "metadata": {},
   "outputs": [
    {
     "data": {
      "text/plain": [
       "(Text(0.5,1,'F475W (Drizzled)'), Text(0.5,1,'F850lp (Drizzled)'))"
      ]
     },
     "execution_count": 18,
     "metadata": {},
     "output_type": "execute_result"
    },
    {
     "data": {
      "image/png": "[encoded data removed]",
      "text/plain": [
       "<matplotlib.figure.Figure at 0x121664d68>"
      ]
     },
     "metadata": {},
     "output_type": "display_data"
    }
   ],
   "source": [
    "fig, axes = plt.subplots(ncols=2, figsize=(12, 5))\n",
    "axes[0].imshow(im_f475w, cmap='Greys_r'), axes[1].imshow(im_f850lp, cmap='Greys_r')\n",
    "axes[0].set_title('F475W (Drizzled)'), axes[1].set_title('F850lp (Drizzled)')"
   ]
  },
  {
   "cell_type": "code",
   "execution_count": 20,
   "metadata": {},
   "outputs": [],
   "source": [
    "hdulist = fits.HDUList([\n",
    "    fits.PrimaryHDU(),\n",
    "    fits.ImageHDU(data=im_f475w, header=f475w[0].header, name='SCI,1'),\n",
    "    fits.ImageHDU(data=im_f850lp, header=f850lp[0].header, name='SCI,2'),\n",
    "])\n",
    "hdulist.writeto('../data/m49/raw/drizzled_tiny_both.fits', overwrite=True)"
   ]
  },
  {
   "cell_type": "code",
   "execution_count": null,
   "metadata": {},
   "outputs": [],
   "source": []
  }
 ],
 "metadata": {
  "kernelspec": {
   "display_name": "Python 3",
   "language": "python",
   "name": "python3"
  },
  "language_info": {
   "codemirror_mode": {
    "name": "ipython",
    "version": 3
   },
   "file_extension": ".py",
   "mimetype": "text/x-python",
   "name": "python",
   "nbconvert_exporter": "python",
   "pygments_lexer": "ipython3",
   "version": "3.6.4"
  },
  "toc-autonumbering": true,
  "toc-showcode": false,
  "toc-showmarkdowntxt": false,
  "toc-showtags": false
 },
 "nbformat": 4,
 "nbformat_minor": 2
}
