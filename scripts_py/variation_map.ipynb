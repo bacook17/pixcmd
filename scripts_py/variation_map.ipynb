{
 "cells": [
  {
   "cell_type": "code",
   "execution_count": 1,
   "metadata": {
    "collapsed": true
   },
   "outputs": [],
   "source": [
    "import numpy as np, matplotlib.pyplot as plt, matplotlib as mpl, pandas as pd\n",
    "import seaborn.apionly as sns\n",
    "%matplotlib inline"
   ]
  },
  {
   "cell_type": "code",
   "execution_count": 2,
   "metadata": {
    "collapsed": true
   },
   "outputs": [],
   "source": [
    "sns.set_context('poster')"
   ]
  },
  {
   "cell_type": "code",
   "execution_count": 6,
   "metadata": {
    "collapsed": true
   },
   "outputs": [],
   "source": [
    "\n",
    "def make_array(param_string):\n",
    "    return np.array(param_string.strip('[]').replace('\\n','').split()).astype(float)\n"
   ]
  },
  {
   "cell_type": "code",
   "execution_count": 9,
   "metadata": {},
   "outputs": [
    {
     "name": "stderr",
     "output_type": "stream",
     "text": [
      "/Users/bcook/anaconda/lib/python2.7/site-packages/ipykernel_launcher.py:5: SettingWithCopyWarning: \n",
      "A value is trying to be set on a copy of a slice from a DataFrame\n",
      "\n",
      "See the caveats in the documentation: http://pandas.pydata.org/pandas-docs/stable/indexing.html#indexing-view-versus-copy\n",
      "  \"\"\"\n"
     ]
    },
    {
     "data": {
      "text/html": [
       "<div>\n",
       "<style>\n",
       "    .dataframe thead tr:only-child th {\n",
       "        text-align: right;\n",
       "    }\n",
       "\n",
       "    .dataframe thead th {\n",
       "        text-align: left;\n",
       "    }\n",
       "\n",
       "    .dataframe tbody tr th {\n",
       "        vertical-align: top;\n",
       "    }\n",
       "</style>\n",
       "<table border=\"1\" class=\"dataframe\">\n",
       "  <thead>\n",
       "    <tr style=\"text-align: right;\">\n",
       "      <th></th>\n",
       "      <th>gal_num</th>\n",
       "      <th>N_im</th>\n",
       "      <th>param_num</th>\n",
       "      <th>vary_frac</th>\n",
       "      <th>like_mode</th>\n",
       "      <th>lum_cut</th>\n",
       "      <th>log_like</th>\n",
       "      <th>data_params</th>\n",
       "      <th>data_meta</th>\n",
       "      <th>model_params</th>\n",
       "      <th>model_meta</th>\n",
       "      <th>loglog</th>\n",
       "    </tr>\n",
       "  </thead>\n",
       "  <tbody>\n",
       "    <tr>\n",
       "      <th>0</th>\n",
       "      <td>0.0</td>\n",
       "      <td>256.0</td>\n",
       "      <td>-1.0</td>\n",
       "      <td>0.0</td>\n",
       "      <td>0.0</td>\n",
       "      <td>inf</td>\n",
       "      <td>106290.00000</td>\n",
       "      <td>[-0.5, -0.3, 0.75426991, 1.75426991, 2.1349388...</td>\n",
       "      <td>[ 4.]</td>\n",
       "      <td>[-0.5, -0.3, 0.75426991, 1.75426991, 2.1349388...</td>\n",
       "      <td>[ 4.]</td>\n",
       "      <td>5.026492</td>\n",
       "    </tr>\n",
       "    <tr>\n",
       "      <th>1</th>\n",
       "      <td>0.0</td>\n",
       "      <td>256.0</td>\n",
       "      <td>-1.0</td>\n",
       "      <td>0.0</td>\n",
       "      <td>1.0</td>\n",
       "      <td>inf</td>\n",
       "      <td>-1161.60000</td>\n",
       "      <td>[-0.5, -0.3, 0.75426991, 1.75426991, 2.1349388...</td>\n",
       "      <td>[ 4.]</td>\n",
       "      <td>[-0.5, -0.3, 0.75426991, 1.75426991, 2.1349388...</td>\n",
       "      <td>[ 4.]</td>\n",
       "      <td>-3.065057</td>\n",
       "    </tr>\n",
       "    <tr>\n",
       "      <th>2</th>\n",
       "      <td>0.0</td>\n",
       "      <td>256.0</td>\n",
       "      <td>-1.0</td>\n",
       "      <td>0.0</td>\n",
       "      <td>2.0</td>\n",
       "      <td>inf</td>\n",
       "      <td>-0.20843</td>\n",
       "      <td>[-0.5, -0.3, 0.75426991, 1.75426991, 2.1349388...</td>\n",
       "      <td>[ 4.]</td>\n",
       "      <td>[-0.5, -0.3, 0.75426991, 1.75426991, 2.1349388...</td>\n",
       "      <td>[ 4.]</td>\n",
       "      <td>-0.000000</td>\n",
       "    </tr>\n",
       "    <tr>\n",
       "      <th>3</th>\n",
       "      <td>0.0</td>\n",
       "      <td>256.0</td>\n",
       "      <td>-1.0</td>\n",
       "      <td>0.0</td>\n",
       "      <td>0.0</td>\n",
       "      <td>inf</td>\n",
       "      <td>99533.00000</td>\n",
       "      <td>[-0.5, -0.3, 0.75426991, 1.75426991, 2.1349388...</td>\n",
       "      <td>[ 4.]</td>\n",
       "      <td>[-0.5, -0.3, 0.75426991, 1.75426991, 2.1349388...</td>\n",
       "      <td>[ 4.]</td>\n",
       "      <td>4.997967</td>\n",
       "    </tr>\n",
       "    <tr>\n",
       "      <th>4</th>\n",
       "      <td>0.0</td>\n",
       "      <td>256.0</td>\n",
       "      <td>-1.0</td>\n",
       "      <td>0.0</td>\n",
       "      <td>1.0</td>\n",
       "      <td>inf</td>\n",
       "      <td>-1976.20000</td>\n",
       "      <td>[-0.5, -0.3, 0.75426991, 1.75426991, 2.1349388...</td>\n",
       "      <td>[ 4.]</td>\n",
       "      <td>[-0.5, -0.3, 0.75426991, 1.75426991, 2.1349388...</td>\n",
       "      <td>[ 4.]</td>\n",
       "      <td>-3.295831</td>\n",
       "    </tr>\n",
       "  </tbody>\n",
       "</table>\n",
       "</div>"
      ],
      "text/plain": [
       "   gal_num   N_im  param_num  vary_frac  like_mode  lum_cut      log_like  \\\n",
       "0      0.0  256.0       -1.0        0.0        0.0      inf  106290.00000   \n",
       "1      0.0  256.0       -1.0        0.0        1.0      inf   -1161.60000   \n",
       "2      0.0  256.0       -1.0        0.0        2.0      inf      -0.20843   \n",
       "3      0.0  256.0       -1.0        0.0        0.0      inf   99533.00000   \n",
       "4      0.0  256.0       -1.0        0.0        1.0      inf   -1976.20000   \n",
       "\n",
       "                                         data_params data_meta  \\\n",
       "0  [-0.5, -0.3, 0.75426991, 1.75426991, 2.1349388...     [ 4.]   \n",
       "1  [-0.5, -0.3, 0.75426991, 1.75426991, 2.1349388...     [ 4.]   \n",
       "2  [-0.5, -0.3, 0.75426991, 1.75426991, 2.1349388...     [ 4.]   \n",
       "3  [-0.5, -0.3, 0.75426991, 1.75426991, 2.1349388...     [ 4.]   \n",
       "4  [-0.5, -0.3, 0.75426991, 1.75426991, 2.1349388...     [ 4.]   \n",
       "\n",
       "                                        model_params model_meta    loglog  \n",
       "0  [-0.5, -0.3, 0.75426991, 1.75426991, 2.1349388...      [ 4.]  5.026492  \n",
       "1  [-0.5, -0.3, 0.75426991, 1.75426991, 2.1349388...      [ 4.] -3.065057  \n",
       "2  [-0.5, -0.3, 0.75426991, 1.75426991, 2.1349388...      [ 4.] -0.000000  \n",
       "3  [-0.5, -0.3, 0.75426991, 1.75426991, 2.1349388...      [ 4.]  4.997967  \n",
       "4  [-0.5, -0.3, 0.75426991, 1.75426991, 2.1349388...      [ 4.] -3.295831  "
      ]
     },
     "execution_count": 9,
     "metadata": {},
     "output_type": "execute_result"
    }
   ],
   "source": [
    "df = pd.read_csv('results/varations.csv')\n",
    "df['data_params'] = df['data_params'].apply(make_array)\n",
    "df['model_params'] = df['model_params'].apply(make_array)\n",
    "df['loglog'] = np.log10(np.abs(df.log_like.values))\n",
    "df['loglog'][df['loglog'].values <= 0.] = 0.\n",
    "df['loglog'] = np.sign(df.log_like.values) * df['loglog'].values\n",
    "df.head()"
   ]
  },
  {
   "cell_type": "code",
   "execution_count": 10,
   "metadata": {},
   "outputs": [
    {
     "data": {
      "text/plain": [
       "array([-0.5       , -0.3       ,  0.75426991,  1.75426991,  2.13493886,\n",
       "        2.63493886,  3.13493886,  3.63493886,  3.56710397])"
      ]
     },
     "execution_count": 10,
     "metadata": {},
     "output_type": "execute_result"
    }
   ],
   "source": [
    "df.data_params[0]"
   ]
  },
  {
   "cell_type": "code",
   "execution_count": 11,
   "metadata": {
    "collapsed": true
   },
   "outputs": [],
   "source": [
    "from pcmdpy import galaxy\n"
   ]
  },
  {
   "cell_type": "code",
   "execution_count": 80,
   "metadata": {},
   "outputs": [
    {
     "data": {
      "text/plain": [
       "<module 'pcmdpy.galaxy' from '/Users/bcook/pCMDs/pixcmd/pcmdpy/galaxy.py'>"
      ]
     },
     "execution_count": 80,
     "metadata": {},
     "output_type": "execute_result"
    }
   ],
   "source": [
    "reload(galaxy)"
   ]
  },
  {
   "cell_type": "code",
   "execution_count": 81,
   "metadata": {},
   "outputs": [
    {
     "data": {
      "text/plain": [
       "[<matplotlib.lines.Line2D at 0x126f4e310>]"
      ]
     },
     "execution_count": 81,
     "metadata": {},
     "output_type": "execute_result"
    },
    {
     "data": {
      "image/png": "[encoded data removed]",
      "text/plain": [
       "<matplotlib.figure.Figure at 0x12740add0>"
      ]
     },
     "metadata": {},
     "output_type": "display_data"
    }
   ],
   "source": [
    "plt.plot(galaxy.Rising_Tau(np.array([-1., -1., 0., 10.])).SFH, 'k-')\n",
    "plt.plot(galaxy.Tau_Model(np.array([-1., -1., 0., 10.])).SFH, 'r-')"
   ]
  },
  {
   "cell_type": "code",
   "execution_count": 59,
   "metadata": {},
   "outputs": [
    {
     "data": {
      "text/plain": [
       "15848931924.611109"
      ]
     },
     "execution_count": 59,
     "metadata": {},
     "output_type": "execute_result"
    }
   ],
   "source": [
    "10.**10.2"
   ]
  },
  {
   "cell_type": "code",
   "execution_count": 71,
   "metadata": {},
   "outputs": [
    {
     "data": {
      "text/plain": [
       "[<matplotlib.lines.Line2D at 0x126a6a7d0>]"
      ]
     },
     "execution_count": 71,
     "metadata": {},
     "output_type": "execute_result"
    },
    {
     "data": {
      "image/png": "[encoded data removed]",
      "text/plain": [
       "<matplotlib.figure.Figure at 0x125f9d650>"
      ]
     },
     "metadata": {},
     "output_type": "display_data"
    }
   ],
   "source": [
    "tau = 20.\n",
    "t = np.logspace(-4, 1, 100)\n",
    "sfh1 = np.exp(t[1:] / tau) - np.exp(t[:-1]/tau)\n",
    "sfh1 /= np.sum(sfh1)\n",
    "sfh2 = (tau + 10 - t) * np.exp(t/tau)\n",
    "sfh2 = sfh2[1:] - sfh2[:-1]\n",
    "sfh2 /= np.sum(sfh2)\n",
    "\n",
    "plt.plot(np.log10(t[1:]*1e9),np.log10(sfh1), 'k-')\n",
    "plt.plot(np.log10(t[1:]*1e9),np.log10(sfh2), 'r-')\n"
   ]
  },
  {
   "cell_type": "code",
   "execution_count": null,
   "metadata": {
    "collapsed": true
   },
   "outputs": [],
   "source": []
  }
 ],
 "metadata": {
  "kernelspec": {
   "display_name": "Python 2",
   "language": "python",
   "name": "python2"
  },
  "language_info": {
   "codemirror_mode": {
    "name": "ipython",
    "version": 2
   },
   "file_extension": ".py",
   "mimetype": "text/x-python",
   "name": "python",
   "nbconvert_exporter": "python",
   "pygments_lexer": "ipython2",
   "version": "2.7.13"
  }
 },
 "nbformat": 4,
 "nbformat_minor": 2
}
