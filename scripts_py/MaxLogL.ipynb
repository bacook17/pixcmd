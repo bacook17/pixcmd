{
 "cells": [
  {
   "cell_type": "code",
   "execution_count": 1,
   "metadata": {},
   "outputs": [],
   "source": [
    "import numpy as np, matplotlib.pyplot as plt, matplotlib as mpl\n",
    "import pcmdpy_gpu as ppy\n",
    "import pandas as pd\n",
    "from tqdm import tqdm\n",
    "from importlib import util\n",
    "from seaborn import color_palette\n",
    "%matplotlib inline"
   ]
  },
  {
   "cell_type": "code",
   "execution_count": 2,
   "metadata": {},
   "outputs": [],
   "source": [
    "plt.style.use('cook')"
   ]
  },
  {
   "cell_type": "code",
   "execution_count": 3,
   "metadata": {},
   "outputs": [
    {
     "name": "stderr",
     "output_type": "stream",
     "text": [
      "/n/home01/bcook/pCMDs/pixcmd/pcmdpy/pcmdpy/plotting/results.py:83: RuntimeWarning: invalid value encountered in sqrt\n",
      "  logzerrs.append(np.sqrt(logzvar))\n",
      "/n/home01/bcook/pCMDs/pixcmd/pcmdpy/pcmdpy/plotting/results.py:83: RuntimeWarning: invalid value encountered in sqrt\n",
      "  logzerrs.append(np.sqrt(logzvar))\n",
      "/n/home01/bcook/.conda/envs/py36/lib/python3.6/site-packages/IPython/core/interactiveshell.py:2881: DtypeWarning: Columns (0,1,2,3,4,5,6,7,8,9,10,11,12,13,14,15) have mixed types. Specify dtype option on import or set low_memory=False.\n",
      "  exec(code_obj, self.user_global_ns, self.user_ns)\n",
      "/n/home01/bcook/.local/lib/python3.6/site-packages/numpy/core/_methods.py:26: RuntimeWarning: invalid value encountered in reduce\n",
      "  return umr_maximum(a, axis, None, out, keepdims)\n"
     ]
    }
   ],
   "source": [
    "from setup_files.mocks_paper1.mock_models import models, run_names, results"
   ]
  },
  {
   "cell_type": "markdown",
   "metadata": {},
   "source": [
    "# Setup"
   ]
  },
  {
   "cell_type": "code",
   "execution_count": 4,
   "metadata": {},
   "outputs": [],
   "source": [
    "known_keys = ['use_gpu', 'verbose', 'dynamic', 'Nim', 'filters', 'iso_model', 'gal_model', 'like_mode', 'bins', 'downsample', 'mag_system', 'lum_cut', 'fixed_seed', 'sky_noise', 'shot_noise', 'prior', 'data_is_mock', 'data_pcmd', 'sampler_seed']"
   ]
  },
  {
   "cell_type": "code",
   "execution_count": 5,
   "metadata": {},
   "outputs": [],
   "source": [
    "f_mock = ppy.instrument.default_m31_filters()"
   ]
  },
  {
   "cell_type": "code",
   "execution_count": 6,
   "metadata": {},
   "outputs": [],
   "source": [
    "iso_model = ppy.isochrones.Isochrone_Model(f_mock, mag_system='vega')"
   ]
  },
  {
   "cell_type": "code",
   "execution_count": 7,
   "metadata": {},
   "outputs": [
    {
     "name": "stderr",
     "output_type": "stream",
     "text": [
      "Please wait while the GPU states are initialized"
     ]
    }
   ],
   "source": [
    "driv = ppy.driver.Driver(iso_model, gpu=True, max_Nim=2048)"
   ]
  },
  {
   "cell_type": "code",
   "execution_count": 8,
   "metadata": {},
   "outputs": [],
   "source": [
    "def get_max_logl(key, n_samples=100, verbose=True):\n",
    "    config_mod = 'setup_files/mocks_paper1'\n",
    "    config_file = f'setup_files/mocks_paper1/{key}.py'\n",
    "    spec = util.spec_from_file_location(config_mod, config_file)\n",
    "    config = util.module_from_spec(spec)\n",
    "    spec.loader.exec_module(config)\n",
    "    params = config.params\n",
    "    \n",
    "    for k in params.keys():\n",
    "        assert (k in known_keys), f\"Key unknown: {k}\"\n",
    "    assert params['data_is_mock'], \"Have not implemented data runs yet\"\n",
    "    \n",
    "    driv.filters = params['filters']\n",
    "    driv.iso_model = params['iso_model']\n",
    "    driv.initialize_data(params['data_pcmd'], bins=params['bins'])\n",
    "    best_params = results[key].best_params\n",
    "    Nim = params['Nim']\n",
    "    gal_model = params['gal_model']\n",
    "    prior = params.get('prior', gal_model.get_flat_prior())\n",
    "    \n",
    "    logl_kwargs = {'like_mode': params['like_mode'],\n",
    "                  'downsample': params['downsample'],\n",
    "                  'mag_system': params['mag_system'],\n",
    "                  'sky_noise': params['sky_noise'],\n",
    "                  'shot_noise': params['shot_noise']}\n",
    "    \n",
    "    logls = [ppy.fit_model.lnlike(best_params, driv, Nim, prior.lnprior, gal_model, fixed_seed=False,\n",
    "                                 **logl_kwargs) for _ in tqdm(range(n_samples), disable=(not verbose))]\n",
    "    return np.median(logls)"
   ]
  },
  {
   "cell_type": "code",
   "execution_count": 15,
   "metadata": {},
   "outputs": [],
   "source": [
    "def add_max_logl(key, n_samples=100, verbose=True):\n",
    "    filename = f'results/paper1_{key}.csv'\n",
    "    with open(filename, 'r') as f:\n",
    "        text = f.read()\n",
    "    if 'max_logl' in text:\n",
    "        return float(f.partition('\\n')[0].partition(': ')[-1])\n",
    "    max_logl = get_max_logl(key, n_samples=n_samples, verbose=verbose)\n",
    "    with open(filename, 'w') as f:\n",
    "        f.write(f'# max_logl : {max_logl:.5e}\\n')\n",
    "        f.write(text)\n",
    "    return max_logl"
   ]
  },
  {
   "cell_type": "code",
   "execution_count": 16,
   "metadata": {},
   "outputs": [],
   "source": [
    "still_running = ['mock_8', 'mock_11', 'mock_43', 'mock_44', 'mock_45', 'mock_46', 'mock_47', 'mock_48', 'mock_49', 'mock_50', 'mock_51', 'mock_52', 'mock_53', 'mock_54',\n",
    "            'mismatch_2', 'mismatch_5', 'mismatch_7', 'mismatch_8', 'mismatch_9']"
   ]
  },
  {
   "cell_type": "code",
   "execution_count": 17,
   "metadata": {},
   "outputs": [],
   "source": [
    "max_logls = {}"
   ]
  },
  {
   "cell_type": "code",
   "execution_count": 18,
   "metadata": {},
   "outputs": [],
   "source": [
    "max_logls = {'mock_1': -1048.0260482946496,\n",
    "'mock_10': -929.7155038783135,\n",
    "'mock_12': -1080.2963390595726,\n",
    "'mock_13': -1086.925121590621,\n",
    "'mock_14': -128.17944259664512,\n",
    "'mock_15': -1437.1511937166442,\n",
    "'mock_16': -2786.504479611057,\n",
    "'mock_17': -11987.954270420698,\n",
    "'mock_2': -82.71810734160911,\n",
    "'mock_3': -940.9430895202383,\n",
    "'mock_4': -416.2755513309453,\n",
    "'mock_5': -1005.7536567925123,\n",
    "'mock_6': -1021.558474398114,\n",
    "'mock_7': -1010.3042785130085,\n",
    "'mock_9': -1046.2162103566493,\n",
    "'mock_18': -998.8989946671368,\n",
    "'mock_19': -978.7855810806744,\n",
    "'mock_20': -1020.1670255424187,\n",
    "'mock_21': -990.2648116614484,\n",
    "'mock_22': -1009.8070719964292,\n",
    "'mock_23': -979.6290968971481,\n",
    "'mock_24': -994.4396764285761,\n",
    "'mock_25': -403.7302945670733,\n",
    "'mock_26': -167.6606627593378,\n",
    "'mock_27': -211.94085213446903,\n",
    "'mock_28': -83.52576382051102,\n",
    "'mock_29': -430.37949465113263,\n",
    "'mock_30': -2938.4770232065757,\n",
    "'mock_31': -400.99325799646,\n",
    "'mock_32': -2933.283409560953,\n",
    "'mock_33': -1005.4891672066396,\n",
    "'mock_34': -1060.7678521808084,\n",
    "'mock_35': -982.4428628647288,\n",
    "'mock_36': -1044.525215398622,\n",
    "'mock_37': -962.7595968491489,\n",
    "'mock_38': -1028.4894456179945,\n",
    "'mock_39': -1005.020253163382}"
   ]
  },
  {
   "cell_type": "code",
   "execution_count": 19,
   "metadata": {},
   "outputs": [
    {
     "data": {
      "text/plain": [
       "{'mock_1': -1048.0260482946496,\n",
       " 'mock_10': -929.7155038783135,\n",
       " 'mock_12': -1080.2963390595726,\n",
       " 'mock_13': -1086.925121590621,\n",
       " 'mock_14': -128.17944259664512,\n",
       " 'mock_15': -1437.1511937166442,\n",
       " 'mock_16': -2786.504479611057,\n",
       " 'mock_17': -11987.954270420698,\n",
       " 'mock_18': -998.8989946671368,\n",
       " 'mock_19': -978.7855810806744,\n",
       " 'mock_2': -82.71810734160911,\n",
       " 'mock_20': -1020.1670255424187,\n",
       " 'mock_21': -990.2648116614484,\n",
       " 'mock_22': -1009.8070719964292,\n",
       " 'mock_23': -979.6290968971481,\n",
       " 'mock_24': -994.4396764285761,\n",
       " 'mock_25': -403.7302945670733,\n",
       " 'mock_26': -167.6606627593378,\n",
       " 'mock_27': -211.94085213446903,\n",
       " 'mock_28': -83.52576382051102,\n",
       " 'mock_29': -430.37949465113263,\n",
       " 'mock_3': -940.9430895202383,\n",
       " 'mock_30': -2938.4770232065757,\n",
       " 'mock_31': -400.99325799646,\n",
       " 'mock_32': -2933.283409560953,\n",
       " 'mock_33': -1005.4891672066396,\n",
       " 'mock_34': -1060.7678521808084,\n",
       " 'mock_35': -982.4428628647288,\n",
       " 'mock_36': -1044.525215398622,\n",
       " 'mock_37': -962.7595968491489,\n",
       " 'mock_38': -1028.4894456179945,\n",
       " 'mock_39': -1005.020253163382,\n",
       " 'mock_4': -416.2755513309453,\n",
       " 'mock_5': -1005.7536567925123,\n",
       " 'mock_6': -1021.558474398114,\n",
       " 'mock_7': -1010.3042785130085,\n",
       " 'mock_9': -1046.2162103566493}"
      ]
     },
     "execution_count": 19,
     "metadata": {},
     "output_type": "execute_result"
    }
   ],
   "source": [
    "max_logls"
   ]
  },
  {
   "cell_type": "code",
   "execution_count": 20,
   "metadata": {},
   "outputs": [
    {
     "name": "stderr",
     "output_type": "stream",
     "text": [
      " 12%|█▎        | 1/8 [02:52<20:10, 172.97s/it]"
     ]
    },
    {
     "name": "stdout",
     "output_type": "stream",
     "text": [
      "mismatch_1 -961.535953064104\n"
     ]
    },
    {
     "name": "stderr",
     "output_type": "stream",
     "text": [
      " 25%|██▌       | 2/8 [04:34<15:09, 151.60s/it]"
     ]
    },
    {
     "name": "stdout",
     "output_type": "stream",
     "text": [
      "mismatch_4 -1050.8625584933295\n"
     ]
    },
    {
     "name": "stderr",
     "output_type": "stream",
     "text": [
      " 38%|███▊      | 3/8 [07:47<13:40, 164.04s/it]"
     ]
    },
    {
     "name": "stdout",
     "output_type": "stream",
     "text": [
      "mismatch_10 -991.1483989615122\n"
     ]
    },
    {
     "name": "stderr",
     "output_type": "stream",
     "text": [
      " 50%|█████     | 4/8 [09:29<09:41, 145.38s/it]"
     ]
    },
    {
     "name": "stdout",
     "output_type": "stream",
     "text": [
      "mismatch_3 -991.1952594756509\n"
     ]
    },
    {
     "name": "stderr",
     "output_type": "stream",
     "text": [
      " 62%|██████▎   | 5/8 [10:55<06:22, 127.66s/it]"
     ]
    },
    {
     "name": "stdout",
     "output_type": "stream",
     "text": [
      "mismatch_11 -1003.6534888859519\n"
     ]
    },
    {
     "name": "stderr",
     "output_type": "stream",
     "text": [
      " 75%|███████▌  | 6/8 [15:10<05:31, 165.69s/it]"
     ]
    },
    {
     "name": "stdout",
     "output_type": "stream",
     "text": [
      "mock_42 -569.881050639334\n"
     ]
    },
    {
     "name": "stderr",
     "output_type": "stream",
     "text": [
      " 88%|████████▊ | 7/8 [20:48<03:37, 217.55s/it]"
     ]
    },
    {
     "name": "stdout",
     "output_type": "stream",
     "text": [
      "mock_41 -1596.3366663487168\n"
     ]
    },
    {
     "name": "stderr",
     "output_type": "stream",
     "text": [
      "100%|██████████| 8/8 [22:14<00:00, 178.01s/it]"
     ]
    },
    {
     "name": "stdout",
     "output_type": "stream",
     "text": [
      "mismatch_6 -5441.489591979748\n"
     ]
    },
    {
     "name": "stderr",
     "output_type": "stream",
     "text": [
      "\n"
     ]
    }
   ],
   "source": [
    "keys = set(results.keys())\n",
    "keys -= set(still_running)\n",
    "keys -= set(max_logls.keys())\n",
    "for k in tqdm(list(keys)):\n",
    "    if k in still_running:\n",
    "        continue\n",
    "    if k in max_logls:\n",
    "        continue\n",
    "    max_logl = add_max_logl(k, n_samples=100, verbose=False)\n",
    "    max_logls[k] = max_logl\n",
    "    print(k, max_logl)"
   ]
  },
  {
   "cell_type": "code",
   "execution_count": 23,
   "metadata": {},
   "outputs": [
    {
     "data": {
      "text/html": [
       "<div>\n",
       "<style scoped>\n",
       "    .dataframe tbody tr th:only-of-type {\n",
       "        vertical-align: middle;\n",
       "    }\n",
       "\n",
       "    .dataframe tbody tr th {\n",
       "        vertical-align: top;\n",
       "    }\n",
       "\n",
       "    .dataframe thead th {\n",
       "        text-align: right;\n",
       "    }\n",
       "</style>\n",
       "<table border=\"1\" class=\"dataframe\">\n",
       "  <thead>\n",
       "    <tr style=\"text-align: right;\">\n",
       "      <th></th>\n",
       "      <th>max_logl</th>\n",
       "    </tr>\n",
       "  </thead>\n",
       "  <tbody>\n",
       "    <tr>\n",
       "      <th>mock_1</th>\n",
       "      <td>-1048.026048</td>\n",
       "    </tr>\n",
       "    <tr>\n",
       "      <th>mock_10</th>\n",
       "      <td>-929.715504</td>\n",
       "    </tr>\n",
       "    <tr>\n",
       "      <th>mock_12</th>\n",
       "      <td>-1080.296339</td>\n",
       "    </tr>\n",
       "    <tr>\n",
       "      <th>mock_13</th>\n",
       "      <td>-1086.925122</td>\n",
       "    </tr>\n",
       "    <tr>\n",
       "      <th>mock_14</th>\n",
       "      <td>-128.179443</td>\n",
       "    </tr>\n",
       "  </tbody>\n",
       "</table>\n",
       "</div>"
      ],
      "text/plain": [
       "            max_logl\n",
       "mock_1  -1048.026048\n",
       "mock_10  -929.715504\n",
       "mock_12 -1080.296339\n",
       "mock_13 -1086.925122\n",
       "mock_14  -128.179443"
      ]
     },
     "execution_count": 23,
     "metadata": {},
     "output_type": "execute_result"
    }
   ],
   "source": [
    "df_logl = pd.DataFrame.from_dict(max_logls, 'index', columns=['max_logl'])\n",
    "df_logl.head()"
   ]
  },
  {
   "cell_type": "code",
   "execution_count": 24,
   "metadata": {},
   "outputs": [],
   "source": [
    "df_logl.to_csv('setup_files/mocks_paper1/max_logls_post.csv', float_format='%.3f', index_label='run_name')"
   ]
  },
  {
   "cell_type": "code",
   "execution_count": null,
   "metadata": {},
   "outputs": [],
   "source": []
  }
 ],
 "metadata": {
  "kernelspec": {
   "display_name": "Python 3",
   "language": "python",
   "name": "python3"
  },
  "language_info": {
   "codemirror_mode": {
    "name": "ipython",
    "version": 3
   },
   "file_extension": ".py",
   "mimetype": "text/x-python",
   "name": "python",
   "nbconvert_exporter": "python",
   "pygments_lexer": "ipython3",
   "version": "3.6.4"
  }
 },
 "nbformat": 4,
 "nbformat_minor": 2
}
