{
 "cells": [
  {
   "cell_type": "code",
   "execution_count": 1,
   "metadata": {},
   "outputs": [
    {
     "name": "stderr",
     "output_type": "stream",
     "text": [
      "/n/home01/bcook/.conda/envs/py36/lib/python3.6/site-packages/matplotlib/__init__.py:855: MatplotlibDeprecationWarning: \n",
      "examples.directory is deprecated; in the future, examples will be found relative to the 'datapath' directory.\n",
      "  \"found relative to the 'datapath' directory.\".format(key))\n",
      "/n/home01/bcook/.conda/envs/py36/lib/python3.6/site-packages/matplotlib/__init__.py:846: MatplotlibDeprecationWarning: \n",
      "The text.latex.unicode rcparam was deprecated in Matplotlib 2.2 and will be removed in 3.1.\n",
      "  \"2.2\", name=key, obj_type=\"rcparam\", addendum=addendum)\n",
      "/n/home01/bcook/.conda/envs/py36/lib/python3.6/site-packages/seaborn/apionly.py:9: UserWarning: As seaborn no longer sets a default style on import, the seaborn.apionly module is deprecated. It will be removed in a future version.\n",
      "  warnings.warn(msg, UserWarning)\n"
     ]
    }
   ],
   "source": [
    "import numpy as np, matplotlib.pyplot as plt, matplotlib as mpl\n",
    "import pcmdpy_gpu as ppy\n",
    "import pandas as pd\n",
    "from tqdm import tqdm\n",
    "from seaborn.apionly import color_palette\n",
    "%matplotlib inline"
   ]
  },
  {
   "cell_type": "code",
   "execution_count": 2,
   "metadata": {},
   "outputs": [],
   "source": [
    "plt.style.use('cook')"
   ]
  },
  {
   "cell_type": "code",
   "execution_count": 3,
   "metadata": {},
   "outputs": [],
   "source": [
    "from setup_files.mocks_paper1.mock_models import models as mock_models, run_names as mock_names, results as mock_res"
   ]
  },
  {
   "cell_type": "code",
   "execution_count": 4,
   "metadata": {},
   "outputs": [
    {
     "name": "stderr",
     "output_type": "stream",
     "text": [
      "/n/home01/bcook/.local/lib/python3.6/site-packages/numpy/lib/arraysetops.py:472: FutureWarning: elementwise comparison failed; returning scalar instead, but in the future will perform elementwise comparison\n",
      "  mask |= (ar1 == a)\n",
      "/n/home01/bcook/pCMDs/pixcmd/pcmdpy/pcmdpy/plotting/results.py:83: RuntimeWarning: invalid value encountered in sqrt\n",
      "  logzerrs.append(np.sqrt(logzvar))\n"
     ]
    }
   ],
   "source": [
    "from setup_files.m31_paper2.m31_models import models as m31_models, run_names as m31_names, results as m31_res"
   ]
  },
  {
   "cell_type": "code",
   "execution_count": 5,
   "metadata": {},
   "outputs": [],
   "source": [
    "models = mock_models.copy()\n",
    "models.update(m31_models)\n",
    "\n",
    "run_names = mock_names.copy()\n",
    "run_names.update(m31_names)\n",
    "\n",
    "results = mock_res.copy()\n",
    "results.update(m31_res)"
   ]
  },
  {
   "cell_type": "markdown",
   "metadata": {},
   "source": [
    "# Setup"
   ]
  },
  {
   "cell_type": "code",
   "execution_count": 6,
   "metadata": {},
   "outputs": [],
   "source": [
    "f_mock = ppy.instrument.default_m31_filters()\n",
    "f_summer = ppy.instrument.m31_summer_filters()\n",
    "f_winter = ppy.instrument.m31_winter_filters()"
   ]
  },
  {
   "cell_type": "code",
   "execution_count": 7,
   "metadata": {},
   "outputs": [],
   "source": [
    "iso_mock = ppy.isochrones.Isochrone_Model(f_mock, mag_system='vega')\n",
    "iso_summer = ppy.isochrones.Isochrone_Model(f_summer, mag_system='ab')\n",
    "iso_winter = ppy.isochrones.Isochrone_Model(f_winter, mag_system='ab')"
   ]
  },
  {
   "cell_type": "code",
   "execution_count": 8,
   "metadata": {},
   "outputs": [
    {
     "name": "stderr",
     "output_type": "stream",
     "text": [
      "Please wait while the GPU states are initializedPlease wait while the GPU states are initializedPlease wait while the GPU states are initialized"
     ]
    }
   ],
   "source": [
    "driv_mock = ppy.driver.Driver(iso_mock)\n",
    "driv_summer = ppy.driver.Driver(iso_summer)\n",
    "driv_winter = ppy.driver.Driver(iso_winter)"
   ]
  },
  {
   "cell_type": "code",
   "execution_count": 9,
   "metadata": {},
   "outputs": [],
   "source": [
    "magbins = np.arange(10, 45, 0.05)\n",
    "colorbins = np.arange(-1.5, 5.6, 0.05)  # fairly insensitive to distance\n",
    "bins = [magbins, colorbins]\n",
    "\n",
    "magbins_n = np.arange(10, 45, 0.02)\n",
    "colorbins_n = np.arange(-1.5, 5.6, 0.02)  # fairly insensitive to distance\n",
    "narrow_bins = [magbins_n, colorbins_n]\n",
    "\n",
    "magbins_w = np.arange(10, 45, 0.1)\n",
    "colorbins_w = np.arange(-1.5, 5.6, 0.1)  # fairly insensitive to distance\n",
    "wide_bins = [magbins_w, colorbins_w]"
   ]
  },
  {
   "cell_type": "code",
   "execution_count": 10,
   "metadata": {},
   "outputs": [],
   "source": [
    "logls = {}\n",
    "logls_true = {}"
   ]
  },
  {
   "cell_type": "code",
   "execution_count": null,
   "metadata": {},
   "outputs": [
    {
     "name": "stderr",
     "output_type": "stream",
     "text": [
      " 95%|█████████▍| 107/113 [33:20<01:22, 13.79s/it]"
     ]
    }
   ],
   "source": [
    "N_sample = 10\n",
    "for k, r in tqdm(results.items()):\n",
    "    season = getattr(r, 'season', '')\n",
    "    if 'summer' in season:\n",
    "        driv = driv_summer\n",
    "    elif 'winter' in season:\n",
    "        driv = driv_winter\n",
    "    else:\n",
    "        driv = driv_mock\n",
    "    Nim_mock = 256\n",
    "    Nim = 512\n",
    "    if k == 'mock_10':\n",
    "        Nim = 256\n",
    "    if k == 'mock_11':\n",
    "        Nim = 1024\n",
    "    like_mode = 2\n",
    "    if k == 'mock_9':\n",
    "        like_mode = 3\n",
    "    these_bins = bins\n",
    "    if k in ['mock_29', 'mock_31']:\n",
    "        these_bins = wide_bins\n",
    "    elif k in ['mock_30', 'mock_32']:\n",
    "        these_bins = narrow_bins\n",
    "    logl = []\n",
    "    logl_true = []\n",
    "    pcmd_orig = driv.simulate(r.best_model, Nim_mock, fixed_seed=True)[0]\n",
    "    if r.true_model is not None:\n",
    "        pcmd_true = driv.simulate(r.true_model, Nim_mock, fixed_seed=True)[0]\n",
    "    for _ in range(N_sample):\n",
    "        pcmd_new = driv.simulate(r.best_model, Nim)[0]\n",
    "        driv.initialize_data(pcmd_orig, bins=these_bins)\n",
    "        logl.append(driv.loglike(pcmd_new, like_mode=like_mode))\n",
    "        if r.true_model is not None:\n",
    "            driv.initialize_data(pcmd_true, bins=these_bins)\n",
    "            logl_true.append(driv.loglike(pcmd_new, like_mode=like_mode))\n",
    "    logls[k] = logl\n",
    "    logls_true[k] = logl_true\n",
    "print(logls)\n",
    "print(logls_true)"
   ]
  },
  {
   "cell_type": "code",
   "execution_count": null,
   "metadata": {},
   "outputs": [],
   "source": [
    "logl_means = {k: np.mean(v) for k,v in logls.items()}\n",
    "logl_true_means = {k: np.mean(v) for k,v in logls_true.items()}"
   ]
  },
  {
   "cell_type": "code",
   "execution_count": null,
   "metadata": {},
   "outputs": [],
   "source": [
    "df_logl = pd.DataFrame.from_dict(logl_means, 'index', columns=['logl_mean'])\n",
    "df_true = pd.DataFrame.from_dict(logl_true_means, 'index', columns=['logl_true'])\n",
    "df_logl = df_logl.merge(df_true, how='outer', left_index=True, right_index=True)\n",
    "df_logl.head()"
   ]
  },
  {
   "cell_type": "code",
   "execution_count": null,
   "metadata": {},
   "outputs": [],
   "source": [
    "df_mock = df_logl[~np.in1d(df_logl.index.values, list(m31_res.keys()))]\n",
    "df_m31 = df_logl[np.in1d(df_logl.index.values, list(m31_res.keys()))]\n",
    "df_m31.drop('logl_true', axis=1, inplace=True)"
   ]
  },
  {
   "cell_type": "code",
   "execution_count": 18,
   "metadata": {},
   "outputs": [],
   "source": [
    "df_mock.to_csv('setup_files/mocks_paper1/max_logls.csv', float_format='%.3f', index_label='run_name')"
   ]
  },
  {
   "cell_type": "code",
   "execution_count": 17,
   "metadata": {},
   "outputs": [],
   "source": [
    "df_m31.to_csv('setup_files/m31_paper2/max_logls.csv', float_format='%.3f', index_label='run_name')"
   ]
  },
  {
   "cell_type": "code",
   "execution_count": null,
   "metadata": {},
   "outputs": [],
   "source": []
  }
 ],
 "metadata": {
  "kernelspec": {
   "display_name": "Python 3",
   "language": "python",
   "name": "python3"
  },
  "language_info": {
   "codemirror_mode": {
    "name": "ipython",
    "version": 3
   },
   "file_extension": ".py",
   "mimetype": "text/x-python",
   "name": "python",
   "nbconvert_exporter": "python",
   "pygments_lexer": "ipython3",
   "version": "3.6.3"
  }
 },
 "nbformat": 4,
 "nbformat_minor": 2
}
