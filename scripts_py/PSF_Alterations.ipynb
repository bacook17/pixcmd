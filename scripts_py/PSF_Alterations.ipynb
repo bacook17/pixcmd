{
 "cells": [
  {
   "cell_type": "code",
   "execution_count": 1,
   "metadata": {},
   "outputs": [
    {
     "name": "stdout",
     "output_type": "stream",
     "text": [
      "GPU acceleration enabled\n",
      "using given n: 0\n",
      "Starting SourceModule Code\n",
      "Past the SourceModule code\n",
      "CUDAC Available\n"
     ]
    }
   ],
   "source": [
    "import numpy as np, matplotlib.pyplot as plt, matplotlib as mpl\n",
    "import pcmdpy as ppy\n",
    "from astropy.io import fits\n",
    "%matplotlib inline\n"
   ]
  },
  {
   "cell_type": "code",
   "execution_count": 2,
   "metadata": {},
   "outputs": [],
   "source": [
    "f = ppy.instrument.default_m31_filters()"
   ]
  },
  {
   "cell_type": "code",
   "execution_count": 3,
   "metadata": {},
   "outputs": [],
   "source": [
    "iso_model = ppy.isochrones.Isochrone_Model(f)"
   ]
  },
  {
   "cell_type": "code",
   "execution_count": 4,
   "metadata": {},
   "outputs": [],
   "source": [
    "driv = ppy.driver.Driver(iso_model)"
   ]
  },
  {
   "cell_type": "code",
   "execution_count": 6,
   "metadata": {},
   "outputs": [],
   "source": [
    "agemodel = ppy.agemodels.NonParam()\n",
    "agemodel.update_edges(np.array([6.0, 8.0, 9.0, 9.5, 10.0, 10.2]))\n",
    "\n",
    "tau_model = ppy.agemodels.TauModel(iso_step=-1)\n",
    "tau_model.iso_edges = np.array([6.0, 8.0, 9.0, 9.5, 10.0, 10.2])\n",
    "tau_model.set_params(np.array([2.258, 2.8205]))\n",
    "\n",
    "tau_SFH = list(np.log10(tau_model.SFH))\n",
    "\n",
    "gal = ppy.galaxy.CustomGalaxy(\n",
    "    ppy.metalmodels.FixedWidthNormMDF(0.2),\n",
    "    ppy.dustmodels.SingleDust(),\n",
    "    agemodel,\n",
    "    ppy.distancemodels.VariableDistance()\n",
    ")\n",
    "gal.set_params(np.array([0.1676, -1.8033] + tau_SFH + [24.42]))"
   ]
  },
  {
   "cell_type": "code",
   "execution_count": 8,
   "metadata": {},
   "outputs": [],
   "source": [
    "pcmd = driv.simulate(gal, 512, shot_noise=True)[0]"
   ]
  },
  {
   "cell_type": "code",
   "execution_count": 18,
   "metadata": {},
   "outputs": [
    {
     "data": {
      "image/png": "[encoded data removed]",
      "text/plain": [
       "<Figure size 432x288 with 1 Axes>"
      ]
     },
     "metadata": {},
     "output_type": "display_data"
    }
   ],
   "source": [
    "bins = [np.arange(20, 30, 0.05), np.arange(1, 3.1, 0.05)]\n",
    "ppy.plotting.plot_pcmd(pcmd, bins=bins);"
   ]
  },
  {
   "cell_type": "code",
   "execution_count": null,
   "metadata": {},
   "outputs": [],
   "source": []
  }
 ],
 "metadata": {
  "kernelspec": {
   "display_name": "Python 3",
   "language": "python",
   "name": "python3"
  },
  "language_info": {
   "codemirror_mode": {
    "name": "ipython",
    "version": 3
   },
   "file_extension": ".py",
   "mimetype": "text/x-python",
   "name": "python",
   "nbconvert_exporter": "python",
   "pygments_lexer": "ipython3",
   "version": "3.6.1"
  }
 },
 "nbformat": 4,
 "nbformat_minor": 2
}
