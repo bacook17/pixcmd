{
 "cells": [
  {
   "cell_type": "markdown",
   "metadata": {
    "slideshow": {
     "slide_type": "skip"
    },
    "toc": true
   },
   "source": [
    "<h1>Table of Contents<span class=\"tocSkip\"></span></h1>\n",
    "<div class=\"toc\"><ul class=\"toc-item\"><li><span><a href=\"#Pixel-CMDs\" data-toc-modified-id=\"Pixel-CMDs-1\">Pixel-CMDs</a></span></li><li><span><a href=\"#Background\" data-toc-modified-id=\"Background-2\">Background</a></span><ul class=\"toc-item\"><li><span><a href=\"#Integrated-Stellar-Populations\" data-toc-modified-id=\"Integrated-Stellar-Populations-2.1\">Integrated Stellar Populations</a></span></li><li><span><a href=\"#Integrated-Stellar-Populations\" data-toc-modified-id=\"Integrated-Stellar-Populations-2.2\">Integrated Stellar Populations</a></span></li><li><span><a href=\"#Resolved-Stellar-Populations\" data-toc-modified-id=\"Resolved-Stellar-Populations-2.3\">Resolved Stellar Populations</a></span></li><li><span><a href=\"#Resolved-Stellar-Populations\" data-toc-modified-id=\"Resolved-Stellar-Populations-2.4\">Resolved Stellar Populations</a></span></li><li><span><a href=\"#Resolved-Stellar-Populations\" data-toc-modified-id=\"Resolved-Stellar-Populations-2.5\">Resolved Stellar Populations</a></span></li><li><span><a href=\"#Semi-Resolved-Stellar-Populations\" data-toc-modified-id=\"Semi-Resolved-Stellar-Populations-2.6\">Semi-Resolved Stellar Populations</a></span></li></ul></li><li><span><a href=\"#The-Basic-Model\" data-toc-modified-id=\"The-Basic-Model-3\">The Basic Model</a></span></li><li><span><a href=\"#Testing-against-Complex-Data\" data-toc-modified-id=\"Testing-against-Complex-Data-4\">Testing against Complex Data</a></span></li></ul></div>"
   ]
  },
  {
   "cell_type": "code",
   "execution_count": 2,
   "metadata": {
    "scrolled": true,
    "slideshow": {
     "slide_type": "skip"
    }
   },
   "outputs": [
    {
     "name": "stdout",
     "output_type": "stream",
     "text": [
      "GPU acceleration not available, sorry\n",
      "No module named 'pycuda'\n"
     ]
    }
   ],
   "source": [
    "import numpy as np, matplotlib.pyplot as plt, matplotlib as mpl, seaborn as sns\n",
    "import pandas as pd\n",
    "import pcmdpy as ppy\n",
    "%matplotlib inline"
   ]
  },
  {
   "cell_type": "code",
   "execution_count": 3,
   "metadata": {
    "collapsed": true,
    "slideshow": {
     "slide_type": "skip"
    }
   },
   "outputs": [],
   "source": [
    "sns.set_context('poster')"
   ]
  },
  {
   "cell_type": "code",
   "execution_count": 4,
   "metadata": {
    "scrolled": true,
    "slideshow": {
     "slide_type": "skip"
    }
   },
   "outputs": [
    {
     "name": "stdout",
     "output_type": "stream",
     "text": [
      "Can't initialize GPU, _GPU_AVAIL is set to False\n"
     ]
    }
   ],
   "source": [
    "try:\n",
    "    ppy.gpu_utils.initialize_gpu(n=0)\n",
    "    GPU_AVAIL = True\n",
    "except:\n",
    "    GPU_AVAIL = False"
   ]
  },
  {
   "cell_type": "code",
   "execution_count": 5,
   "metadata": {
    "collapsed": true,
    "scrolled": true,
    "slideshow": {
     "slide_type": "skip"
    }
   },
   "outputs": [],
   "source": [
    "f = ppy.instrument.m31_filters()\n",
    "iso_model = ppy.isochrones.Isochrone_Model(f)\n",
    "driv = ppy.driver.Driver(iso_model, gpu=GPU_AVAIL)"
   ]
  },
  {
   "cell_type": "code",
   "execution_count": 6,
   "metadata": {
    "collapsed": true,
    "scrolled": true,
    "slideshow": {
     "slide_type": "skip"
    }
   },
   "outputs": [],
   "source": [
    "def plot_pcmd(pcmd, bins=100, norm=mpl.colors.LogNorm(), ax=None, title=None):\n",
    "    if ax is None:\n",
    "        fig, ax = plt.subplots(figsize=(10, 6))\n",
    "    g = ppy.galaxy.DefaultSSP.get_model(np.array([0., -2., 2., 10.]))\n",
    "    ax.hist2d(pcmd[1], pcmd[0], bins=bins, norm=norm, normed=True)\n",
    "    iso_model.plot_isochrone(g, axes=ax)\n",
    "    if title is not None:\n",
    "        ax.set_title(title)\n",
    "    return ax"
   ]
  },
  {
   "cell_type": "code",
   "execution_count": 7,
   "metadata": {
    "collapsed": true,
    "scrolled": true,
    "slideshow": {
     "slide_type": "skip"
    }
   },
   "outputs": [],
   "source": [
    "def plot_model(model, N_im=256, **plot_kwargs):\n",
    "    pcmd, _ = driv.simulate(model, N_im)\n",
    "    return plot_pcmd(pcmd, **plot_kwargs)"
   ]
  },
  {
   "cell_type": "markdown",
   "metadata": {
    "slideshow": {
     "slide_type": "slide"
    }
   },
   "source": [
    "# Pixel-CMDs\n",
    "\n",
    "Ben Cook\n",
    "\n",
    "Conroy Group Meeting \n",
    "\n",
    "21 March 2018"
   ]
  },
  {
   "cell_type": "markdown",
   "metadata": {
    "slideshow": {
     "slide_type": "slide"
    }
   },
   "source": [
    "# Background\n",
    "\n",
    "Observing a galaxy (photometry, spectra maybe, etc.)\n",
    "\n",
    "Our goal is generically to measure its:"
   ]
  },
  {
   "cell_type": "markdown",
   "metadata": {
    "slideshow": {
     "slide_type": "fragment"
    }
   },
   "source": [
    "* Stellar Mass\n",
    "* Metal Abundances\n",
    "* Star Formation History\n",
    "* Dust Content\n",
    "* ..."
   ]
  },
  {
   "cell_type": "markdown",
   "metadata": {
    "slideshow": {
     "slide_type": "slide"
    }
   },
   "source": [
    "A galaxy's light is (primarily) contributed by the stars it contains.\n",
    "\n",
    "So, we combine our knowledge of stars and their evolution into understanding galaxies.\n",
    "\n",
    "** Stellar Population Synthesis **"
   ]
  },
  {
   "cell_type": "markdown",
   "metadata": {
    "slideshow": {
     "slide_type": "slide"
    }
   },
   "source": [
    "## Integrated Stellar Populations \n",
    "or: SED Modelling\n",
    "\n",
    "<img src=\"phot_agn_only.jpg\" width=800 />  **Leja et al. 2018**"
   ]
  },
  {
   "cell_type": "markdown",
   "metadata": {
    "slideshow": {
     "slide_type": "slide"
    }
   },
   "source": [
    "## Integrated Stellar Populations \n",
    "\n",
    "* Can assume fully-populated isochrones\n",
    "* Typically need wide spectral coverage\n",
    "* Uncertanties come from rare, highly-evolved phases of stellar evolution (+AGN, dust, ...)"
   ]
  },
  {
   "cell_type": "markdown",
   "metadata": {
    "slideshow": {
     "slide_type": "slide"
    }
   },
   "source": [
    "## Resolved Stellar Populations\n",
    "or: CMD modelling\n",
    "** M13 (as seen by HST)**\n",
    "<img src=\"M13.jpg\" width=600/>"
   ]
  },
  {
   "cell_type": "markdown",
   "metadata": {
    "collapsed": true,
    "slideshow": {
     "slide_type": "slide"
    }
   },
   "source": [
    "## Resolved Stellar Populations\n",
    "<img src=\"cmd.gif\" width=600/>"
   ]
  },
  {
   "cell_type": "markdown",
   "metadata": {
    "slideshow": {
     "slide_type": "slide"
    }
   },
   "source": [
    "## Resolved Stellar Populations\n",
    "\n",
    "* Observe individual stars, and compare to isochrone models\n",
    "* Often only need 2 colors to measure metallicity, SFH\n",
    "* Limited by spatial resolution (crowding) and exposure (faintness limit)"
   ]
  },
  {
   "cell_type": "markdown",
   "metadata": {
    "slideshow": {
     "slide_type": "slide"
    }
   },
   "source": [
    "## Semi-Resolved Stellar Populations\n",
    "or: Pixel-CMDs"
   ]
  },
  {
   "cell_type": "markdown",
   "metadata": {
    "slideshow": {
     "slide_type": "slide"
    }
   },
   "source": [
    "We're studying the intermediate regime, where:\n",
    "* Can't resolve individual stars (crowding limited)\n",
    "* Can't assume isochrones are fully populated (surface-brightness fluctuations)"
   ]
  },
  {
   "cell_type": "markdown",
   "metadata": {
    "slideshow": {
     "slide_type": "fragment"
    }
   },
   "source": [
    "It makes sense to describe systems by $N_{pix}$: the typical number of stars per pixel\n",
    "\n",
    "* Resolved CMDs: $N_{pix} \\ll 1$\n",
    "* Semi-Resolved Stellar Populations: $N_{pix} \\sim 1 \\rightarrow 10^{7}$\n",
    "* Integrated Stellar Populations: $N_{pix} \\gg 10^7$"
   ]
  },
  {
   "cell_type": "markdown",
   "metadata": {
    "slideshow": {
     "slide_type": "fragment"
    }
   },
   "source": [
    "Due to Poisson fluctuations, some pixels will have fewer bright-rare stars than others.\n",
    "\n",
    "* Surface-brightness fluctuations contain information!"
   ]
  },
  {
   "cell_type": "markdown",
   "metadata": {
    "slideshow": {
     "slide_type": "slide"
    }
   },
   "source": [
    "**M31 Bulge (PHAT survey)**\n",
    "<img src=\"M31-PHAT-Mosaic-A-2.jpg\" width=600/>"
   ]
  },
  {
   "cell_type": "markdown",
   "metadata": {
    "slideshow": {
     "slide_type": "slide"
    }
   },
   "source": [
    "What is the distribution of colors and magnitudes on a pixel-by-pixel basis?\n",
    "\n",
    "**Pixel Color-Magnitude Diagrams**"
   ]
  },
  {
   "cell_type": "code",
   "execution_count": 8,
   "metadata": {
    "slideshow": {
     "slide_type": "skip"
    }
   },
   "outputs": [],
   "source": [
    "pcmd_m31 = np.loadtxt('../../data/m31_bulge_M2.dat', unpack=True)[::-1]"
   ]
  },
  {
   "cell_type": "code",
   "execution_count": 9,
   "metadata": {
    "scrolled": false,
    "slideshow": {
     "slide_type": "slide"
    }
   },
   "outputs": [
    {
     "data": {
      "text/plain": [
       "<matplotlib.legend.Legend at 0x114c8a518>"
      ]
     },
     "execution_count": 9,
     "metadata": {},
     "output_type": "execute_result"
    },
    {
     "data": {
      "image/png": "[encoded data removed]",
      "text/plain": [
       "<Figure size 720x432 with 1 Axes>"
      ]
     },
     "metadata": {},
     "output_type": "display_data"
    }
   ],
   "source": [
    "axis = plot_pcmd(pcmd_m31, title='Pixel-CMD (M31 Bulge)')\n",
    "axis.set_ylim([8, -3.])\n",
    "axis.legend(loc=0)"
   ]
  },
  {
   "cell_type": "markdown",
   "metadata": {
    "slideshow": {
     "slide_type": "slide"
    }
   },
   "source": [
    "# The Basic Model"
   ]
  },
  {
   "cell_type": "markdown",
   "metadata": {
    "slideshow": {
     "slide_type": "slide"
    }
   },
   "source": [
    "For a given population of stars (metallicity, Star-formation History, IMF), \n",
    "\n",
    "want to create a forward-model of the image and pixel-CMD"
   ]
  },
  {
   "cell_type": "markdown",
   "metadata": {
    "slideshow": {
     "slide_type": "fragment"
    }
   },
   "source": [
    "* use isochrones (magnitude, color, mass) from MIST"
   ]
  },
  {
   "cell_type": "markdown",
   "metadata": {
    "collapsed": true,
    "scrolled": true,
    "slideshow": {
     "slide_type": "fragment"
    }
   },
   "source": [
    "* assume each pixel in the image contains roughly $N_{pix}$ stars"
   ]
  },
  {
   "cell_type": "markdown",
   "metadata": {
    "slideshow": {
     "slide_type": "fragment"
    }
   },
   "source": [
    "* randomly populate the pixels with stars from the isochrones"
   ]
  },
  {
   "cell_type": "markdown",
   "metadata": {
    "slideshow": {
     "slide_type": "fragment"
    }
   },
   "source": [
    "* apply observational effects (dust extinction, HST PSF, ...)"
   ]
  },
  {
   "cell_type": "markdown",
   "metadata": {
    "slideshow": {
     "slide_type": "fragment"
    }
   },
   "source": [
    "* compare resulting pixel-CMD to observed data"
   ]
  },
  {
   "cell_type": "code",
   "execution_count": 10,
   "metadata": {
    "slideshow": {
     "slide_type": "skip"
    }
   },
   "outputs": [],
   "source": [
    "m31_model = ppy.galaxy.DefaultTau.get_model(np.array([0., -2., 2.3, 2.5]), iso_step=-1)\n",
    "pcmd_model, _ = driv.simulate(m31_model, 128)"
   ]
  },
  {
   "cell_type": "code",
   "execution_count": 11,
   "metadata": {},
   "outputs": [
    {
     "data": {
      "text/plain": [
       "<matplotlib.axes._subplots.AxesSubplot at 0x11550ec88>"
      ]
     },
     "execution_count": 11,
     "metadata": {},
     "output_type": "execute_result"
    },
    {
     "data": {
      "image/png": "[encoded data removed]",
      "text/plain": [
       "<Figure size 1008x432 with 2 Axes>"
      ]
     },
     "metadata": {},
     "output_type": "display_data"
    }
   ],
   "source": [
    "fig, axes = plt.subplots(ncols=2, figsize=(14, 6), sharey=True, sharex=True)\n",
    "plot_pcmd(pcmd_model, title='Pixel-CMD (M31 Bulge)', ax=axes[1])\n",
    "plot_pcmd(pcmd_m31, title='Pixel-CMD (M31 Bulge)', ax=axes[0])\n"
   ]
  },
  {
   "cell_type": "markdown",
   "metadata": {
    "slideshow": {
     "slide_type": "slide"
    }
   },
   "source": [
    "# Testing against Complex Data"
   ]
  },
  {
   "cell_type": "code",
   "execution_count": null,
   "metadata": {
    "collapsed": true,
    "scrolled": true
   },
   "outputs": [],
   "source": []
  },
  {
   "cell_type": "code",
   "execution_count": null,
   "metadata": {
    "collapsed": true,
    "scrolled": true
   },
   "outputs": [],
   "source": []
  }
 ],
 "metadata": {
  "celltoolbar": "Slideshow",
  "kernelspec": {
   "display_name": "Python 3",
   "language": "python",
   "name": "python3"
  },
  "language_info": {
   "codemirror_mode": {
    "name": "ipython",
    "version": 3
   },
   "file_extension": ".py",
   "mimetype": "text/x-python",
   "name": "python",
   "nbconvert_exporter": "python",
   "pygments_lexer": "ipython3",
   "version": "3.6.3"
  },
  "toc": {
   "nav_menu": {},
   "number_sections": false,
   "sideBar": false,
   "skip_h1_title": false,
   "title_cell": "Table of Contents",
   "title_sidebar": "Contents",
   "toc_cell": true,
   "toc_position": {
    "height": "147px",
    "left": "1008px",
    "top": "107.333px",
    "width": "289px"
   },
   "toc_section_display": false,
   "toc_window_display": true
  }
 },
 "nbformat": 4,
 "nbformat_minor": 2
}
