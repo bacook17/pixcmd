{
 "cells": [
  {
   "cell_type": "code",
   "execution_count": 1,
   "metadata": {},
   "outputs": [],
   "source": [
    "import numpy as np, matplotlib.pyplot as plt, matplotlib as mpl\n",
    "from astropy.io import fits\n",
    "from astropy.table import Table\n",
    "import pcmdpy as ppy\n",
    "import easydarkfigs\n",
    "import pandas as pd\n",
    "from collections import defaultdict\n",
    "from tqdm import tqdm\n",
    "%matplotlib inline"
   ]
  },
  {
   "cell_type": "code",
   "execution_count": 2,
   "metadata": {},
   "outputs": [],
   "source": [
    "import os, shutil\n",
    "from glob import glob"
   ]
  },
  {
   "cell_type": "code",
   "execution_count": 3,
   "metadata": {},
   "outputs": [],
   "source": [
    "%set_darkfigdir figures_dark/\n",
    "%set_lightfigdir figures/"
   ]
  },
  {
   "cell_type": "code",
   "execution_count": 4,
   "metadata": {},
   "outputs": [],
   "source": [
    "counts = defaultdict(int)\n",
    "for infile in sorted(glob(os.path.join('../data/DF2/raw/', 'f*_flc.fits'))):\n",
    "    filt = fits.getval(infile, 'FILTER1')\n",
    "    if 'CLEAR' in filt:\n",
    "        filt = fits.getval(infile, 'FILTER2')\n",
    "    targ = fits.getval(infile, 'TARGNAME')\n",
    "    counts[filt] += 1\n",
    "    newname = f'../data/DF2/raw/DF2_{filt:s}_EXP{counts[filt]:d}_flc.fits'\n",
    "    if os.path.isfile(newname):\n",
    "        raise FileExistsError(f'{newname} exists')\n",
    "    os.rename(infile, newname)"
   ]
  },
  {
   "cell_type": "code",
   "execution_count": 5,
   "metadata": {},
   "outputs": [],
   "source": [
    "vals = {}\n",
    "for f in sorted(glob('../data/DF2/raw/DF2_F814W_EXP*_flc.fits')):\n",
    "    asn = fits.getval(f, 'asn_id')\n",
    "    if asn not in vals:\n",
    "        vals[asn] = []\n",
    "    vals[asn].append(f)"
   ]
  },
  {
   "cell_type": "code",
   "execution_count": 6,
   "metadata": {},
   "outputs": [
    {
     "data": {
      "text/plain": [
       "{'JD5H02020': ['../data/DF2/raw/DF2_F814W_EXP1_flc.fits',\n",
       "  '../data/DF2/raw/DF2_F814W_EXP2_flc.fits',\n",
       "  '../data/DF2/raw/DF2_F814W_EXP3_flc.fits',\n",
       "  '../data/DF2/raw/DF2_F814W_EXP4_flc.fits']}"
      ]
     },
     "execution_count": 6,
     "metadata": {},
     "output_type": "execute_result"
    }
   ],
   "source": [
    "vals"
   ]
  },
  {
   "cell_type": "code",
   "execution_count": 7,
   "metadata": {},
   "outputs": [],
   "source": [
    "vals = {}\n",
    "for f in sorted(glob('../data/DF2/raw/DF2_F606W_EXP*_flc.fits')):\n",
    "    asn = fits.getval(f, 'ROOTNAME')\n",
    "    if asn not in vals:\n",
    "        vals[asn] = []\n",
    "    vals[asn].append(f)"
   ]
  },
  {
   "cell_type": "code",
   "execution_count": 8,
   "metadata": {},
   "outputs": [
    {
     "data": {
      "text/plain": [
       "{'jd5h02wnq': ['../data/DF2/raw/DF2_F606W_EXP1_flc.fits'],\n",
       " 'jd5h02wpq': ['../data/DF2/raw/DF2_F606W_EXP2_flc.fits'],\n",
       " 'jd5h02wrq': ['../data/DF2/raw/DF2_F606W_EXP3_flc.fits'],\n",
       " 'jd5h02wtq': ['../data/DF2/raw/DF2_F606W_EXP4_flc.fits']}"
      ]
     },
     "execution_count": 8,
     "metadata": {},
     "output_type": "execute_result"
    }
   ],
   "source": [
    "vals"
   ]
  },
  {
   "cell_type": "code",
   "execution_count": 9,
   "metadata": {},
   "outputs": [],
   "source": [
    "files = {'F606W': ['../data/DF2/raw/DF2_F606W_EXP{:d}_flc.fits'.format(i) for i in range(1, 5)],\n",
    "         'F814W': ['../data/DF2/raw/DF2_F814W_EXP{:d}_flc.fits'.format(i) for i in range(1, 5)]}\n",
    "outputs = {'F606W': '../data/DF2/reduced/DF2_F606W_drc.fits',\n",
    "          'F814W': '../data/DF2/reduced/DF2_F814W_drc.fits'}\n",
    "diff_im = '../data/DF2/reduced/DF2_V-I.fits'\n",
    "darks = {}"
   ]
  },
  {
   "cell_type": "code",
   "execution_count": 10,
   "metadata": {},
   "outputs": [],
   "source": [
    "from drizzlepac import tweakreg"
   ]
  },
  {
   "cell_type": "markdown",
   "metadata": {},
   "source": [
    "# Alignment and Drizzling"
   ]
  },
  {
   "cell_type": "code",
   "execution_count": 11,
   "metadata": {},
   "outputs": [],
   "source": [
    "# os.environ['jref'] = '/Users/bcook/pCMDs/pixcmd/data/M87/calibration/'"
   ]
  },
  {
   "cell_type": "code",
   "execution_count": 14,
   "metadata": {},
   "outputs": [
    {
     "name": "stdout",
     "output_type": "stream",
     "text": [
      "*****************************************************\n",
      "Realign and Redrizzle relative to F814W\n",
      "--F606W: Realigning\n",
      "{'conv_width': 4.0, 'threshold': 50, 'shiftfile': False, 'updatehdr': True, 'writecat': False, 'clean': True, 'residplot': 'NoPlot', 'see2dplot': False, 'reusename': True, 'interactive': False, 'updatewcs': False, 'enforce_user_order': True, 'expand_refcat': True, 'wcsname': 'TWEAK_F814W', 'refimage': '../data/DF2/reduced/DF2_F814W_drc.fits', 'nclip': 10, 'refimagefindcfg': {'threshold': 50}}\n",
      "Setting up logfile :  tweakreg.log\n",
      "TweakReg Version 1.4.7(18-April-2018) started at: 14:42:35.819 (28/03/2019) \n",
      "\n",
      "Version Information\n",
      "--------------------\n",
      "Python Version [GCC 4.2.1 Compatible Clang 4.0.1 (tags/RELEASE_401/final)]\n",
      "3.6.4 |Anaconda custom (64-bit)| (default, Jan 16 2018, 12:04:33) \n",
      "numpy Version -> 1.15.1 \n",
      "astropy Version -> 3.1.2 \n",
      "stwcs Version -> 1.4.2 \n",
      "\n",
      "Finding shifts for: \n",
      "    /Users/bcook/pCMDs/pixcmd/data/DF2/reduced/DF2_F606W_drc.fits\n",
      "\n",
      "===  Source finding for image '/Users/bcook/pCMDs/pixcmd/data/DF2/reduced/DF2_F606W_drc.fits':\n",
      "  #  Source finding for '/Users/bcook/pCMDs/pixcmd/data/DF2/reduced/DF2_F606W_drc.fits', EXT=('SCI', 1) started at: 14:42:36.080 (28/03/2019)\n",
      "     Found 358 objects.\n",
      "===  FINAL number of objects in image '/Users/bcook/pCMDs/pixcmd/data/DF2/reduced/DF2_F606W_drc.fits': 358\n",
      "\n",
      "===  Source finding for image '../data/DF2/reduced/DF2_F814W_drc.fits':\n",
      "  #  Source finding for '../data/DF2/reduced/DF2_F814W_drc.fits', EXT=('SCI', 1) started at: 14:42:38.580 (28/03/2019)\n",
      "     Found 507 objects.\n",
      "===  FINAL number of objects in image '../data/DF2/reduced/DF2_F814W_drc.fits': 507\n",
      "\n",
      "\n",
      "===============================================================\n",
      "Performing alignment in the projection plane defined by the WCS\n",
      "derived from '/Users/bcook/pCMDs/pixcmd/data/DF2/reduced/DF2_F814W_drc.fits'\n",
      "===============================================================\n",
      "\n",
      "\n",
      "====================\n",
      "Performing fit for: /Users/bcook/pCMDs/pixcmd/data/DF2/reduced/DF2_F606W_drc.fits\n",
      "\n",
      "Matching sources from '/Users/bcook/pCMDs/pixcmd/data/DF2/reduced/DF2_F606W_drc.fits' with sources from reference image '/Users/bcook/pCMDs/pixcmd/data/DF2/reduced/DF2_F814W_drc.fits'\n",
      "Computing initial guess for X and Y shifts...\n",
      "Found initial X and Y shifts of  -0.9729729729742509 -0.37837837837965793\n",
      "    with significance of  277.56378577259284 and  8.0  matches\n",
      "Found 18 matches for /Users/bcook/pCMDs/pixcmd/data/DF2/reduced/DF2_F606W_drc.fits...\n",
      "Computed  rscale  fit for  /Users/bcook/pCMDs/pixcmd/data/DF2/reduced/DF2_F606W_drc.fits : \n",
      "XSH: -0.3105  YSH: -0.2178    ROT: 0.01059076859    SCALE: 0.999930\n",
      "XRMS: 0.54    YRMS: 0.51\n",
      "\n",
      "RMS_RA: 7.6e-06 (deg)   RMS_DEC: 7e-06 (deg)\n",
      "\n",
      "Final solution based on  18  objects.\n",
      "Adding 340 new sources to the reference catalog for a total of 847 sources.\n",
      "Initializing new WCSCORR table for  /Users/bcook/pCMDs/pixcmd/data/DF2/reduced/DF2_F606W_drc.fits\n",
      "\n",
      "....Updating header for /Users/bcook/pCMDs/pixcmd/data/DF2/reduced/DF2_F606W_drc.fits...\n",
      "\n",
      "\n",
      "Processing /Users/bcook/pCMDs/pixcmd/data/DF2/reduced/DF2_F606W_drc.fits['SCI',1]\n",
      "\n",
      "Updating header for /Users/bcook/pCMDs/pixcmd/data/DF2/reduced/DF2_F606W_drc.fits[1]\n",
      "WCS Keywords\n",
      "\n",
      "CD_11  CD_12: -1.388985569408188e-05 2.5676081071387256e-09\n",
      "CD_21  CD_22: 2.567610905189697e-09 1.3889855694082564e-05\n",
      "CRVAL    : 40.44201038580396 -8.412005711259955\n",
      "CRPIX    : 2750.018681953377 2771.080043112261\n",
      "NAXIS    : 5500 5542\n",
      "Plate Scale : 0.049999999999996804\n",
      "ORIENTAT : 0.01059140638657701\n",
      "WCSNAME  :  TWEAK_F814W\n",
      "Trailer file written to:  tweakreg.log\n",
      "--F606W: TweakBack\n",
      "{'force': True, 'verbose': True}\n",
      "TweakBack Version 0.4.0(14-Oct-2014) started at: 14:42:45.250 (28/03/2019)\n",
      "\n",
      "\n",
      "....Updating header for /Users/bcook/pCMDs/pixcmd/data/DF2/raw/DF2_F606W_EXP1_flc.fits...\n",
      "\n"
     ]
    },
    {
     "name": "stderr",
     "output_type": "stream",
     "text": [
      "WARNING: AstropyDeprecationWarning: \n",
      "Private attributes \"_naxis1\" and \"_naxis2\" have been deprecated since v3.1.\n",
      "Instead use the \"pixel_shape\" property which returns a list of NAXISj keyword values.\n",
      " [astropy.wcs.wcs]\n",
      "WARNING: AstropyDeprecationWarning: \n",
      "Private attributes \"_naxis1\" and \"_naxis2\" have been deprecated since v3.1.\n",
      "Instead use the \"pixel_shape\" property which returns a list of NAXISj keyword values.\n",
      " [astropy.wcs.wcs]\n"
     ]
    },
    {
     "name": "stdout",
     "output_type": "stream",
     "text": [
      "\n",
      "Processing /Users/bcook/pCMDs/pixcmd/data/DF2/raw/DF2_F606W_EXP1_flc.fits['SCI',1]\n",
      "\n",
      "Updating header for /Users/bcook/pCMDs/pixcmd/data/DF2/raw/DF2_F606W_EXP1_flc.fits[1]\n",
      "WCS Keywords\n",
      "\n",
      "CD_11  CD_12: -1.2725074382781309e-05 4.6076630245593124e-06\n",
      "CD_21  CD_22: 5.457581400193441e-06 1.3194298666071918e-05\n",
      "CRVAL    : 40.43759258222769 -8.42521112367047\n",
      "CRPIX    : 2048.0 1024.0\n",
      "NAXIS    : 4096 2048\n",
      "Plate Scale : 0.049842259217400625\n",
      "ORIENTAT : 19.25002964124506\n",
      "WCSNAME  :  TWEAK_F814W_1\n",
      "\n",
      "Processing /Users/bcook/pCMDs/pixcmd/data/DF2/raw/DF2_F606W_EXP1_flc.fits['SCI',2]\n",
      "\n",
      "Updating header for /Users/bcook/pCMDs/pixcmd/data/DF2/raw/DF2_F606W_EXP1_flc.fits[4]\n",
      "WCS Keywords\n",
      "\n",
      "CD_11  CD_12: -1.250303230838088e-05 4.356264166596649e-06\n",
      "CD_21  CD_22: 5.561625587281927e-06 1.2787923798047788e-05\n",
      "CRVAL    : 40.44716100819662 -8.397922951526372\n",
      "CRPIX    : 2048.0 1024.0\n",
      "NAXIS    : 4096 2048\n",
      "Plate Scale : 0.04925971208303087\n",
      "ORIENTAT : 18.8116423141606\n",
      "WCSNAME  :  TWEAK_F814W_1\n"
     ]
    },
    {
     "name": "stderr",
     "output_type": "stream",
     "text": [
      "WARNING: AstropyDeprecationWarning: \n",
      "Private attributes \"_naxis1\" and \"_naxis2\" have been deprecated since v3.1.\n",
      "Instead use the \"pixel_shape\" property which returns a list of NAXISj keyword values.\n",
      " [astropy.wcs.wcs]\n",
      "WARNING: AstropyDeprecationWarning: \n",
      "Private attributes \"_naxis1\" and \"_naxis2\" have been deprecated since v3.1.\n",
      "Instead use the \"pixel_shape\" property which returns a list of NAXISj keyword values.\n",
      " [astropy.wcs.wcs]\n",
      "WARNING: AstropyDeprecationWarning: \n",
      "Private attributes \"_naxis1\" and \"_naxis2\" have been deprecated since v3.1.\n",
      "Instead use the \"pixel_shape\" property which returns a list of NAXISj keyword values.\n",
      " [astropy.wcs.wcs]\n",
      "WARNING: AstropyDeprecationWarning: \n",
      "Private attributes \"_naxis1\" and \"_naxis2\" have been deprecated since v3.1.\n",
      "Instead use the \"pixel_shape\" property which returns a list of NAXISj keyword values.\n",
      " [astropy.wcs.wcs]\n",
      "WARNING: AstropyDeprecationWarning: \n",
      "Private attributes \"_naxis1\" and \"_naxis2\" have been deprecated since v3.1.\n",
      "Instead use the \"pixel_shape\" property which returns a list of NAXISj keyword values.\n",
      " [astropy.wcs.wcs]\n",
      "WARNING: AstropyDeprecationWarning: \n",
      "Private attributes \"_naxis1\" and \"_naxis2\" have been deprecated since v3.1.\n",
      "Instead use the \"pixel_shape\" property which returns a list of NAXISj keyword values.\n",
      " [astropy.wcs.wcs]\n"
     ]
    },
    {
     "name": "stdout",
     "output_type": "stream",
     "text": [
      "\n",
      "....Updating header for /Users/bcook/pCMDs/pixcmd/data/DF2/raw/DF2_F606W_EXP2_flc.fits...\n",
      "\n",
      "\n",
      "Processing /Users/bcook/pCMDs/pixcmd/data/DF2/raw/DF2_F606W_EXP2_flc.fits['SCI',1]\n",
      "\n",
      "Updating header for /Users/bcook/pCMDs/pixcmd/data/DF2/raw/DF2_F606W_EXP2_flc.fits[1]\n",
      "WCS Keywords\n",
      "\n",
      "CD_11  CD_12: -1.2725078479108753e-05 4.60766894601631e-06\n",
      "CD_21  CD_22: 5.457587573156216e-06 1.3194303219234092e-05\n",
      "CRVAL    : 40.43759257557334 -8.425211123051712\n",
      "CRPIX    : 2048.0 1024.0\n",
      "NAXIS    : 4096 2048\n",
      "Plate Scale : 0.04984228152046903\n",
      "ORIENTAT : 19.25004640580106\n",
      "WCSNAME  :  TWEAK_F814W_1\n",
      "\n",
      "Processing /Users/bcook/pCMDs/pixcmd/data/DF2/raw/DF2_F606W_EXP2_flc.fits['SCI',2]\n",
      "\n",
      "Updating header for /Users/bcook/pCMDs/pixcmd/data/DF2/raw/DF2_F606W_EXP2_flc.fits[4]\n",
      "WCS Keywords\n",
      "\n",
      "CD_11  CD_12: -1.2503036273639276e-05 4.356269853937209e-06\n",
      "CD_21  CD_22: 5.561631734803092e-06 1.2787928250936052e-05\n",
      "CRVAL    : 40.4471610138799 -8.397922941467812\n",
      "CRPIX    : 2048.0 1024.0\n",
      "NAXIS    : 4096 2048\n",
      "Plate Scale : 0.049259734108244045\n",
      "ORIENTAT : 18.81165905675624\n",
      "WCSNAME  :  TWEAK_F814W_1\n"
     ]
    },
    {
     "name": "stderr",
     "output_type": "stream",
     "text": [
      "WARNING: AstropyDeprecationWarning: \n",
      "Private attributes \"_naxis1\" and \"_naxis2\" have been deprecated since v3.1.\n",
      "Instead use the \"pixel_shape\" property which returns a list of NAXISj keyword values.\n",
      " [astropy.wcs.wcs]\n",
      "WARNING: AstropyDeprecationWarning: \n",
      "Private attributes \"_naxis1\" and \"_naxis2\" have been deprecated since v3.1.\n",
      "Instead use the \"pixel_shape\" property which returns a list of NAXISj keyword values.\n",
      " [astropy.wcs.wcs]\n",
      "WARNING: AstropyDeprecationWarning: \n",
      "Private attributes \"_naxis1\" and \"_naxis2\" have been deprecated since v3.1.\n",
      "Instead use the \"pixel_shape\" property which returns a list of NAXISj keyword values.\n",
      " [astropy.wcs.wcs]\n",
      "WARNING: AstropyDeprecationWarning: \n",
      "Private attributes \"_naxis1\" and \"_naxis2\" have been deprecated since v3.1.\n",
      "Instead use the \"pixel_shape\" property which returns a list of NAXISj keyword values.\n",
      " [astropy.wcs.wcs]\n",
      "WARNING: AstropyDeprecationWarning: \n",
      "Private attributes \"_naxis1\" and \"_naxis2\" have been deprecated since v3.1.\n",
      "Instead use the \"pixel_shape\" property which returns a list of NAXISj keyword values.\n",
      " [astropy.wcs.wcs]\n",
      "WARNING: AstropyDeprecationWarning: \n",
      "Private attributes \"_naxis1\" and \"_naxis2\" have been deprecated since v3.1.\n",
      "Instead use the \"pixel_shape\" property which returns a list of NAXISj keyword values.\n",
      " [astropy.wcs.wcs]\n",
      "WARNING: AstropyDeprecationWarning: \n",
      "Private attributes \"_naxis1\" and \"_naxis2\" have been deprecated since v3.1.\n",
      "Instead use the \"pixel_shape\" property which returns a list of NAXISj keyword values.\n",
      " [astropy.wcs.wcs]\n",
      "WARNING: AstropyDeprecationWarning: \n",
      "Private attributes \"_naxis1\" and \"_naxis2\" have been deprecated since v3.1.\n",
      "Instead use the \"pixel_shape\" property which returns a list of NAXISj keyword values.\n",
      " [astropy.wcs.wcs]\n"
     ]
    },
    {
     "name": "stdout",
     "output_type": "stream",
     "text": [
      "\n",
      "....Updating header for /Users/bcook/pCMDs/pixcmd/data/DF2/raw/DF2_F606W_EXP3_flc.fits...\n",
      "\n",
      "\n",
      "Processing /Users/bcook/pCMDs/pixcmd/data/DF2/raw/DF2_F606W_EXP3_flc.fits['SCI',1]\n",
      "\n"
     ]
    },
    {
     "name": "stderr",
     "output_type": "stream",
     "text": [
      "WARNING: AstropyDeprecationWarning: \n",
      "Private attributes \"_naxis1\" and \"_naxis2\" have been deprecated since v3.1.\n",
      "Instead use the \"pixel_shape\" property which returns a list of NAXISj keyword values.\n",
      " [astropy.wcs.wcs]\n",
      "WARNING: AstropyDeprecationWarning: \n",
      "Private attributes \"_naxis1\" and \"_naxis2\" have been deprecated since v3.1.\n",
      "Instead use the \"pixel_shape\" property which returns a list of NAXISj keyword values.\n",
      " [astropy.wcs.wcs]\n",
      "WARNING: AstropyDeprecationWarning: \n",
      "Private attributes \"_naxis1\" and \"_naxis2\" have been deprecated since v3.1.\n",
      "Instead use the \"pixel_shape\" property which returns a list of NAXISj keyword values.\n",
      " [astropy.wcs.wcs]\n",
      "WARNING: AstropyDeprecationWarning: \n",
      "Private attributes \"_naxis1\" and \"_naxis2\" have been deprecated since v3.1.\n",
      "Instead use the \"pixel_shape\" property which returns a list of NAXISj keyword values.\n",
      " [astropy.wcs.wcs]\n",
      "WARNING: AstropyDeprecationWarning: \n",
      "Private attributes \"_naxis1\" and \"_naxis2\" have been deprecated since v3.1.\n",
      "Instead use the \"pixel_shape\" property which returns a list of NAXISj keyword values.\n",
      " [astropy.wcs.wcs]\n",
      "WARNING: AstropyDeprecationWarning: \n",
      "Private attributes \"_naxis1\" and \"_naxis2\" have been deprecated since v3.1.\n",
      "Instead use the \"pixel_shape\" property which returns a list of NAXISj keyword values.\n",
      " [astropy.wcs.wcs]\n",
      "WARNING: AstropyDeprecationWarning: \n",
      "Private attributes \"_naxis1\" and \"_naxis2\" have been deprecated since v3.1.\n",
      "Instead use the \"pixel_shape\" property which returns a list of NAXISj keyword values.\n",
      " [astropy.wcs.wcs]\n",
      "WARNING: AstropyDeprecationWarning: \n",
      "Private attributes \"_naxis1\" and \"_naxis2\" have been deprecated since v3.1.\n",
      "Instead use the \"pixel_shape\" property which returns a list of NAXISj keyword values.\n",
      " [astropy.wcs.wcs]\n"
     ]
    },
    {
     "name": "stdout",
     "output_type": "stream",
     "text": [
      "Updating header for /Users/bcook/pCMDs/pixcmd/data/DF2/raw/DF2_F606W_EXP3_flc.fits[1]\n",
      "WCS Keywords\n",
      "\n",
      "CD_11  CD_12: -1.2723924062928632e-05 4.608776480528796e-06\n",
      "CD_21  CD_22: 5.458607460098531e-06 1.3193211945329636e-05\n",
      "CRVAL    : 40.437361562363414 -8.425987122516375\n",
      "CRPIX    : 2048.0 1024.0\n",
      "NAXIS    : 4096 2048\n",
      "Plate Scale : 0.049839909694840236\n",
      "ORIENTAT : 19.255808334980134\n",
      "WCSNAME  :  TWEAK_F814W_1\n",
      "\n",
      "Processing /Users/bcook/pCMDs/pixcmd/data/DF2/raw/DF2_F606W_EXP3_flc.fits['SCI',2]\n",
      "\n",
      "Updating header for /Users/bcook/pCMDs/pixcmd/data/DF2/raw/DF2_F606W_EXP3_flc.fits[4]\n",
      "WCS Keywords\n",
      "\n",
      "CD_11  CD_12: -1.2501881999436065e-05 4.35734836774524e-06\n",
      "CD_21  CD_22: 5.562624229528468e-06 1.2786881608999372e-05\n",
      "CRVAL    : 40.4469323382931 -8.39870119143862\n",
      "CRPIX    : 2048.0 1024.0\n",
      "NAXIS    : 4096 2048\n",
      "Plate Scale : 0.04925738998054006\n",
      "ORIENTAT : 18.817420488376644\n",
      "WCSNAME  :  TWEAK_F814W_1\n",
      "\n",
      "....Updating header for /Users/bcook/pCMDs/pixcmd/data/DF2/raw/DF2_F606W_EXP4_flc.fits...\n",
      "\n",
      "\n",
      "Processing /Users/bcook/pCMDs/pixcmd/data/DF2/raw/DF2_F606W_EXP4_flc.fits['SCI',1]\n",
      "\n"
     ]
    },
    {
     "name": "stderr",
     "output_type": "stream",
     "text": [
      "WARNING: AstropyDeprecationWarning: \n",
      "Private attributes \"_naxis1\" and \"_naxis2\" have been deprecated since v3.1.\n",
      "Instead use the \"pixel_shape\" property which returns a list of NAXISj keyword values.\n",
      " [astropy.wcs.wcs]\n",
      "WARNING: AstropyDeprecationWarning: \n",
      "Private attributes \"_naxis1\" and \"_naxis2\" have been deprecated since v3.1.\n",
      "Instead use the \"pixel_shape\" property which returns a list of NAXISj keyword values.\n",
      " [astropy.wcs.wcs]\n",
      "WARNING: AstropyDeprecationWarning: \n",
      "Private attributes \"_naxis1\" and \"_naxis2\" have been deprecated since v3.1.\n",
      "Instead use the \"pixel_shape\" property which returns a list of NAXISj keyword values.\n",
      " [astropy.wcs.wcs]\n",
      "WARNING: AstropyDeprecationWarning: \n",
      "Private attributes \"_naxis1\" and \"_naxis2\" have been deprecated since v3.1.\n",
      "Instead use the \"pixel_shape\" property which returns a list of NAXISj keyword values.\n",
      " [astropy.wcs.wcs]\n",
      "WARNING: AstropyDeprecationWarning: \n",
      "Private attributes \"_naxis1\" and \"_naxis2\" have been deprecated since v3.1.\n",
      "Instead use the \"pixel_shape\" property which returns a list of NAXISj keyword values.\n",
      " [astropy.wcs.wcs]\n",
      "WARNING: AstropyDeprecationWarning: \n",
      "Private attributes \"_naxis1\" and \"_naxis2\" have been deprecated since v3.1.\n",
      "Instead use the \"pixel_shape\" property which returns a list of NAXISj keyword values.\n",
      " [astropy.wcs.wcs]\n",
      "WARNING: AstropyDeprecationWarning: \n",
      "Private attributes \"_naxis1\" and \"_naxis2\" have been deprecated since v3.1.\n",
      "Instead use the \"pixel_shape\" property which returns a list of NAXISj keyword values.\n",
      " [astropy.wcs.wcs]\n",
      "WARNING: AstropyDeprecationWarning: \n",
      "Private attributes \"_naxis1\" and \"_naxis2\" have been deprecated since v3.1.\n",
      "Instead use the \"pixel_shape\" property which returns a list of NAXISj keyword values.\n",
      " [astropy.wcs.wcs]\n"
     ]
    },
    {
     "name": "stdout",
     "output_type": "stream",
     "text": [
      "Updating header for /Users/bcook/pCMDs/pixcmd/data/DF2/raw/DF2_F606W_EXP4_flc.fits[1]\n",
      "WCS Keywords\n",
      "\n",
      "CD_11  CD_12: -1.2724745820002386e-05 4.609091214346348e-06\n",
      "CD_21  CD_22: 5.458976962390356e-06 1.3194065174213036e-05\n",
      "CRVAL    : 40.43736123432359 -8.425988026832057\n",
      "CRPIX    : 2048.0 1024.0\n",
      "NAXIS    : 4096 2048\n",
      "Plate Scale : 0.049843152622106035\n",
      "ORIENTAT : 19.255872874895573\n",
      "WCSNAME  :  TWEAK_F814W_1\n",
      "\n",
      "Processing /Users/bcook/pCMDs/pixcmd/data/DF2/raw/DF2_F606W_EXP4_flc.fits['SCI',2]\n",
      "\n",
      "Updating header for /Users/bcook/pCMDs/pixcmd/data/DF2/raw/DF2_F606W_EXP4_flc.fits[4]\n",
      "WCS Keywords\n",
      "\n",
      "CD_11  CD_12: -1.2502689214469696e-05 4.357646273165374e-06\n",
      "CD_21  CD_22: 5.563000239128279e-06 1.2787708711903316e-05\n",
      "CRVAL    : 40.44693266404555 -8.39870033099376\n",
      "CRPIX    : 2048.0 1024.0\n",
      "NAXIS    : 4096 2048\n",
      "Plate Scale : 0.049260595052590034\n",
      "ORIENTAT : 18.81748494308701\n",
      "WCSNAME  :  TWEAK_F814W_1\n",
      "--F606W: Redrizzling\n",
      "    Drizzling Images with lanczos3 kernel to ../data/DF2/reduced/DF2_F606W_drc.fits\n",
      "{'clean': True, 'build': True, 'skysub': False, 'final_units': 'counts', 'mdriztab': False, 'combine_type': 'median', 'combine_nhigh': 1, 'final_kernel': 'lanczos3', 'final_rot': None, 'final_wcs': True, 'final_refimage': '../data/DF2/reduced/DF2_F814W_drc.fits'}\n",
      "Setting up logfile :  astrodrizzle.log\n",
      "AstroDrizzle Version 2.2.6 (2018-11-02 15:37:13 -0400) started at: 14:42:47.369 (28/03/2019)\n",
      "\n",
      "==== Processing Step  Initialization  started at  14:42:47.372 (28/03/2019)\n",
      "Creating OUTPUT WCS from ../data/DF2/reduced/DF2_F814W_drc.fits[1]\n",
      "WCS Keywords\n",
      "\n",
      "CD_11  CD_12: -1.3888888888888e-05 5.37363927506573e-22\n",
      "CD_21  CD_22: 5.37195795482586e-22 1.38888888888888e-05\n",
      "CRVAL    : 40.44201474531324 -8.412008737308687\n",
      "CRPIX    : 2750.018681953377 2771.080043112261\n",
      "NAXIS    : 5500 5542\n",
      "Plate Scale : 0.049999999999996804\n",
      "ORIENTAT : 2.2167853278264546e-15\n",
      "********************************************************************************\n",
      "*\n",
      "*  Estimated memory usage:  up to 1651 Mb.\n",
      "*  Output image size:       5500 X 5542 pixels. \n",
      "*  Output image file:       ~ 348 Mb. \n",
      "*  Cores available:         4\n",
      "*\n",
      "********************************************************************************\n",
      "==== Processing Step  Initialization  finished at  14:42:51.71 (28/03/2019)\n",
      "\n",
      "==== Processing Step  Static Mask  started at  14:42:51.72 (28/03/2019)\n",
      "==== Processing Step  Static Mask  finished at  14:42:54.153 (28/03/2019)\n",
      "\n",
      "==== Processing Step  Subtract Sky  started at  14:42:54.156 (28/03/2019)\n",
      "==== Processing Step  Subtract Sky  finished at  14:42:54.483 (28/03/2019)\n",
      "\n",
      "==== Processing Step  Separate Drizzle  started at  14:42:54.485 (28/03/2019)\n",
      "WCS Keywords\n",
      "\n",
      "Number of WCS axes: 2\n",
      "CTYPE : 'RA---TAN'  'DEC--TAN'  \n",
      "CRVAL : 40.44200571380328  -8.411999718046738  \n",
      "CRPIX : 2109.5  2148.5  \n",
      "CD1_1 CD1_2  : -1.2922369046074725e-05  5.090541504098662e-06  \n",
      "CD2_1 CD2_2  : 5.090541504098662e-06  1.2922369046074725e-05  \n",
      "NAXIS : 4219  4297\n",
      "-Generating simple FITS output: /Users/bcook/pCMDs/pixcmd/data/DF2/raw/DF2_F606W_EXP1_single_sci.fits\n",
      "-Generating simple FITS output: /Users/bcook/pCMDs/pixcmd/data/DF2/raw/DF2_F606W_EXP3_single_sci.fits\n",
      "-Generating simple FITS output: /Users/bcook/pCMDs/pixcmd/data/DF2/raw/DF2_F606W_EXP4_single_sci.fits\n",
      "-Generating simple FITS output: /Users/bcook/pCMDs/pixcmd/data/DF2/raw/DF2_F606W_EXP2_single_sci.fits\n",
      "Writing out image to disk: /Users/bcook/pCMDs/pixcmd/data/DF2/raw/DF2_F606W_EXP1_single_sci.fits\n",
      "Writing out image to disk: /Users/bcook/pCMDs/pixcmd/data/DF2/raw/DF2_F606W_EXP3_single_sci.fits\n",
      "Writing out image to disk: /Users/bcook/pCMDs/pixcmd/data/DF2/raw/DF2_F606W_EXP4_single_sci.fits\n",
      "Writing out image to disk: /Users/bcook/pCMDs/pixcmd/data/DF2/raw/DF2_F606W_EXP2_single_sci.fits\n",
      "Writing out image to disk: /Users/bcook/pCMDs/pixcmd/data/DF2/raw/DF2_F606W_EXP1_single_wht.fits\n",
      "Writing out image to disk: /Users/bcook/pCMDs/pixcmd/data/DF2/raw/DF2_F606W_EXP4_single_wht.fits\n",
      "Writing out image to disk: /Users/bcook/pCMDs/pixcmd/data/DF2/raw/DF2_F606W_EXP3_single_wht.fits\n",
      "Writing out image to disk: /Users/bcook/pCMDs/pixcmd/data/DF2/raw/DF2_F606W_EXP2_single_wht.fits\n",
      "==== Processing Step  Separate Drizzle  finished at  14:43:03.833 (28/03/2019)\n",
      "\n",
      "==== Processing Step  Create Median  started at  14:43:03.840 (28/03/2019)\n",
      "reference sky value for image '/Users/bcook/pCMDs/pixcmd/data/DF2/raw/DF2_F606W_EXP1_flc.fits' is 54.64183807373047\n",
      "reference sky value for image '/Users/bcook/pCMDs/pixcmd/data/DF2/raw/DF2_F606W_EXP2_flc.fits' is 51.49950790405274\n",
      "reference sky value for image '/Users/bcook/pCMDs/pixcmd/data/DF2/raw/DF2_F606W_EXP3_flc.fits' is 50.58889389038086\n",
      "reference sky value for image '/Users/bcook/pCMDs/pixcmd/data/DF2/raw/DF2_F606W_EXP4_flc.fits' is 50.40410614013672\n",
      "Saving output median image to: '../data/DF2/reduced/DF2_F606W_med.fits'\n",
      "==== Processing Step  Create Median  finished at  14:43:13.312 (28/03/2019)\n",
      "\n",
      "==== Processing Step  Blot  started at  14:43:13.314 (28/03/2019)\n",
      "    Blot: creating blotted image:  /Users/bcook/pCMDs/pixcmd/data/DF2/raw/DF2_F606W_EXP1_flc.fits[sci,1]\n",
      "Using default C-based coordinate transformation...\n",
      "-Generating simple FITS output: /Users/bcook/pCMDs/pixcmd/data/DF2/raw/DF2_F606W_EXP1_sci1_blt.fits\n",
      "Writing out image to disk: /Users/bcook/pCMDs/pixcmd/data/DF2/raw/DF2_F606W_EXP1_sci1_blt.fits\n",
      "    Blot: creating blotted image:  /Users/bcook/pCMDs/pixcmd/data/DF2/raw/DF2_F606W_EXP1_flc.fits[sci,2]\n",
      "Using default C-based coordinate transformation...\n",
      "-Generating simple FITS output: /Users/bcook/pCMDs/pixcmd/data/DF2/raw/DF2_F606W_EXP1_sci2_blt.fits\n",
      "Writing out image to disk: /Users/bcook/pCMDs/pixcmd/data/DF2/raw/DF2_F606W_EXP1_sci2_blt.fits\n",
      "    Blot: creating blotted image:  /Users/bcook/pCMDs/pixcmd/data/DF2/raw/DF2_F606W_EXP2_flc.fits[sci,1]\n",
      "Using default C-based coordinate transformation...\n",
      "-Generating simple FITS output: /Users/bcook/pCMDs/pixcmd/data/DF2/raw/DF2_F606W_EXP2_sci1_blt.fits\n",
      "Writing out image to disk: /Users/bcook/pCMDs/pixcmd/data/DF2/raw/DF2_F606W_EXP2_sci1_blt.fits\n",
      "    Blot: creating blotted image:  /Users/bcook/pCMDs/pixcmd/data/DF2/raw/DF2_F606W_EXP2_flc.fits[sci,2]\n",
      "Using default C-based coordinate transformation...\n",
      "-Generating simple FITS output: /Users/bcook/pCMDs/pixcmd/data/DF2/raw/DF2_F606W_EXP2_sci2_blt.fits\n",
      "Writing out image to disk: /Users/bcook/pCMDs/pixcmd/data/DF2/raw/DF2_F606W_EXP2_sci2_blt.fits\n",
      "    Blot: creating blotted image:  /Users/bcook/pCMDs/pixcmd/data/DF2/raw/DF2_F606W_EXP3_flc.fits[sci,1]\n",
      "Using default C-based coordinate transformation...\n",
      "-Generating simple FITS output: /Users/bcook/pCMDs/pixcmd/data/DF2/raw/DF2_F606W_EXP3_sci1_blt.fits\n",
      "Writing out image to disk: /Users/bcook/pCMDs/pixcmd/data/DF2/raw/DF2_F606W_EXP3_sci1_blt.fits\n",
      "    Blot: creating blotted image:  /Users/bcook/pCMDs/pixcmd/data/DF2/raw/DF2_F606W_EXP3_flc.fits[sci,2]\n",
      "Using default C-based coordinate transformation...\n",
      "-Generating simple FITS output: /Users/bcook/pCMDs/pixcmd/data/DF2/raw/DF2_F606W_EXP3_sci2_blt.fits\n",
      "Writing out image to disk: /Users/bcook/pCMDs/pixcmd/data/DF2/raw/DF2_F606W_EXP3_sci2_blt.fits\n",
      "    Blot: creating blotted image:  /Users/bcook/pCMDs/pixcmd/data/DF2/raw/DF2_F606W_EXP4_flc.fits[sci,1]\n",
      "Using default C-based coordinate transformation...\n",
      "-Generating simple FITS output: /Users/bcook/pCMDs/pixcmd/data/DF2/raw/DF2_F606W_EXP4_sci1_blt.fits\n",
      "Writing out image to disk: /Users/bcook/pCMDs/pixcmd/data/DF2/raw/DF2_F606W_EXP4_sci1_blt.fits\n",
      "    Blot: creating blotted image:  /Users/bcook/pCMDs/pixcmd/data/DF2/raw/DF2_F606W_EXP4_flc.fits[sci,2]\n",
      "Using default C-based coordinate transformation...\n",
      "-Generating simple FITS output: /Users/bcook/pCMDs/pixcmd/data/DF2/raw/DF2_F606W_EXP4_sci2_blt.fits\n",
      "Writing out image to disk: /Users/bcook/pCMDs/pixcmd/data/DF2/raw/DF2_F606W_EXP4_sci2_blt.fits\n",
      "==== Processing Step  Blot  finished at  14:43:32.581 (28/03/2019)\n",
      "\n",
      "==== Processing Step  Driz_CR  started at  14:43:32.583 (28/03/2019)\n",
      "Creating output :  /Users/bcook/pCMDs/pixcmd/data/DF2/raw/DF2_F606W_EXP1_sci1_crmask.fits\n",
      "Creating output :  /Users/bcook/pCMDs/pixcmd/data/DF2/raw/DF2_F606W_EXP2_sci1_crmask.fits\n",
      "Creating output :  /Users/bcook/pCMDs/pixcmd/data/DF2/raw/DF2_F606W_EXP3_sci1_crmask.fits\n",
      "Creating output :  /Users/bcook/pCMDs/pixcmd/data/DF2/raw/DF2_F606W_EXP4_sci1_crmask.fits\n",
      "Creating output :  /Users/bcook/pCMDs/pixcmd/data/DF2/raw/DF2_F606W_EXP1_sci2_crmask.fits\n",
      "Creating output :  /Users/bcook/pCMDs/pixcmd/data/DF2/raw/DF2_F606W_EXP3_sci2_crmask.fits\n",
      "Creating output :  /Users/bcook/pCMDs/pixcmd/data/DF2/raw/DF2_F606W_EXP4_sci2_crmask.fits\n",
      "Creating output :  /Users/bcook/pCMDs/pixcmd/data/DF2/raw/DF2_F606W_EXP2_sci2_crmask.fits\n",
      "==== Processing Step  Driz_CR  finished at  14:43:42.569 (28/03/2019)\n",
      "\n",
      "==== Processing Step  Final Drizzle  started at  14:43:42.590 (28/03/2019)\n",
      "WCS Keywords\n",
      "\n",
      "CD_11  CD_12: -1.3888888888888e-05 5.37363927506573e-22\n",
      "CD_21  CD_22: 5.37195795482586e-22 1.38888888888888e-05\n",
      "CRVAL    : 40.44201474531324 -8.412008737308687\n",
      "CRPIX    : 2750.018681953377 2771.080043112261\n",
      "NAXIS    : 5500 5542\n",
      "Plate Scale : 0.049999999999996804\n",
      "ORIENTAT : 2.2167853278264546e-15\n",
      "-Generating multi-extension output file:  ../data/DF2/reduced/DF2_F606W_drc.fits\n",
      "Deleted all instances of WCS with key A in extensions [1]\n",
      "Deleted all instances of WCS with key B in extensions [1]\n",
      "Deleted all instances of WCS with key C in extensions [1]\n",
      "Deleted all instances of WCS with key D in extensions [1]\n",
      "Deleted all instances of WCS with key E in extensions [1]\n",
      "Writing out to disk: ../data/DF2/reduced/DF2_F606W_drc.fits\n",
      "==== Processing Step  Final Drizzle  finished at  14:44:55.223 (28/03/2019)\n",
      "\n",
      "\n",
      "AstroDrizzle Version 2.2.6 is finished processing at 14:44:55.226 (28/03/2019).\n",
      "\n",
      "\n",
      "   --------------------          --------------------\n",
      "                   Step          Elapsed time\n",
      "   --------------------          --------------------\n",
      "\n",
      "         Initialization          4.3442 sec.\n",
      "            Static Mask          2.4326 sec.\n",
      "           Subtract Sky          0.3273 sec.\n",
      "       Separate Drizzle          9.3485 sec.\n",
      "          Create Median          9.4718 sec.\n",
      "                   Blot          19.2670 sec.\n",
      "                Driz_CR          9.9861 sec.\n",
      "          Final Drizzle          72.6335 sec.\n",
      "   ====================          ====================\n",
      "                  Total          127.8110 sec.\n",
      "Trailer file written to:  astrodrizzle.log\n",
      "*************************\n",
      "Accounting for Noise and Errors\n",
      "--Sky Noise (F814W): 163.7 counts (0.071 cps)\n",
      "--Sky Noise (F606W): 207.1 counts (0.095 cps)\n",
      "--Done\n",
      "CPU times: user 1min 44s, sys: 14.7 s, total: 1min 58s\n",
      "Wall time: 2min 29s\n"
     ]
    }
   ],
   "source": [
    "%%time\n",
    "ppy.data.alignment.drizzle_many(files, outputs, reference_filter='F814W', realign_kwargs={'threshold': 50, \n",
    "                                                                                         'refimagefindcfg': {'threshold': 50}},\n",
    "                                verbose=True, realign_only=True, )"
   ]
  },
  {
   "cell_type": "code",
   "execution_count": 17,
   "metadata": {},
   "outputs": [
    {
     "name": "stdout",
     "output_type": "stream",
     "text": [
      "Setting up logfile :  tweakreg.log\n",
      "TweakReg Version 1.4.7(18-April-2018) started at: 14:46:56.701 (28/03/2019) \n",
      "\n",
      "Version Information\n",
      "--------------------\n",
      "Python Version [GCC 4.2.1 Compatible Clang 4.0.1 (tags/RELEASE_401/final)]\n",
      "3.6.4 |Anaconda custom (64-bit)| (default, Jan 16 2018, 12:04:33) \n",
      "numpy Version -> 1.15.1 \n",
      "astropy Version -> 3.1.2 \n",
      "stwcs Version -> 1.4.2 \n",
      "\n",
      "Finding shifts for: \n",
      "    /Users/bcook/pCMDs/pixcmd/data/DF2/reduced/DF2_F814W_drc.fits\n",
      "    /Users/bcook/pCMDs/pixcmd/data/DF2/reduced/DF2_F606W_drc.fits\n",
      "\n",
      "===  Source finding for image '/Users/bcook/pCMDs/pixcmd/data/DF2/reduced/DF2_F814W_drc.fits':\n",
      "  #  Source finding for '/Users/bcook/pCMDs/pixcmd/data/DF2/reduced/DF2_F814W_drc.fits', EXT=('SCI', 1) started at: 14:46:56.878 (28/03/2019)\n",
      "     Found 383 objects.\n",
      "===  FINAL number of objects in image '/Users/bcook/pCMDs/pixcmd/data/DF2/reduced/DF2_F814W_drc.fits': 383\n",
      "\n",
      "===  Source finding for image '/Users/bcook/pCMDs/pixcmd/data/DF2/reduced/DF2_F606W_drc.fits':\n",
      "  #  Source finding for '/Users/bcook/pCMDs/pixcmd/data/DF2/reduced/DF2_F606W_drc.fits', EXT=('SCI', 1) started at: 14:46:59.466 (28/03/2019)\n",
      "     Found 322 objects.\n",
      "===  FINAL number of objects in image '/Users/bcook/pCMDs/pixcmd/data/DF2/reduced/DF2_F606W_drc.fits': 322\n",
      "\n",
      "\n",
      "===============================================================\n",
      "Performing alignment in the projection plane defined by the WCS\n",
      "derived from '/Users/bcook/pCMDs/pixcmd/data/DF2/reduced/DF2_F814W_drc.fits'\n",
      "===============================================================\n",
      "\n",
      "\n",
      "====================\n",
      "Performing fit for: /Users/bcook/pCMDs/pixcmd/data/DF2/reduced/DF2_F606W_drc.fits\n",
      "\n",
      "Matching sources from '/Users/bcook/pCMDs/pixcmd/data/DF2/reduced/DF2_F606W_drc.fits' with sources from reference image '/Users/bcook/pCMDs/pixcmd/data/DF2/reduced/DF2_F814W_drc.fits'\n",
      "Computing initial guess for X and Y shifts...\n",
      "Found initial X and Y shifts of  0.2439024390231097 -0.5609756097573779\n",
      "    with significance of  288.32809594122267 and  8.0  matches\n",
      "Found 15 matches for /Users/bcook/pCMDs/pixcmd/data/DF2/reduced/DF2_F606W_drc.fits...\n",
      "Computed  rscale  fit for  /Users/bcook/pCMDs/pixcmd/data/DF2/reduced/DF2_F606W_drc.fits : \n",
      "XSH: 0.2456  YSH: -0.2020    ROT: 359.9894311    SCALE: 1.000042\n",
      "XRMS: 0.31    YRMS: 0.37\n",
      "\n",
      "RMS_RA: 4.3e-06 (deg)   RMS_DEC: 5.1e-06 (deg)\n",
      "\n",
      "Final solution based on  15  objects.\n",
      "Total # points:  15\n",
      "# of points after clipping:  15\n",
      "Total # points:  15\n",
      "# of points after clipping:  15\n",
      "Trailer file written to:  tweakreg.log\n"
     ]
    },
    {
     "data": {
      "image/png": "[encoded data removed]",
      "text/plain": [
       "<Figure size 432x288 with 2 Axes>"
      ]
     },
     "metadata": {},
     "output_type": "display_data"
    },
    {
     "data": {
      "image/png": "[encoded data removed]",
      "text/plain": [
       "<Figure size 432x288 with 1 Axes>"
      ]
     },
     "metadata": {},
     "output_type": "display_data"
    },
    {
     "data": {
      "image/png": "[encoded data removed]",
      "text/plain": [
       "<Figure size 432x288 with 4 Axes>"
      ]
     },
     "metadata": {},
     "output_type": "display_data"
    }
   ],
   "source": [
    "tweakreg.TweakReg([outputs['F814W'], outputs['F606W']], conv_width=4.0, threshold=50, nclip=10, minobj=5,\n",
    "                  shiftfile=False, writecat=False, clean=True,\n",
    "                 interactive=False, updatehdr=False)"
   ]
  },
  {
   "cell_type": "code",
   "execution_count": 18,
   "metadata": {},
   "outputs": [],
   "source": [
    "# Create difference image to check alignment\n",
    "f1 = fits.open(outputs['F814W'])\n",
    "f2 = fits.open(outputs['F606W'])\n",
    "data = f2['SCI'].data / f1['SCI'].data\n",
    "hdulist = fits.HDUList([fits.PrimaryHDU(), fits.ImageHDU(data=data)])\n",
    "hdulist.writeto(diff_im, overwrite=True)"
   ]
  },
  {
   "cell_type": "markdown",
   "metadata": {},
   "source": [
    "# Automatic Source Extraction"
   ]
  },
  {
   "cell_type": "code",
   "execution_count": 19,
   "metadata": {},
   "outputs": [],
   "source": [
    "ppy.data.alignment._add_flag(outputs['F814W'], exp_ratio=0.9)\n",
    "ppy.data.alignment._add_flag(outputs['F606W'], exp_ratio=0.9)"
   ]
  },
  {
   "cell_type": "code",
   "execution_count": 20,
   "metadata": {},
   "outputs": [
    {
     "name": "stdout",
     "output_type": "stream",
     "text": [
      "CPU times: user 2min 50s, sys: 5.24 s, total: 2min 56s\n",
      "Wall time: 3min 5s\n"
     ]
    }
   ],
   "source": [
    "%%time\n",
    "box = 8\n",
    "ppy.data.sources.estimate_background(outputs['F814W'], bkg_kwargs={'bw':box, 'bh':box})"
   ]
  },
  {
   "cell_type": "code",
   "execution_count": 21,
   "metadata": {},
   "outputs": [
    {
     "name": "stdout",
     "output_type": "stream",
     "text": [
      "CPU times: user 3.89 s, sys: 7.78 s, total: 11.7 s\n",
      "Wall time: 24.6 s\n"
     ]
    }
   ],
   "source": [
    "%%time\n",
    "ppy.data.sources.mask_sources_auto(outputs['F814W'], threshold=10.0)"
   ]
  },
  {
   "cell_type": "markdown",
   "metadata": {},
   "source": [
    "# Manual Source Extraction"
   ]
  },
  {
   "cell_type": "code",
   "execution_count": 26,
   "metadata": {},
   "outputs": [],
   "source": [
    "ppy.data.sources.mask_sources_manual(outputs['F814W'], '../data/DF2/masks/DF2_F814W.reg')"
   ]
  },
  {
   "cell_type": "code",
   "execution_count": 27,
   "metadata": {},
   "outputs": [],
   "source": [
    "# compute regions using only source masks\n",
    "ppy.data.sources._add_masked(outputs['F814W'], mask_flags=[ppy.data.utils.ALL_FLAGS['SEXTRACTOR'],\n",
    "                                                            ppy.data.utils.ALL_FLAGS['MANUAL']])"
   ]
  },
  {
   "cell_type": "markdown",
   "metadata": {},
   "source": [
    "# Combine Masks"
   ]
  },
  {
   "cell_type": "code",
   "execution_count": 28,
   "metadata": {},
   "outputs": [],
   "source": [
    "ppy.data.utils.combine_flags(outputs)"
   ]
  },
  {
   "cell_type": "markdown",
   "metadata": {},
   "source": [
    "# Compute Regions"
   ]
  },
  {
   "cell_type": "code",
   "execution_count": 14,
   "metadata": {},
   "outputs": [
    {
     "name": "stderr",
     "output_type": "stream",
     "text": [
      "100%|██████████| 1/1 [00:00<00:00,  5.62it/s]\n"
     ]
    }
   ],
   "source": [
    "regions = ppy.data.extraction.add_regions(outputs, '../data/DF2/masks/DF2_F814W_contours.reg', base_filter='F814W',\n",
    "                                          xc=2474, yc=3411, do_quadrants=False)"
   ]
  },
  {
   "cell_type": "markdown",
   "metadata": {},
   "source": [
    "# Extract PCMDs"
   ]
  },
  {
   "cell_type": "code",
   "execution_count": 15,
   "metadata": {},
   "outputs": [
    {
     "name": "stdout",
     "output_type": "stream",
     "text": [
      "Filter: F814W\n",
      "Observation Date: 57708 (MJD)\n",
      "Vega ZeroPoint: 25.5163\n",
      "AB ZeroPoint: 25.9442\n",
      "ST ZeroPoint: 26.7798\n",
      "Exposure Time: 2320.0\n",
      "A pre-made filter is available\n",
      "Filter: F606W\n",
      "Observation Date: 57708 (MJD)\n",
      "Vega ZeroPoint: 26.4044\n",
      "AB ZeroPoint: 26.4977\n",
      "ST ZeroPoint: 26.6679\n",
      "Exposure Time: 2180.0\n",
      "A pre-made filter is available\n"
     ]
    },
    {
     "name": "stderr",
     "output_type": "stream",
     "text": [
      "100%|██████████| 1/1 [00:00<00:00,  4.54it/s]\n"
     ]
    }
   ],
   "source": [
    "pcmds = ppy.data.extraction.save_pcmds(outputs, 'F814W', 'F606W', path='../data/DF2/pcmds/', name_append='DF2_I_VI')"
   ]
  },
  {
   "cell_type": "code",
   "execution_count": 16,
   "metadata": {},
   "outputs": [
    {
     "data": {
      "text/plain": [
       "dict_keys([1])"
      ]
     },
     "execution_count": 16,
     "metadata": {},
     "output_type": "execute_result"
    }
   ],
   "source": [
    "pcmds.keys()"
   ]
  },
  {
   "cell_type": "markdown",
   "metadata": {},
   "source": [
    "# Check"
   ]
  },
  {
   "cell_type": "code",
   "execution_count": 11,
   "metadata": {},
   "outputs": [
    {
     "name": "stderr",
     "output_type": "stream",
     "text": [
      "100%|██████████| 1/1 [00:00<00:00,  7.92it/s]\n"
     ]
    }
   ],
   "source": [
    "pcmds = {}\n",
    "for i in tqdm(range(1, 2)):\n",
    "    filename = f'../data/DF2/pcmds/DF2_I_VI_{i}.pcmd'\n",
    "    try:\n",
    "        pcmds[i] = np.loadtxt(filename, unpack=True)\n",
    "    except OSError:\n",
    "        continue\n",
    "    if len(pcmds[i]) == 0:\n",
    "        pcmds.pop(i)\n",
    "        os.remove(filename)"
   ]
  },
  {
   "cell_type": "code",
   "execution_count": 12,
   "metadata": {},
   "outputs": [],
   "source": [
    "keys = np.array(list(pcmds.keys()))"
   ]
  },
  {
   "cell_type": "code",
   "execution_count": 13,
   "metadata": {},
   "outputs": [
    {
     "data": {
      "text/plain": [
       "array([1])"
      ]
     },
     "execution_count": 13,
     "metadata": {},
     "output_type": "execute_result"
    }
   ],
   "source": [
    "keys"
   ]
  },
  {
   "cell_type": "code",
   "execution_count": 14,
   "metadata": {},
   "outputs": [],
   "source": [
    "Neffs = {i: np.sqrt(pcmds[i].shape[1]) for i in pcmds.keys()}"
   ]
  },
  {
   "cell_type": "code",
   "execution_count": 17,
   "metadata": {},
   "outputs": [
    {
     "data": {
      "text/plain": [
       "[<matplotlib.lines.Line2D at 0x11eff3240>]"
      ]
     },
     "execution_count": 17,
     "metadata": {},
     "output_type": "execute_result"
    },
    {
     "data": {
      "image/png": "[encoded data removed]",
      "text/plain": [
       "<Figure size 432x288 with 1 Axes>"
      ]
     },
     "metadata": {},
     "output_type": "display_data"
    }
   ],
   "source": [
    "plt.plot(Neffs.keys(), Neffs.values(), 'ko')"
   ]
  },
  {
   "cell_type": "code",
   "execution_count": 18,
   "metadata": {},
   "outputs": [],
   "source": [
    "f = ppy.instrument.default_df2_filters()\n",
    "iso_model = ppy.isochrones.Isochrone_Model(f)"
   ]
  },
  {
   "cell_type": "code",
   "execution_count": 76,
   "metadata": {},
   "outputs": [
    {
     "data": {
      "text/plain": [
       "(30.0, 31.989700043360187)"
      ]
     },
     "execution_count": 76,
     "metadata": {},
     "output_type": "execute_result"
    }
   ],
   "source": [
    "ppy.distancemodels.mpc_to_dmod(10.0), ppy.distancemodels.mpc_to_dmod(25.0)"
   ]
  },
  {
   "cell_type": "code",
   "execution_count": 75,
   "metadata": {},
   "outputs": [
    {
     "data": {
      "text/plain": [
       "31.505149978319906"
      ]
     },
     "execution_count": 75,
     "metadata": {},
     "output_type": "execute_result"
    }
   ],
   "source": [
    "ppy.distancemodels.mpc_to_dmod(20.0)"
   ]
  },
  {
   "cell_type": "code",
   "execution_count": 51,
   "metadata": {},
   "outputs": [],
   "source": [
    "dmod = 31.505"
   ]
  },
  {
   "cell_type": "code",
   "execution_count": 52,
   "metadata": {},
   "outputs": [
    {
     "data": {
      "text/plain": [
       "19.998618696327437"
      ]
     },
     "execution_count": 52,
     "metadata": {},
     "output_type": "execute_result"
    }
   ],
   "source": [
    "ppy.distancemodels.dmod_to_mpc(dmod)"
   ]
  },
  {
   "cell_type": "code",
   "execution_count": 53,
   "metadata": {},
   "outputs": [],
   "source": [
    "driv = ppy.driver.Driver(iso_model, gpu=False)"
   ]
  },
  {
   "cell_type": "code",
   "execution_count": 54,
   "metadata": {},
   "outputs": [],
   "source": [
    "age = np.log10(8.9e9)\n",
    "feh = -1.07"
   ]
  },
  {
   "cell_type": "code",
   "execution_count": 55,
   "metadata": {},
   "outputs": [],
   "source": [
    "gal_1 = ppy.galaxy.SSPSimple(np.array([feh, -2., 1., age]), dmod=dmod)\n",
    "gal_2 = ppy.galaxy.SSPSimple(np.array([feh, -2., 2., age]), dmod=dmod)\n",
    "gal_3 = ppy.galaxy.SSPSimple(np.array([feh, -2., 3., age]), dmod=dmod)\n",
    "gal_4 = ppy.galaxy.SSPSimple(np.array([feh, -2., 4., age]), dmod=dmod)"
   ]
  },
  {
   "cell_type": "code",
   "execution_count": 65,
   "metadata": {},
   "outputs": [
    {
     "data": {
      "text/plain": [
       "28.248675518789156"
      ]
     },
     "execution_count": 65,
     "metadata": {},
     "output_type": "execute_result"
    }
   ],
   "source": [
    "sky = [187.3, 210.6]\n",
    "f[0].counts_to_mag(sky[0])"
   ]
  },
  {
   "cell_type": "code",
   "execution_count": 57,
   "metadata": {},
   "outputs": [],
   "source": [
    "pcmd_1, _ = driv.simulate(gal_1, 256, sky_noise=sky)\n",
    "pcmd_2, _ = driv.simulate(gal_2, 256, sky_noise=sky)\n",
    "pcmd_3, _ = driv.simulate(gal_3, 256, sky_noise=sky)\n",
    "pcmd_4, _ = driv.simulate(gal_4, 256, sky_noise=sky)"
   ]
  },
  {
   "cell_type": "code",
   "execution_count": 58,
   "metadata": {},
   "outputs": [],
   "source": [
    "is_dark = False\n",
    "fig, ax = plt.subplots(figsize=(8, 5))\n",
    "pcmd = pcmds[1]\n",
    "ppy.plotting.plot_pcmd(pcmd, ax=ax)\n",
    "# ppy.plotting.plot_pcmd_contours(pcmd_1, keep_limits=True, ax=ax, alpha=0.3, color=('w' if is_dark else 'k'))\n",
    "ppy.plotting.plot_pcmd_contours(pcmd_2, keep_limits=True, ax=ax, alpha=0.3, color=('w' if is_dark else 'k'))\n",
    "ppy.plotting.plot_pcmd_contours(pcmd_3, keep_limits=True, ax=ax, alpha=0.3, color=('w' if is_dark else 'k'))\n",
    "ppy.plotting.plot_pcmd_contours(pcmd_4, keep_limits=True, ax=ax, alpha=0.3, color=('w' if is_dark else 'k'))\n",
    "ax.set_title('NGC1052-DF2, Neff = {:.0f}'.format(np.sqrt(pcmd.shape[1])))\n",
    "ppy.plotting.plot_isochrone(iso_model, dmod=dmod, axes=ax, mag_system='vega')\n",
    "ax.axhline(y=f[0].counts_to_mag(sky[0]), color='r', ls='--')\n",
    "ax.set_xlim([0, 1.5])\n",
    "ax.set_ylim([29, 27])\n",
    "plt.tight_layout()\n",
    "try:\n",
    "    plt.savefig(f'figures/DF2/DF2_pcmds.pdf')\n",
    "except TypeError:\n",
    "    pass\n",
    "plt.close()"
   ]
  },
  {
   "cell_type": "code",
   "execution_count": 66,
   "metadata": {},
   "outputs": [
    {
     "data": {
      "text/plain": [
       "28.160999"
      ]
     },
     "execution_count": 66,
     "metadata": {},
     "output_type": "execute_result"
    }
   ],
   "source": [
    "np.median(pcmd[0])"
   ]
  },
  {
   "cell_type": "code",
   "execution_count": 67,
   "metadata": {},
   "outputs": [
    {
     "data": {
      "text/plain": [
       "28.250416"
      ]
     },
     "execution_count": 67,
     "metadata": {},
     "output_type": "execute_result"
    }
   ],
   "source": [
    "np.median(pcmd_1[0])"
   ]
  },
  {
   "cell_type": "code",
   "execution_count": 68,
   "metadata": {},
   "outputs": [
    {
     "data": {
      "text/plain": [
       "28.238865"
      ]
     },
     "execution_count": 68,
     "metadata": {},
     "output_type": "execute_result"
    }
   ],
   "source": [
    "np.median(pcmd_2[0])"
   ]
  },
  {
   "cell_type": "code",
   "execution_count": 69,
   "metadata": {},
   "outputs": [
    {
     "data": {
      "text/plain": [
       "28.124472"
      ]
     },
     "execution_count": 69,
     "metadata": {},
     "output_type": "execute_result"
    }
   ],
   "source": [
    "np.median(pcmd_3[0])"
   ]
  },
  {
   "cell_type": "code",
   "execution_count": 70,
   "metadata": {},
   "outputs": [
    {
     "data": {
      "text/plain": [
       "27.37968"
      ]
     },
     "execution_count": 70,
     "metadata": {},
     "output_type": "execute_result"
    }
   ],
   "source": [
    "np.median(pcmd_4[0])"
   ]
  },
  {
   "cell_type": "code",
   "execution_count": null,
   "metadata": {},
   "outputs": [],
   "source": []
  }
 ],
 "metadata": {
  "kernelspec": {
   "display_name": "Python 3",
   "language": "python",
   "name": "python3"
  },
  "language_info": {
   "codemirror_mode": {
    "name": "ipython",
    "version": 3
   },
   "file_extension": ".py",
   "mimetype": "text/x-python",
   "name": "python",
   "nbconvert_exporter": "python",
   "pygments_lexer": "ipython3",
   "version": "3.6.4"
  }
 },
 "nbformat": 4,
 "nbformat_minor": 2
}
