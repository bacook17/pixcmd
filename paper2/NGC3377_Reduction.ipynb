{
 "cells": [
  {
   "cell_type": "code",
   "execution_count": 1,
   "metadata": {},
   "outputs": [],
   "source": [
    "import numpy as np, matplotlib.pyplot as plt, matplotlib as mpl\n",
    "from astropy.io import fits\n",
    "from astropy.table import Table\n",
    "from tqdm import tqdm\n",
    "import pcmdpy as ppy\n",
    "%matplotlib inline"
   ]
  },
  {
   "cell_type": "code",
   "execution_count": 2,
   "metadata": {},
   "outputs": [],
   "source": [
    "from pcmdpy.data.alignment import drizzle_image_sets"
   ]
  },
  {
   "cell_type": "code",
   "execution_count": 3,
   "metadata": {},
   "outputs": [],
   "source": [
    "from pcmdpy.data import sources, utils, extraction"
   ]
  },
  {
   "cell_type": "code",
   "execution_count": 4,
   "metadata": {},
   "outputs": [],
   "source": [
    "import pandas as pd"
   ]
  },
  {
   "cell_type": "markdown",
   "metadata": {},
   "source": [
    "# Alignment and Drizzling"
   ]
  },
  {
   "cell_type": "code",
   "execution_count": 5,
   "metadata": {},
   "outputs": [],
   "source": [
    "files = {'F475W': ['../data/NGC3377/raw/NGC3377_F475W_EXP{:d}_flc.fits'.format(i) for i in range(1, 5)],\n",
    "         'F850LP': ['../data/NGC3377/raw/NGC3377_F850LP_EXP{:d}_flc.fits'.format(i) for i in range(1, 5)]}\n",
    "outputs = {'F475W': '../data/NGC3377/reduced/NGC3377_F475W_drc.fits',\n",
    "          'F850LP': '../data/NGC3377/reduced/NGC3377_F850LP_drc.fits'}\n",
    "darks = {filt: '../data/NGC3377/calibration/25716350j_drk.fits' for filt in files.keys()}"
   ]
  },
  {
   "cell_type": "code",
   "execution_count": 7,
   "metadata": {},
   "outputs": [
    {
     "name": "stdout",
     "output_type": "stream",
     "text": [
      "--Initial Alignment: tweakreg on all files\n",
      "--Creating temporary dark files\n",
      "--Drizzling Images with lanczos3 kernel\n",
      "--Accounting for Dark and Sky Noise\n"
     ]
    },
    {
     "name": "stderr",
     "output_type": "stream",
     "text": [
      "/Users/bcook/pCMDs/pixcmd/pcmdpy/pcmdpy/data/alignment.py:67: RuntimeWarning: invalid value encountered in greater\n",
      "  too_dark = (dark['SCI'].data > dark_med_factor*dark_med)\n"
     ]
    },
    {
     "name": "stdout",
     "output_type": "stream",
     "text": [
      "Noise Properties\n",
      "==============\n",
      "F475W\n",
      "--Total: 113.5 counts (0.082 cps)\n",
      "--Sky: 105.8 counts (0.077 cps)\n",
      "--Dark: 7.6 counts (0.006 cps)\n",
      "F850LP\n",
      "--Total: 187.9 counts (0.063 cps)\n",
      "--Sky: 171.4 counts (0.057 cps)\n",
      "--Dark: 16.5 counts (0.005 cps)\n",
      "--Removing temporary files\n",
      "--Done\n",
      "CPU times: user 5min 30s, sys: 32.8 s, total: 6min 3s\n",
      "Wall time: 6min 46s\n"
     ]
    }
   ],
   "source": [
    "%%time\n",
    "drizzle_image_sets(files, outputs, darks)"
   ]
  },
  {
   "cell_type": "markdown",
   "metadata": {},
   "source": [
    "# Automatic Source Extraction"
   ]
  },
  {
   "cell_type": "code",
   "execution_count": 10,
   "metadata": {},
   "outputs": [
    {
     "name": "stdout",
     "output_type": "stream",
     "text": [
      "CPU times: user 14.1 s, sys: 2.58 s, total: 16.6 s\n",
      "Wall time: 17.4 s\n"
     ]
    },
    {
     "data": {
      "text/plain": [
       "<astropy.io.fits.hdu.image.ImageHDU at 0x124a21128>"
      ]
     },
     "execution_count": 10,
     "metadata": {},
     "output_type": "execute_result"
    }
   ],
   "source": [
    "%%time\n",
    "box = 8\n",
    "sources.estimate_background(outputs['F850LP'], bkg_kwargs={'bw':box, 'bh':box})"
   ]
  },
  {
   "cell_type": "code",
   "execution_count": 12,
   "metadata": {},
   "outputs": [
    {
     "name": "stdout",
     "output_type": "stream",
     "text": [
      "CPU times: user 2.48 s, sys: 2.81 s, total: 5.29 s\n",
      "Wall time: 6.05 s\n"
     ]
    }
   ],
   "source": [
    "%%time\n",
    "sources.mask_sources_auto(outputs['F850LP'], threshold=10.0)"
   ]
  },
  {
   "cell_type": "markdown",
   "metadata": {},
   "source": [
    "# Manual Source Extraction"
   ]
  },
  {
   "cell_type": "code",
   "execution_count": 13,
   "metadata": {},
   "outputs": [],
   "source": [
    "sources.mask_sources_manual(outputs['F850LP'], '../data/NGC3377/masks/NGC3377_F850LP.reg')"
   ]
  },
  {
   "cell_type": "code",
   "execution_count": 16,
   "metadata": {},
   "outputs": [],
   "source": [
    "# compute regions using only source masks\n",
    "sources._add_masked(outputs['F850LP'], mask_flags=[utils.ALL_FLAGS['SEXTRACTOR'],\n",
    "                                                   utils.ALL_FLAGS['MANUAL']])"
   ]
  },
  {
   "cell_type": "markdown",
   "metadata": {},
   "source": [
    "# Combine Masks"
   ]
  },
  {
   "cell_type": "code",
   "execution_count": 6,
   "metadata": {},
   "outputs": [],
   "source": [
    "utils.combine_flags(outputs)"
   ]
  },
  {
   "cell_type": "markdown",
   "metadata": {},
   "source": [
    "# Compute Regions"
   ]
  },
  {
   "cell_type": "code",
   "execution_count": 6,
   "metadata": {},
   "outputs": [
    {
     "name": "stderr",
     "output_type": "stream",
     "text": [
      "100%|██████████| 47/47 [01:14<00:00,  1.59s/it]\n"
     ]
    }
   ],
   "source": [
    "extraction.add_regions(outputs, '../data/NGC3377/masks/NGC3377_F850LP_contours.reg', base_filter='F850LP')"
   ]
  },
  {
   "cell_type": "markdown",
   "metadata": {},
   "source": [
    "# Extract PCMDs"
   ]
  },
  {
   "cell_type": "code",
   "execution_count": 6,
   "metadata": {},
   "outputs": [
    {
     "name": "stdout",
     "output_type": "stream",
     "text": [
      "Filter: F850LP\n",
      "Observation Date: 53748 (MJD)\n",
      "Vega ZeroPoint: 24.3512\n",
      "AB ZeroPoint: 24.8770\n",
      "ST ZeroPoint: 25.9650\n",
      "Exposure Time: 3005.0\n",
      "A pre-made filter is available\n",
      "Filter: F475W\n",
      "Observation Date: 53748 (MJD)\n",
      "Vega ZeroPoint: 26.1702\n",
      "AB ZeroPoint: 26.0776\n",
      "ST ZeroPoint: 25.7668\n",
      "Exposure Time: 1380.0\n",
      "A pre-made filter is available\n"
     ]
    },
    {
     "name": "stderr",
     "output_type": "stream",
     "text": [
      "100%|██████████| 188/188 [00:27<00:00,  6.86it/s]\n"
     ]
    }
   ],
   "source": [
    "pcmds = extraction.save_pcmds(outputs, 'F850LP', 'F475W', path='../data/NGC3377/pcmds/', name_append='NGC3377_z_gz')"
   ]
  },
  {
   "cell_type": "markdown",
   "metadata": {},
   "source": [
    "# Check"
   ]
  },
  {
   "cell_type": "code",
   "execution_count": 42,
   "metadata": {},
   "outputs": [],
   "source": [
    "Neffs = {i: np.sqrt(pcmds[i].shape[1]) for i in range(1, max(pcmds.keys())+1)}"
   ]
  },
  {
   "cell_type": "code",
   "execution_count": 43,
   "metadata": {},
   "outputs": [],
   "source": [
    "Neffs_by_slice = {i: [Neffs[j] for j in range(4*i, 4*i+4)] for i in range(1, max(pcmds.keys())//4)}"
   ]
  },
  {
   "cell_type": "code",
   "execution_count": 8,
   "metadata": {},
   "outputs": [],
   "source": [
    "f = ppy.instrument.default_NGC3377_filters()\n",
    "iso_model = ppy.isochrones.Isochrone_Model(f)"
   ]
  },
  {
   "cell_type": "code",
   "execution_count": 9,
   "metadata": {},
   "outputs": [
    {
     "data": {
      "text/plain": [
       "30.24609011335091"
      ]
     },
     "execution_count": 9,
     "metadata": {},
     "output_type": "execute_result"
    }
   ],
   "source": [
    "ppy.distancemodels.mpc_to_dmod(11.2)"
   ]
  },
  {
   "cell_type": "code",
   "execution_count": 18,
   "metadata": {},
   "outputs": [
    {
     "data": {
      "text/plain": [
       "27.460532954579477"
      ]
     },
     "execution_count": 18,
     "metadata": {},
     "output_type": "execute_result"
    }
   ],
   "source": [
    "h = fits.open(outputs['F850LP'])\n",
    "f[0].counts_to_mag(h[0].header['SKYNOISE'])"
   ]
  },
  {
   "cell_type": "code",
   "execution_count": 47,
   "metadata": {},
   "outputs": [],
   "source": [
    "driv = ppy.driver.Driver(iso_model, gpu=False)"
   ]
  },
  {
   "cell_type": "code",
   "execution_count": 81,
   "metadata": {},
   "outputs": [],
   "source": [
    "gal_3 = ppy.galaxy.SSPSimple(np.array([0., -2., 3., 10.]), dmod=30.)\n",
    "gal_4 = ppy.galaxy.SSPSimple(np.array([0., -2., 4., 10.]), dmod=30.)\n",
    "gal_5 = ppy.galaxy.SSPSimple(np.array([0., -2., 5., 10.]), dmod=30.)\n",
    "gal_6 = ppy.galaxy.SSPSimple(np.array([0., -2., 6., 10.]), dmod=30.)"
   ]
  },
  {
   "cell_type": "code",
   "execution_count": 82,
   "metadata": {},
   "outputs": [],
   "source": [
    "pcmd_3, _ = driv.simulate(gal_3, 128, sky_noise=[140., 90.])\n",
    "pcmd_4, _ = driv.simulate(gal_4, 128, sky_noise=[140., 90.])\n",
    "pcmd_5, _ = driv.simulate(gal_5, 128, sky_noise=[140., 90.])\n",
    "pcmd_6, _ = driv.simulate(gal_6, 128, sky_noise=[140., 90.])"
   ]
  },
  {
   "cell_type": "code",
   "execution_count": null,
   "metadata": {},
   "outputs": [],
   "source": [
    "fig, axes = plt.subplots(ncols=4, nrows=9, figsize=(15, 25), sharex=True, sharey=True)\n",
    "for i, r in enumerate([0, 5, 10, 15, 20, 25, 30, 35, 40]):\n",
    "    for j in range(4):\n",
    "        k = j + 1 + 4*r\n",
    "        pcmd = pcmds[k]\n",
    "        ppy.plotting.plot_pcmd(pcmd, ax=axes[i, j])\n",
    "        ppy.plotting.plot_pcmd_contours(pcmd_3, ax=axes[i,j], alpha=0.7, color='k', ls='--')\n",
    "        ppy.plotting.plot_pcmd_contours(pcmd_4, ax=axes[i,j], alpha=0.7, color='k', ls='--')\n",
    "        ppy.plotting.plot_pcmd_contours(pcmd_5, ax=axes[i,j], alpha=0.7, color='k', ls='--')\n",
    "        axes[i,j].set_title('Region {:d}, Neff = {:.0f}'.format(k, np.sqrt(pcmd.shape[1])))\n",
    "for a in axes.flatten():\n",
    "    ppy.plotting.plot_isochrone(iso_model, dmod=30.25, axes=a, mag_system='vega')\n",
    "    a.axhline(y=f[0].counts_to_mag(140), color='r', ls='--')\n",
    "axes[0,0].set_xlim([0.5, 2.5])\n",
    "axes[0,0].set_ylim([29, 22])\n",
    "plt.tight_layout()"
   ]
  },
  {
   "cell_type": "code",
   "execution_count": 63,
   "metadata": {},
   "outputs": [
    {
     "data": {
      "text/plain": [
       "<matplotlib.axes._subplots.AxesSubplot at 0x124a3fd68>"
      ]
     },
     "execution_count": 63,
     "metadata": {},
     "output_type": "execute_result"
    },
    {
     "data": {
      "image/png": "[encoded data removed]",
      "text/plain": [
       "<Figure size 432x288 with 1 Axes>"
      ]
     },
     "metadata": {},
     "output_type": "display_data"
    }
   ],
   "source": [
    "fig, [ax] = ppy.plotting.plot_pcmd_contours(pcmd)\n",
    "ppy.plotting.plot_isochrone(iso_model, axes=ax)"
   ]
  },
  {
   "cell_type": "code",
   "execution_count": 27,
   "metadata": {},
   "outputs": [
    {
     "ename": "NoCfgFileError",
     "evalue": "No valid .cfg files found in package: \"drizzlepac.sky\" for task: \"sky\"",
     "output_type": "error",
     "traceback": [
      "\u001b[0;31m---------------------------------------------------------------------------\u001b[0m",
      "\u001b[0;31mNoCfgFileError\u001b[0m                            Traceback (most recent call last)",
      "\u001b[0;32m<ipython-input-27-d704a60bd302>\u001b[0m in \u001b[0;36m<module>\u001b[0;34m()\u001b[0m\n\u001b[1;32m      1\u001b[0m \u001b[0;32mfrom\u001b[0m \u001b[0mdrizzlepac\u001b[0m \u001b[0;32mimport\u001b[0m \u001b[0msky\u001b[0m\u001b[0;34m\u001b[0m\u001b[0m\n\u001b[0;32m----> 2\u001b[0;31m \u001b[0msky\u001b[0m\u001b[0;34m.\u001b[0m\u001b[0msky\u001b[0m\u001b[0;34m(\u001b[0m\u001b[0moutputs\u001b[0m\u001b[0;34m[\u001b[0m\u001b[0;34m'F850LP'\u001b[0m\u001b[0;34m]\u001b[0m\u001b[0;34m)\u001b[0m\u001b[0;34m\u001b[0m\u001b[0m\n\u001b[0m",
      "\u001b[0;32m~/anaconda/envs/py36/lib/python3.6/site-packages/drizzlepac/sky.py\u001b[0m in \u001b[0;36msky\u001b[0;34m(input, outExt, configObj, group, editpars, **inputDict)\u001b[0m\n\u001b[1;32m    102\u001b[0m         \u001b[0;32mraise\u001b[0m \u001b[0mValueError\u001b[0m\u001b[0;34m\u001b[0m\u001b[0m\n\u001b[1;32m    103\u001b[0m \u001b[0;34m\u001b[0m\u001b[0m\n\u001b[0;32m--> 104\u001b[0;31m     \u001b[0mconfigObj\u001b[0m \u001b[0;34m=\u001b[0m \u001b[0mutil\u001b[0m\u001b[0;34m.\u001b[0m\u001b[0mgetDefaultConfigObj\u001b[0m\u001b[0;34m(\u001b[0m\u001b[0m__taskname__\u001b[0m\u001b[0;34m,\u001b[0m\u001b[0mconfigObj\u001b[0m\u001b[0;34m,\u001b[0m\u001b[0minputDict\u001b[0m\u001b[0;34m,\u001b[0m\u001b[0mloadOnly\u001b[0m\u001b[0;34m=\u001b[0m\u001b[0;34m(\u001b[0m\u001b[0;32mnot\u001b[0m \u001b[0meditpars\u001b[0m\u001b[0;34m)\u001b[0m\u001b[0;34m)\u001b[0m\u001b[0;34m\u001b[0m\u001b[0m\n\u001b[0m\u001b[1;32m    105\u001b[0m     \u001b[0;32mif\u001b[0m \u001b[0mconfigObj\u001b[0m \u001b[0;32mis\u001b[0m \u001b[0;32mNone\u001b[0m\u001b[0;34m:\u001b[0m\u001b[0;34m\u001b[0m\u001b[0m\n\u001b[1;32m    106\u001b[0m         \u001b[0;32mreturn\u001b[0m\u001b[0;34m\u001b[0m\u001b[0m\n",
      "\u001b[0;32m~/anaconda/envs/py36/lib/python3.6/site-packages/drizzlepac/util.py\u001b[0m in \u001b[0;36mgetDefaultConfigObj\u001b[0;34m(taskname, configObj, input_dict, loadOnly)\u001b[0m\n\u001b[1;32m    694\u001b[0m         \u001b[0;31m# This insures that all subsequent use of the configObj includes\u001b[0m\u001b[0;34m\u001b[0m\u001b[0;34m\u001b[0m\u001b[0m\n\u001b[1;32m    695\u001b[0m         \u001b[0;31m# all parameters and their last saved values\u001b[0m\u001b[0;34m\u001b[0m\u001b[0;34m\u001b[0m\u001b[0m\n\u001b[0;32m--> 696\u001b[0;31m         \u001b[0mconfigObj\u001b[0m \u001b[0;34m=\u001b[0m \u001b[0mteal\u001b[0m\u001b[0;34m.\u001b[0m\u001b[0mload\u001b[0m\u001b[0;34m(\u001b[0m\u001b[0mtaskname\u001b[0m\u001b[0;34m)\u001b[0m\u001b[0;34m\u001b[0m\u001b[0m\n\u001b[0m\u001b[1;32m    697\u001b[0m     \u001b[0;32melif\u001b[0m \u001b[0misinstance\u001b[0m\u001b[0;34m(\u001b[0m\u001b[0mconfigObj\u001b[0m\u001b[0;34m,\u001b[0m\u001b[0mstr\u001b[0m\u001b[0;34m)\u001b[0m\u001b[0;34m:\u001b[0m\u001b[0;34m\u001b[0m\u001b[0m\n\u001b[1;32m    698\u001b[0m         \u001b[0;32mif\u001b[0m \u001b[0mconfigObj\u001b[0m\u001b[0;34m.\u001b[0m\u001b[0mlower\u001b[0m\u001b[0;34m(\u001b[0m\u001b[0;34m)\u001b[0m\u001b[0;34m.\u001b[0m\u001b[0mstrip\u001b[0m\u001b[0;34m(\u001b[0m\u001b[0;34m)\u001b[0m \u001b[0;34m==\u001b[0m \u001b[0;34m'defaults'\u001b[0m\u001b[0;34m:\u001b[0m\u001b[0;34m\u001b[0m\u001b[0m\n",
      "\u001b[0;32m~/anaconda/envs/py36/lib/python3.6/site-packages/stsci.tools-3.4.13-py3.6.egg/stsci/tools/teal.py\u001b[0m in \u001b[0;36mload\u001b[0;34m(theTask, canExecute, strict, defaults)\u001b[0m\n\u001b[1;32m    235\u001b[0m     return teal(theTask, parent=None, loadOnly=True, returnAs=\"dict\",\n\u001b[1;32m    236\u001b[0m                 \u001b[0mcanExecute\u001b[0m\u001b[0;34m=\u001b[0m\u001b[0mcanExecute\u001b[0m\u001b[0;34m,\u001b[0m \u001b[0mstrict\u001b[0m\u001b[0;34m=\u001b[0m\u001b[0mstrict\u001b[0m\u001b[0;34m,\u001b[0m \u001b[0merrorsToTerm\u001b[0m\u001b[0;34m=\u001b[0m\u001b[0;32mTrue\u001b[0m\u001b[0;34m,\u001b[0m\u001b[0;34m\u001b[0m\u001b[0m\n\u001b[0;32m--> 237\u001b[0;31m                 defaults=defaults)\n\u001b[0m\u001b[1;32m    238\u001b[0m \u001b[0;34m\u001b[0m\u001b[0m\n\u001b[1;32m    239\u001b[0m \u001b[0;34m\u001b[0m\u001b[0m\n",
      "\u001b[0;32m~/anaconda/envs/py36/lib/python3.6/site-packages/stsci.tools-3.4.13-py3.6.egg/stsci/tools/teal.py\u001b[0m in \u001b[0;36mteal\u001b[0;34m(theTask, parent, loadOnly, returnAs, canExecute, strict, errorsToTerm, autoClose, defaults)\u001b[0m\n\u001b[1;32m    173\u001b[0m         \u001b[0mobj\u001b[0m \u001b[0;34m=\u001b[0m \u001b[0;32mNone\u001b[0m\u001b[0;34m\u001b[0m\u001b[0m\n\u001b[1;32m    174\u001b[0m         \u001b[0;32mtry\u001b[0m\u001b[0;34m:\u001b[0m\u001b[0;34m\u001b[0m\u001b[0m\n\u001b[0;32m--> 175\u001b[0;31m             \u001b[0mobj\u001b[0m \u001b[0;34m=\u001b[0m \u001b[0mcfgpars\u001b[0m\u001b[0;34m.\u001b[0m\u001b[0mgetObjectFromTaskArg\u001b[0m\u001b[0;34m(\u001b[0m\u001b[0mtheTask\u001b[0m\u001b[0;34m,\u001b[0m \u001b[0mstrict\u001b[0m\u001b[0;34m,\u001b[0m \u001b[0mdefaults\u001b[0m\u001b[0;34m)\u001b[0m\u001b[0;34m\u001b[0m\u001b[0m\n\u001b[0m\u001b[1;32m    176\u001b[0m \u001b[0;31m#           obj.strictUpdate(overrides) # ! would need to re-verify after this !\u001b[0m\u001b[0;34m\u001b[0m\u001b[0;34m\u001b[0m\u001b[0m\n\u001b[1;32m    177\u001b[0m         \u001b[0;32mexcept\u001b[0m \u001b[0mException\u001b[0m \u001b[0;32mas\u001b[0m \u001b[0mre\u001b[0m\u001b[0;34m:\u001b[0m \u001b[0;31m# catches RuntimeError and KeyError and ...\u001b[0m\u001b[0;34m\u001b[0m\u001b[0m\n",
      "\u001b[0;32m~/anaconda/envs/py36/lib/python3.6/site-packages/stsci.tools-3.4.13-py3.6.egg/stsci/tools/cfgpars.py\u001b[0m in \u001b[0;36mgetObjectFromTaskArg\u001b[0;34m(theTask, strict, setAllToDefaults)\u001b[0m\n\u001b[1;32m     82\u001b[0m         \u001b[0;32mreturn\u001b[0m \u001b[0mConfigObjPars\u001b[0m\u001b[0;34m(\u001b[0m\u001b[0;34m''\u001b[0m\u001b[0;34m,\u001b[0m \u001b[0msetAllToDefaults\u001b[0m\u001b[0;34m=\u001b[0m\u001b[0mtheTask\u001b[0m\u001b[0;34m,\u001b[0m \u001b[0mstrict\u001b[0m\u001b[0;34m=\u001b[0m\u001b[0mstrict\u001b[0m\u001b[0;34m)\u001b[0m\u001b[0;34m\u001b[0m\u001b[0m\n\u001b[1;32m     83\u001b[0m     \u001b[0;32melse\u001b[0m\u001b[0;34m:\u001b[0m\u001b[0;34m\u001b[0m\u001b[0m\n\u001b[0;32m---> 84\u001b[0;31m         \u001b[0;32mreturn\u001b[0m \u001b[0mgetParsObjForPyPkg\u001b[0m\u001b[0;34m(\u001b[0m\u001b[0mtheTask\u001b[0m\u001b[0;34m,\u001b[0m \u001b[0mstrict\u001b[0m\u001b[0;34m)\u001b[0m\u001b[0;34m\u001b[0m\u001b[0m\n\u001b[0m\u001b[1;32m     85\u001b[0m \u001b[0;34m\u001b[0m\u001b[0m\n\u001b[1;32m     86\u001b[0m \u001b[0;34m\u001b[0m\u001b[0m\n",
      "\u001b[0;32m~/anaconda/envs/py36/lib/python3.6/site-packages/stsci.tools-3.4.13-py3.6.egg/stsci/tools/cfgpars.py\u001b[0m in \u001b[0;36mgetParsObjForPyPkg\u001b[0;34m(pkgName, strict)\u001b[0m\n\u001b[1;32m    240\u001b[0m     \"\"\"\n\u001b[1;32m    241\u001b[0m     \u001b[0;31m# Get the python package and it's .cfg file - need this no matter what\u001b[0m\u001b[0;34m\u001b[0m\u001b[0;34m\u001b[0m\u001b[0m\n\u001b[0;32m--> 242\u001b[0;31m     \u001b[0minstalledPkg\u001b[0m\u001b[0;34m,\u001b[0m \u001b[0minstalledFile\u001b[0m \u001b[0;34m=\u001b[0m \u001b[0mfindCfgFileForPkg\u001b[0m\u001b[0;34m(\u001b[0m\u001b[0mpkgName\u001b[0m\u001b[0;34m,\u001b[0m \u001b[0;34m'.cfg'\u001b[0m\u001b[0;34m)\u001b[0m\u001b[0;34m\u001b[0m\u001b[0m\n\u001b[0m\u001b[1;32m    243\u001b[0m     \u001b[0mtheFile\u001b[0m \u001b[0;34m=\u001b[0m \u001b[0;32mNone\u001b[0m\u001b[0;34m\u001b[0m\u001b[0m\n\u001b[1;32m    244\u001b[0m     \u001b[0mtname\u001b[0m \u001b[0;34m=\u001b[0m \u001b[0mgetEmbeddedKeyVal\u001b[0m\u001b[0;34m(\u001b[0m\u001b[0minstalledFile\u001b[0m\u001b[0;34m,\u001b[0m \u001b[0mTASK_NAME_KEY\u001b[0m\u001b[0;34m)\u001b[0m\u001b[0;34m\u001b[0m\u001b[0m\n",
      "\u001b[0;32m~/anaconda/envs/py36/lib/python3.6/site-packages/stsci.tools-3.4.13-py3.6.egg/stsci/tools/cfgpars.py\u001b[0m in \u001b[0;36mfindCfgFileForPkg\u001b[0;34m(pkgName, theExt, pkgObj, taskName)\u001b[0m\n\u001b[1;32m    191\u001b[0m     \u001b[0;31m# What, are you still here?\u001b[0m\u001b[0;34m\u001b[0m\u001b[0;34m\u001b[0m\u001b[0m\n\u001b[1;32m    192\u001b[0m     raise NoCfgFileError('No valid '+ext+' files found in package: \"'+ \\\n\u001b[0;32m--> 193\u001b[0;31m                          str(pkgName)+'\" for task: \"'+str(taskName)+'\"')\n\u001b[0m\u001b[1;32m    194\u001b[0m \u001b[0;34m\u001b[0m\u001b[0m\n\u001b[1;32m    195\u001b[0m \u001b[0;34m\u001b[0m\u001b[0m\n",
      "\u001b[0;31mNoCfgFileError\u001b[0m: No valid .cfg files found in package: \"drizzlepac.sky\" for task: \"sky\""
     ]
    }
   ],
   "source": [
    "from drizzlepac import sky\n",
    "sky.sky(outputs['F850LP'])"
   ]
  },
  {
   "cell_type": "code",
   "execution_count": null,
   "metadata": {},
   "outputs": [],
   "source": []
  }
 ],
 "metadata": {
  "kernelspec": {
   "display_name": "Python 3",
   "language": "python",
   "name": "python3"
  },
  "language_info": {
   "codemirror_mode": {
    "name": "ipython",
    "version": 3
   },
   "file_extension": ".py",
   "mimetype": "text/x-python",
   "name": "python",
   "nbconvert_exporter": "python",
   "pygments_lexer": "ipython3",
   "version": "3.6.4"
  }
 },
 "nbformat": 4,
 "nbformat_minor": 2
}
