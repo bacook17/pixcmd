{
 "cells": [
  {
   "cell_type": "code",
   "execution_count": 1,
   "metadata": {},
   "outputs": [],
   "source": [
    "import numpy as np, matplotlib.pyplot as plt, matplotlib as mpl\n",
    "from astropy.io import fits\n",
    "from astropy.table import Table\n",
    "import pcmdpy as ppy\n",
    "import easydarkfigs\n",
    "import pandas as pd\n",
    "from drizzlepac import tweakreg\n",
    "from tqdm import tqdm\n",
    "from collections import defaultdict\n",
    "%matplotlib inline"
   ]
  },
  {
   "cell_type": "code",
   "execution_count": 2,
   "metadata": {},
   "outputs": [],
   "source": [
    "import os\n",
    "from glob import glob"
   ]
  },
  {
   "cell_type": "code",
   "execution_count": 3,
   "metadata": {},
   "outputs": [],
   "source": [
    "%set_darkfigdir figures_dark/\n",
    "%set_lightfigdir figures/"
   ]
  },
  {
   "cell_type": "code",
   "execution_count": 4,
   "metadata": {},
   "outputs": [],
   "source": [
    "counts = defaultdict(int)\n",
    "for infile in glob(os.path.join('../data/NGC4993/raw/', 'j*_flc.fits')):\n",
    "    filt = fits.getval(infile, 'FILTER1')\n",
    "    if 'CLEAR' in filt:\n",
    "        filt = fits.getval(infile, 'FILTER2')\n",
    "    targ = fits.getval(infile, 'TARGNAME')\n",
    "    counts[filt] += 1\n",
    "    newname = f'../data/NGC4993/raw/NGC4993_{filt:s}_EXP{counts[filt]:d}_flc.fits'\n",
    "    if os.path.isfile(newname):\n",
    "        raise FileExistsError(f'{newname} exists')\n",
    "    os.rename(infile, newname)"
   ]
  },
  {
   "cell_type": "code",
   "execution_count": 5,
   "metadata": {},
   "outputs": [],
   "source": [
    "files = {'F475W': ['../data/NGC4993/raw/NGC4993_F475W_EXP{:d}_flc.fits'.format(i) for i in range(1, 4)],\n",
    "         'F850LP': ['../data/NGC4993/raw/NGC4993_F850LP_EXP{:d}_flc.fits'.format(i) for i in range(1, 3)]}\n",
    "outputs = {'F475W': '../data/NGC4993/reduced/NGC4993_F475W_drc.fits',\n",
    "          'F850LP': '../data/NGC4993/reduced/NGC4993_F850LP_drc.fits'}\n",
    "diff_im = '../data/NGC4993/reduced/NGC4993_g-z.fits'\n",
    "darks = {}"
   ]
  },
  {
   "cell_type": "markdown",
   "metadata": {},
   "source": [
    "# Alignment and Drizzling"
   ]
  },
  {
   "cell_type": "code",
   "execution_count": 6,
   "metadata": {},
   "outputs": [],
   "source": [
    "os.environ['jref'] = '/Users/bcook/pCMDs/pixcmd/data/NGC4993/calibration/'"
   ]
  },
  {
   "cell_type": "code",
   "execution_count": 13,
   "metadata": {},
   "outputs": [
    {
     "name": "stdout",
     "output_type": "stream",
     "text": [
      "*****************************************************\n",
      "Realign and Redrizzle relative to F850LP\n",
      "--F475W: Realigning\n",
      "{'conv_width': 4.0, 'threshold': 400, 'shiftfile': False, 'updatehdr': True, 'writecat': False, 'clean': True, 'residplot': 'NoPlot', 'see2dplot': False, 'reusename': True, 'interactive': False, 'updatewcs': False, 'enforce_user_order': True, 'expand_refcat': True, 'wcsname': 'TWEAK_F850LP', 'refimage': '../data/NGC4993/reduced/NGC4993_F850LP_drc.fits', 'nclip': 3, 'minobj': 3, 'refimagefindcfg': {'threshold': 400}}\n",
      "Setting up logfile :  tweakreg.log\n",
      "TweakReg Version 1.4.7(18-April-2018) started at: 15:15:36.538 (15/03/2019) \n",
      "\n",
      "Version Information\n",
      "--------------------\n",
      "Python Version [GCC 4.2.1 Compatible Clang 4.0.1 (tags/RELEASE_401/final)]\n",
      "3.6.4 |Anaconda custom (64-bit)| (default, Jan 16 2018, 12:04:33) \n",
      "numpy Version -> 1.15.1 \n",
      "astropy Version -> 3.1.2 \n",
      "stwcs Version -> 1.4.2 \n",
      "\n",
      "Finding shifts for: \n",
      "    /Users/bcook/pCMDs/pixcmd/data/NGC4993/reduced/NGC4993_F475W_drc.fits\n",
      "\n",
      "===  Source finding for image '/Users/bcook/pCMDs/pixcmd/data/NGC4993/reduced/NGC4993_F475W_drc.fits':\n",
      "  #  Source finding for '/Users/bcook/pCMDs/pixcmd/data/NGC4993/reduced/NGC4993_F475W_drc.fits', EXT=('SCI', 1) started at: 15:15:36.784 (15/03/2019)\n",
      "     Found 174 objects.\n",
      "===  FINAL number of objects in image '/Users/bcook/pCMDs/pixcmd/data/NGC4993/reduced/NGC4993_F475W_drc.fits': 174\n",
      "\n",
      "===  Source finding for image '../data/NGC4993/reduced/NGC4993_F850LP_drc.fits':\n",
      "  #  Source finding for '../data/NGC4993/reduced/NGC4993_F850LP_drc.fits', EXT=('SCI', 1) started at: 15:15:40.449 (15/03/2019)\n",
      "     Found 484 objects.\n",
      "===  FINAL number of objects in image '../data/NGC4993/reduced/NGC4993_F850LP_drc.fits': 484\n",
      "\n",
      "\n",
      "===============================================================\n",
      "Performing alignment in the projection plane defined by the WCS\n",
      "derived from '/Users/bcook/pCMDs/pixcmd/data/NGC4993/reduced/NGC4993_F850LP_drc.fits'\n",
      "===============================================================\n",
      "\n",
      "\n",
      "====================\n",
      "Performing fit for: /Users/bcook/pCMDs/pixcmd/data/NGC4993/reduced/NGC4993_F475W_drc.fits\n",
      "\n",
      "Matching sources from '/Users/bcook/pCMDs/pixcmd/data/NGC4993/reduced/NGC4993_F475W_drc.fits' with sources from reference image '/Users/bcook/pCMDs/pixcmd/data/NGC4993/reduced/NGC4993_F850LP_drc.fits'\n",
      "Computing initial guess for X and Y shifts...\n",
      "! WARNING: Clipped data falls within 1 histogram bin\n",
      "Found initial X and Y shifts of  -1.2789769243681803e-12 -0.18181818181945886\n",
      "    with significance of  157.11142542794272 and  3.0  matches\n",
      "Found 5 matches for /Users/bcook/pCMDs/pixcmd/data/NGC4993/reduced/NGC4993_F475W_drc.fits...\n",
      "Computed  rscale  fit for  /Users/bcook/pCMDs/pixcmd/data/NGC4993/reduced/NGC4993_F475W_drc.fits : \n",
      "XSH: 0.2448  YSH: 1.1288    ROT: 359.8657829    SCALE: 1.000622\n",
      "XRMS: 0.08    YRMS: 0.062\n",
      "\n",
      "RMS_RA: 1.2e-06 (deg)   RMS_DEC: 8.6e-07 (deg)\n",
      "\n",
      "Final solution based on  5  objects.\n",
      "Adding 169 new sources to the reference catalog for a total of 653 sources.\n",
      "Initializing new WCSCORR table for  /Users/bcook/pCMDs/pixcmd/data/NGC4993/reduced/NGC4993_F475W_drc.fits\n",
      "\n",
      "....Updating header for /Users/bcook/pCMDs/pixcmd/data/NGC4993/reduced/NGC4993_F475W_drc.fits...\n",
      "\n",
      "\n",
      "Processing /Users/bcook/pCMDs/pixcmd/data/NGC4993/reduced/NGC4993_F475W_drc.fits['SCI',1]\n",
      "\n",
      "Updating header for /Users/bcook/pCMDs/pixcmd/data/NGC4993/reduced/NGC4993_F475W_drc.fits[1]\n",
      "WCS Keywords\n",
      "\n",
      "CD_11  CD_12: -1.3880215211481153e-05 -3.2515252849618546e-08\n",
      "CD_21  CD_22: -3.251525160020269e-08 1.3880215204375375e-05\n",
      "CRVAL    : 197.44659631716613 -23.379822246993477\n",
      "CRPIX    : 2968.769039591403 2960.943023202673\n",
      "NAXIS    : 5935 5921\n",
      "Plate Scale : 0.049999999999996804\n",
      "ORIENTAT : -0.13421862146178884\n",
      "WCSNAME  :  TWEAK_F850LP\n",
      "Trailer file written to:  tweakreg.log\n",
      "--F475W: TweakBack\n",
      "{'force': True, 'verbose': True}\n",
      "TweakBack Version 0.4.0(14-Oct-2014) started at: 15:15:49.055 (15/03/2019)\n",
      "\n",
      "\n",
      "....Updating header for /Users/bcook/pCMDs/pixcmd/data/NGC4993/raw/NGC4993_F475W_EXP1_flc.fits...\n",
      "\n"
     ]
    },
    {
     "name": "stderr",
     "output_type": "stream",
     "text": [
      "WARNING: AstropyDeprecationWarning: \n",
      "Private attributes \"_naxis1\" and \"_naxis2\" have been deprecated since v3.1.\n",
      "Instead use the \"pixel_shape\" property which returns a list of NAXISj keyword values.\n",
      " [astropy.wcs.wcs]\n",
      "WARNING: AstropyDeprecationWarning: \n",
      "Private attributes \"_naxis1\" and \"_naxis2\" have been deprecated since v3.1.\n",
      "Instead use the \"pixel_shape\" property which returns a list of NAXISj keyword values.\n",
      " [astropy.wcs.wcs]\n"
     ]
    },
    {
     "name": "stdout",
     "output_type": "stream",
     "text": [
      "\n",
      "Processing /Users/bcook/pCMDs/pixcmd/data/NGC4993/raw/NGC4993_F475W_EXP1_flc.fits['SCI',1]\n",
      "\n",
      "Updating header for /Users/bcook/pCMDs/pixcmd/data/NGC4993/raw/NGC4993_F475W_EXP1_flc.fits[1]\n",
      "WCS Keywords\n",
      "\n",
      "CD_11  CD_12: 8.209556876228965e-06 1.1791538020821237e-05\n",
      "CD_21  CD_22: 1.1141094318176096e-05 -7.489143145025347e-06\n",
      "CRVAL    : 197.43369978881032 -23.372549552297983\n",
      "CRPIX    : 2048.0 1024.0\n",
      "NAXIS    : 4096 2048\n",
      "Plate Scale : 0.049851771322515906\n",
      "ORIENTAT : 122.42079833590377\n",
      "WCSNAME  :  TWEAK_F850LP_1\n",
      "\n",
      "Processing /Users/bcook/pCMDs/pixcmd/data/NGC4993/raw/NGC4993_F475W_EXP1_flc.fits['SCI',2]\n",
      "\n",
      "Updating header for /Users/bcook/pCMDs/pixcmd/data/NGC4993/raw/NGC4993_F475W_EXP1_flc.fits[4]\n",
      "WCS Keywords\n",
      "\n",
      "CD_11  CD_12: 8.258564845746586e-06 1.1454562346163226e-05\n",
      "CD_21  CD_22: 1.0903266319092463e-05 -7.150331575284367e-06\n",
      "CRVAL    : 197.46028612367488 -23.38797457915207\n",
      "CRPIX    : 2048.0 1024.0\n",
      "NAXIS    : 4096 2048\n",
      "Plate Scale : 0.04927109617828169\n",
      "ORIENTAT : 121.97382751515934\n",
      "WCSNAME  :  TWEAK_F850LP_1\n"
     ]
    },
    {
     "name": "stderr",
     "output_type": "stream",
     "text": [
      "WARNING: AstropyDeprecationWarning: \n",
      "Private attributes \"_naxis1\" and \"_naxis2\" have been deprecated since v3.1.\n",
      "Instead use the \"pixel_shape\" property which returns a list of NAXISj keyword values.\n",
      " [astropy.wcs.wcs]\n",
      "WARNING: AstropyDeprecationWarning: \n",
      "Private attributes \"_naxis1\" and \"_naxis2\" have been deprecated since v3.1.\n",
      "Instead use the \"pixel_shape\" property which returns a list of NAXISj keyword values.\n",
      " [astropy.wcs.wcs]\n",
      "WARNING: AstropyDeprecationWarning: \n",
      "Private attributes \"_naxis1\" and \"_naxis2\" have been deprecated since v3.1.\n",
      "Instead use the \"pixel_shape\" property which returns a list of NAXISj keyword values.\n",
      " [astropy.wcs.wcs]\n",
      "WARNING: AstropyDeprecationWarning: \n",
      "Private attributes \"_naxis1\" and \"_naxis2\" have been deprecated since v3.1.\n",
      "Instead use the \"pixel_shape\" property which returns a list of NAXISj keyword values.\n",
      " [astropy.wcs.wcs]\n",
      "WARNING: AstropyDeprecationWarning: \n",
      "Private attributes \"_naxis1\" and \"_naxis2\" have been deprecated since v3.1.\n",
      "Instead use the \"pixel_shape\" property which returns a list of NAXISj keyword values.\n",
      " [astropy.wcs.wcs]\n",
      "WARNING: AstropyDeprecationWarning: \n",
      "Private attributes \"_naxis1\" and \"_naxis2\" have been deprecated since v3.1.\n",
      "Instead use the \"pixel_shape\" property which returns a list of NAXISj keyword values.\n",
      " [astropy.wcs.wcs]\n"
     ]
    },
    {
     "name": "stdout",
     "output_type": "stream",
     "text": [
      "\n",
      "....Updating header for /Users/bcook/pCMDs/pixcmd/data/NGC4993/raw/NGC4993_F475W_EXP2_flc.fits...\n",
      "\n",
      "\n",
      "Processing /Users/bcook/pCMDs/pixcmd/data/NGC4993/raw/NGC4993_F475W_EXP2_flc.fits['SCI',1]\n",
      "\n",
      "Updating header for /Users/bcook/pCMDs/pixcmd/data/NGC4993/raw/NGC4993_F475W_EXP2_flc.fits[1]\n",
      "WCS Keywords\n",
      "\n",
      "CD_11  CD_12: 8.21004224878666e-06 1.1791517997874814e-05\n",
      "CD_21  CD_22: 1.1141040791661321e-05 -7.489635627313188e-06\n",
      "CRVAL    : 197.43207106346682 -23.371771147372364\n",
      "CRPIX    : 2048.0 1024.0\n",
      "NAXIS    : 4096 2048\n",
      "Plate Scale : 0.049852653309285\n",
      "ORIENTAT : 122.42254749567857\n",
      "WCSNAME  :  TWEAK_F850LP_1\n",
      "\n",
      "Processing /Users/bcook/pCMDs/pixcmd/data/NGC4993/raw/NGC4993_F475W_EXP2_flc.fits['SCI',2]\n",
      "\n",
      "Updating header for /Users/bcook/pCMDs/pixcmd/data/NGC4993/raw/NGC4993_F475W_EXP2_flc.fits[4]\n",
      "WCS Keywords\n",
      "\n",
      "CD_11  CD_12: 8.259043932482994e-06 1.1454546601340344e-05\n",
      "CD_21  CD_22: 1.090320698733886e-05 -7.15080790592301e-06\n",
      "CRVAL    : 197.45865719944757 -23.387197192273362\n",
      "CRPIX    : 2048.0 1024.0\n",
      "NAXIS    : 4096 2048\n",
      "Plate Scale : 0.04927196783982671\n",
      "ORIENTAT : 121.97557737649868\n",
      "WCSNAME  :  TWEAK_F850LP_1\n"
     ]
    },
    {
     "name": "stderr",
     "output_type": "stream",
     "text": [
      "WARNING: AstropyDeprecationWarning: \n",
      "Private attributes \"_naxis1\" and \"_naxis2\" have been deprecated since v3.1.\n",
      "Instead use the \"pixel_shape\" property which returns a list of NAXISj keyword values.\n",
      " [astropy.wcs.wcs]\n",
      "WARNING: AstropyDeprecationWarning: \n",
      "Private attributes \"_naxis1\" and \"_naxis2\" have been deprecated since v3.1.\n",
      "Instead use the \"pixel_shape\" property which returns a list of NAXISj keyword values.\n",
      " [astropy.wcs.wcs]\n",
      "WARNING: AstropyDeprecationWarning: \n",
      "Private attributes \"_naxis1\" and \"_naxis2\" have been deprecated since v3.1.\n",
      "Instead use the \"pixel_shape\" property which returns a list of NAXISj keyword values.\n",
      " [astropy.wcs.wcs]\n",
      "WARNING: AstropyDeprecationWarning: \n",
      "Private attributes \"_naxis1\" and \"_naxis2\" have been deprecated since v3.1.\n",
      "Instead use the \"pixel_shape\" property which returns a list of NAXISj keyword values.\n",
      " [astropy.wcs.wcs]\n",
      "WARNING: AstropyDeprecationWarning: \n",
      "Private attributes \"_naxis1\" and \"_naxis2\" have been deprecated since v3.1.\n",
      "Instead use the \"pixel_shape\" property which returns a list of NAXISj keyword values.\n",
      " [astropy.wcs.wcs]\n",
      "WARNING: AstropyDeprecationWarning: \n",
      "Private attributes \"_naxis1\" and \"_naxis2\" have been deprecated since v3.1.\n",
      "Instead use the \"pixel_shape\" property which returns a list of NAXISj keyword values.\n",
      " [astropy.wcs.wcs]\n",
      "WARNING: AstropyDeprecationWarning: \n",
      "Private attributes \"_naxis1\" and \"_naxis2\" have been deprecated since v3.1.\n",
      "Instead use the \"pixel_shape\" property which returns a list of NAXISj keyword values.\n",
      " [astropy.wcs.wcs]\n",
      "WARNING: AstropyDeprecationWarning: \n",
      "Private attributes \"_naxis1\" and \"_naxis2\" have been deprecated since v3.1.\n",
      "Instead use the \"pixel_shape\" property which returns a list of NAXISj keyword values.\n",
      " [astropy.wcs.wcs]\n"
     ]
    },
    {
     "name": "stdout",
     "output_type": "stream",
     "text": [
      "\n",
      "....Updating header for /Users/bcook/pCMDs/pixcmd/data/NGC4993/raw/NGC4993_F475W_EXP3_flc.fits...\n",
      "\n",
      "\n",
      "Processing /Users/bcook/pCMDs/pixcmd/data/NGC4993/raw/NGC4993_F475W_EXP3_flc.fits['SCI',1]\n",
      "\n",
      "Updating header for /Users/bcook/pCMDs/pixcmd/data/NGC4993/raw/NGC4993_F475W_EXP3_flc.fits[1]\n",
      "WCS Keywords\n",
      "\n",
      "CD_11  CD_12: 8.209646310163058e-06 1.1791198052071719e-05\n",
      "CD_21  CD_22: 1.1140750544568425e-05 -7.489257173431432e-06\n",
      "CRVAL    : 197.43289271040246 -23.372159305799666\n",
      "CRPIX    : 2048.0 1024.0\n",
      "NAXIS    : 4096 2048\n",
      "Plate Scale : 0.04985096551600845\n",
      "ORIENTAT : 122.42194077346048\n",
      "WCSNAME  :  TWEAK_F850LP_1\n",
      "\n",
      "Processing /Users/bcook/pCMDs/pixcmd/data/NGC4993/raw/NGC4993_F475W_EXP3_flc.fits['SCI',2]\n",
      "\n"
     ]
    },
    {
     "name": "stderr",
     "output_type": "stream",
     "text": [
      "WARNING: AstropyDeprecationWarning: \n",
      "Private attributes \"_naxis1\" and \"_naxis2\" have been deprecated since v3.1.\n",
      "Instead use the \"pixel_shape\" property which returns a list of NAXISj keyword values.\n",
      " [astropy.wcs.wcs]\n",
      "WARNING: AstropyDeprecationWarning: \n",
      "Private attributes \"_naxis1\" and \"_naxis2\" have been deprecated since v3.1.\n",
      "Instead use the \"pixel_shape\" property which returns a list of NAXISj keyword values.\n",
      " [astropy.wcs.wcs]\n",
      "WARNING: AstropyDeprecationWarning: \n",
      "Private attributes \"_naxis1\" and \"_naxis2\" have been deprecated since v3.1.\n",
      "Instead use the \"pixel_shape\" property which returns a list of NAXISj keyword values.\n",
      " [astropy.wcs.wcs]\n",
      "WARNING: AstropyDeprecationWarning: \n",
      "Private attributes \"_naxis1\" and \"_naxis2\" have been deprecated since v3.1.\n",
      "Instead use the \"pixel_shape\" property which returns a list of NAXISj keyword values.\n",
      " [astropy.wcs.wcs]\n",
      "WARNING: AstropyDeprecationWarning: \n",
      "Private attributes \"_naxis1\" and \"_naxis2\" have been deprecated since v3.1.\n",
      "Instead use the \"pixel_shape\" property which returns a list of NAXISj keyword values.\n",
      " [astropy.wcs.wcs]\n",
      "WARNING: AstropyDeprecationWarning: \n",
      "Private attributes \"_naxis1\" and \"_naxis2\" have been deprecated since v3.1.\n",
      "Instead use the \"pixel_shape\" property which returns a list of NAXISj keyword values.\n",
      " [astropy.wcs.wcs]\n",
      "WARNING: AstropyDeprecationWarning: \n",
      "Private attributes \"_naxis1\" and \"_naxis2\" have been deprecated since v3.1.\n",
      "Instead use the \"pixel_shape\" property which returns a list of NAXISj keyword values.\n",
      " [astropy.wcs.wcs]\n",
      "WARNING: AstropyDeprecationWarning: \n",
      "Private attributes \"_naxis1\" and \"_naxis2\" have been deprecated since v3.1.\n",
      "Instead use the \"pixel_shape\" property which returns a list of NAXISj keyword values.\n",
      " [astropy.wcs.wcs]\n"
     ]
    },
    {
     "name": "stdout",
     "output_type": "stream",
     "text": [
      "Updating header for /Users/bcook/pCMDs/pixcmd/data/NGC4993/raw/NGC4993_F475W_EXP3_flc.fits[4]\n",
      "WCS Keywords\n",
      "\n",
      "CD_11  CD_12: 8.258648818292354e-06 1.1454234550208698e-05\n",
      "CD_21  CD_22: 1.0902925339361657e-05 -7.150444472750897e-06\n",
      "CRVAL    : 197.45947820210782 -23.38758456996937\n",
      "CRPIX    : 2048.0 1024.0\n",
      "NAXIS    : 4096 2048\n",
      "Plate Scale : 0.04927029969245704\n",
      "ORIENTAT : 121.97497041875293\n",
      "WCSNAME  :  TWEAK_F850LP_1\n",
      "--F475W: Redrizzling\n",
      "    Drizzling Images with lanczos3 kernel to ../data/NGC4993/reduced/NGC4993_F475W_drc.fits\n",
      "{'clean': True, 'build': True, 'skysub': False, 'final_units': 'counts', 'mdriztab': False, 'combine_type': 'minmed', 'combine_nhigh': 0, 'final_kernel': 'lanczos3', 'final_rot': None, 'final_wcs': True, 'final_refimage': '../data/NGC4993/reduced/NGC4993_F850LP_drc.fits'}\n",
      "Setting up logfile :  astrodrizzle.log\n",
      "AstroDrizzle Version 2.2.6 (2018-11-02 15:37:13 -0400) started at: 15:15:54.22 (15/03/2019)\n",
      "\n",
      "==== Processing Step  Initialization  started at  15:15:54.230 (15/03/2019)\n",
      "Creating OUTPUT WCS from ../data/NGC4993/reduced/NGC4993_F850LP_drc.fits[1]\n",
      "WCS Keywords\n",
      "\n",
      "CD_11  CD_12: -1.3888888888888e-05 -1.0176579598308e-22\n",
      "CD_21  CD_22: 9.38780354672793e-23 1.38888888888888e-05\n",
      "CRVAL    : 197.4465925754311 -23.37980658639843\n",
      "CRPIX    : 2968.769039591403 2960.943023202673\n",
      "NAXIS    : 5935 5921\n",
      "Plate Scale : 0.049999999999996804\n",
      "ORIENTAT : -4.198140438206334e-16\n",
      "********************************************************************************\n",
      "*\n",
      "*  Estimated memory usage:  up to 1864 Mb.\n",
      "*  Output image size:       5935 X 5921 pixels. \n",
      "*  Output image file:       ~ 402 Mb. \n",
      "*  Cores available:         4\n",
      "*\n",
      "********************************************************************************\n",
      "==== Processing Step  Initialization  finished at  15:15:56.920 (15/03/2019)\n",
      "\n",
      "==== Processing Step  Static Mask  started at  15:15:56.933 (15/03/2019)\n",
      "==== Processing Step  Static Mask  finished at  15:15:58.88 (15/03/2019)\n",
      "\n",
      "==== Processing Step  Subtract Sky  started at  15:15:58.892 (15/03/2019)\n",
      "==== Processing Step  Subtract Sky  finished at  15:15:59.210 (15/03/2019)\n",
      "\n",
      "==== Processing Step  Separate Drizzle  started at  15:15:59.212 (15/03/2019)\n",
      "WCS Keywords\n",
      "\n",
      "Number of WCS axes: 2\n",
      "CTYPE : 'RA---TAN'  'DEC--TAN'  \n",
      "CRVAL : 197.44619411569246  -23.379624275123216  \n",
      "CRPIX : 2118.5  2173.5  \n",
      "CD1_1 CD1_2  : 7.92863087003285e-06  1.140342260440537e-05  \n",
      "CD2_1 CD2_2  : 1.140342260440537e-05  -7.92863087003285e-06  \n",
      "NAXIS : 4237  4347\n",
      "-Generating simple FITS output: /Users/bcook/pCMDs/pixcmd/data/NGC4993/raw/NGC4993_F475W_EXP2_single_sci.fits\n",
      "-Generating simple FITS output: /Users/bcook/pCMDs/pixcmd/data/NGC4993/raw/NGC4993_F475W_EXP1_single_sci.fits\n",
      "-Generating simple FITS output: /Users/bcook/pCMDs/pixcmd/data/NGC4993/raw/NGC4993_F475W_EXP3_single_sci.fits\n",
      "Writing out image to disk: /Users/bcook/pCMDs/pixcmd/data/NGC4993/raw/NGC4993_F475W_EXP2_single_sci.fits\n",
      "Writing out image to disk: /Users/bcook/pCMDs/pixcmd/data/NGC4993/raw/NGC4993_F475W_EXP1_single_sci.fits\n",
      "Writing out image to disk: /Users/bcook/pCMDs/pixcmd/data/NGC4993/raw/NGC4993_F475W_EXP3_single_sci.fits\n",
      "Writing out image to disk: /Users/bcook/pCMDs/pixcmd/data/NGC4993/raw/NGC4993_F475W_EXP2_single_wht.fits\n",
      "Writing out image to disk: /Users/bcook/pCMDs/pixcmd/data/NGC4993/raw/NGC4993_F475W_EXP1_single_wht.fits\n",
      "Writing out image to disk: /Users/bcook/pCMDs/pixcmd/data/NGC4993/raw/NGC4993_F475W_EXP3_single_wht.fits\n",
      "==== Processing Step  Separate Drizzle  finished at  15:16:06.151 (15/03/2019)\n",
      "\n",
      "==== Processing Step  Create Median  started at  15:16:06.164 (15/03/2019)\n",
      "reference sky value for image '/Users/bcook/pCMDs/pixcmd/data/NGC4993/raw/NGC4993_F475W_EXP1_flc.fits' is 59.04841995239258\n",
      "reference sky value for image '/Users/bcook/pCMDs/pixcmd/data/NGC4993/raw/NGC4993_F475W_EXP2_flc.fits' is 58.59130477905273\n",
      "reference sky value for image '/Users/bcook/pCMDs/pixcmd/data/NGC4993/raw/NGC4993_F475W_EXP3_flc.fits' is 57.70980453491211\n",
      "Saving output median image to: '../data/NGC4993/reduced/NGC4993_F475W_med.fits'\n",
      "==== Processing Step  Create Median  finished at  15:16:18.431 (15/03/2019)\n",
      "\n",
      "==== Processing Step  Blot  started at  15:16:18.434 (15/03/2019)\n",
      "    Blot: creating blotted image:  /Users/bcook/pCMDs/pixcmd/data/NGC4993/raw/NGC4993_F475W_EXP1_flc.fits[sci,1]\n",
      "Using default C-based coordinate transformation...\n",
      "-Generating simple FITS output: /Users/bcook/pCMDs/pixcmd/data/NGC4993/raw/NGC4993_F475W_EXP1_sci1_blt.fits\n",
      "Writing out image to disk: /Users/bcook/pCMDs/pixcmd/data/NGC4993/raw/NGC4993_F475W_EXP1_sci1_blt.fits\n",
      "    Blot: creating blotted image:  /Users/bcook/pCMDs/pixcmd/data/NGC4993/raw/NGC4993_F475W_EXP1_flc.fits[sci,2]\n",
      "Using default C-based coordinate transformation...\n",
      "-Generating simple FITS output: /Users/bcook/pCMDs/pixcmd/data/NGC4993/raw/NGC4993_F475W_EXP1_sci2_blt.fits\n",
      "Writing out image to disk: /Users/bcook/pCMDs/pixcmd/data/NGC4993/raw/NGC4993_F475W_EXP1_sci2_blt.fits\n",
      "    Blot: creating blotted image:  /Users/bcook/pCMDs/pixcmd/data/NGC4993/raw/NGC4993_F475W_EXP2_flc.fits[sci,1]\n",
      "Using default C-based coordinate transformation...\n",
      "-Generating simple FITS output: /Users/bcook/pCMDs/pixcmd/data/NGC4993/raw/NGC4993_F475W_EXP2_sci1_blt.fits\n",
      "Writing out image to disk: /Users/bcook/pCMDs/pixcmd/data/NGC4993/raw/NGC4993_F475W_EXP2_sci1_blt.fits\n",
      "    Blot: creating blotted image:  /Users/bcook/pCMDs/pixcmd/data/NGC4993/raw/NGC4993_F475W_EXP2_flc.fits[sci,2]\n",
      "Using default C-based coordinate transformation...\n",
      "-Generating simple FITS output: /Users/bcook/pCMDs/pixcmd/data/NGC4993/raw/NGC4993_F475W_EXP2_sci2_blt.fits\n",
      "Writing out image to disk: /Users/bcook/pCMDs/pixcmd/data/NGC4993/raw/NGC4993_F475W_EXP2_sci2_blt.fits\n",
      "    Blot: creating blotted image:  /Users/bcook/pCMDs/pixcmd/data/NGC4993/raw/NGC4993_F475W_EXP3_flc.fits[sci,1]\n",
      "Using default C-based coordinate transformation...\n",
      "-Generating simple FITS output: /Users/bcook/pCMDs/pixcmd/data/NGC4993/raw/NGC4993_F475W_EXP3_sci1_blt.fits\n",
      "Writing out image to disk: /Users/bcook/pCMDs/pixcmd/data/NGC4993/raw/NGC4993_F475W_EXP3_sci1_blt.fits\n",
      "    Blot: creating blotted image:  /Users/bcook/pCMDs/pixcmd/data/NGC4993/raw/NGC4993_F475W_EXP3_flc.fits[sci,2]\n",
      "Using default C-based coordinate transformation...\n",
      "-Generating simple FITS output: /Users/bcook/pCMDs/pixcmd/data/NGC4993/raw/NGC4993_F475W_EXP3_sci2_blt.fits\n",
      "Writing out image to disk: /Users/bcook/pCMDs/pixcmd/data/NGC4993/raw/NGC4993_F475W_EXP3_sci2_blt.fits\n",
      "==== Processing Step  Blot  finished at  15:16:31.881 (15/03/2019)\n",
      "\n",
      "==== Processing Step  Driz_CR  started at  15:16:31.884 (15/03/2019)\n",
      "Creating output :  /Users/bcook/pCMDs/pixcmd/data/NGC4993/raw/NGC4993_F475W_EXP2_sci1_crmask.fits\n",
      "Creating output :  /Users/bcook/pCMDs/pixcmd/data/NGC4993/raw/NGC4993_F475W_EXP1_sci1_crmask.fits\n",
      "Creating output :  /Users/bcook/pCMDs/pixcmd/data/NGC4993/raw/NGC4993_F475W_EXP3_sci1_crmask.fits\n",
      "Creating output :  /Users/bcook/pCMDs/pixcmd/data/NGC4993/raw/NGC4993_F475W_EXP2_sci2_crmask.fits\n",
      "Creating output :  /Users/bcook/pCMDs/pixcmd/data/NGC4993/raw/NGC4993_F475W_EXP3_sci2_crmask.fits\n",
      "Creating output :  /Users/bcook/pCMDs/pixcmd/data/NGC4993/raw/NGC4993_F475W_EXP1_sci2_crmask.fits\n",
      "==== Processing Step  Driz_CR  finished at  15:16:37.396 (15/03/2019)\n",
      "\n",
      "==== Processing Step  Final Drizzle  started at  15:16:37.410 (15/03/2019)\n",
      "WCS Keywords\n",
      "\n",
      "CD_11  CD_12: -1.3888888888888e-05 -1.0176579598308e-22\n",
      "CD_21  CD_22: 9.38780354672793e-23 1.38888888888888e-05\n",
      "CRVAL    : 197.4465925754311 -23.37980658639843\n",
      "CRPIX    : 2968.769039591403 2960.943023202673\n",
      "NAXIS    : 5935 5921\n",
      "Plate Scale : 0.049999999999996804\n",
      "ORIENTAT : -4.198140438206334e-16\n",
      "-Generating multi-extension output file:  ../data/NGC4993/reduced/NGC4993_F475W_drc.fits\n",
      "Deleted all instances of WCS with key A in extensions [1]\n",
      "Deleted all instances of WCS with key B in extensions [1]\n",
      "Deleted all instances of WCS with key C in extensions [1]\n",
      "Deleted all instances of WCS with key D in extensions [1]\n",
      "Writing out to disk: ../data/NGC4993/reduced/NGC4993_F475W_drc.fits\n",
      "==== Processing Step  Final Drizzle  finished at  15:17:39.880 (15/03/2019)\n",
      "\n",
      "\n",
      "AstroDrizzle Version 2.2.6 is finished processing at 15:17:39.904 (15/03/2019).\n",
      "\n",
      "\n",
      "   --------------------          --------------------\n",
      "                   Step          Elapsed time\n",
      "   --------------------          --------------------\n",
      "\n",
      "         Initialization          2.6894 sec.\n",
      "            Static Mask          1.9561 sec.\n",
      "           Subtract Sky          0.3183 sec.\n",
      "       Separate Drizzle          6.9393 sec.\n",
      "          Create Median          12.2676 sec.\n",
      "                   Blot          13.4473 sec.\n",
      "                Driz_CR          5.5128 sec.\n",
      "          Final Drizzle          62.4694 sec.\n",
      "   ====================          ====================\n",
      "                  Total          105.6001 sec.\n",
      "Trailer file written to:  astrodrizzle.log\n",
      "*************************\n",
      "Accounting for Noise and Errors\n",
      "--Sky Noise (F850LP): 62.0 counts (0.091 cps)\n",
      "--Sky Noise (F475W): 175.3 counts (0.126 cps)\n",
      "--Done\n",
      "CPU times: user 1min 33s, sys: 19.2 s, total: 1min 52s\n",
      "Wall time: 2min 14s\n"
     ]
    }
   ],
   "source": [
    "# %%time\n",
    "# ppy.data.alignment.drizzle_many(files, outputs, reference_filter='F850LP', verbose=True, updatewcs=False, realign_only=False,\n",
    "#                                 realign_kwargs={'threshold': 400, 'nclip': 3, 'minobj': 3, 'refimagefindcfg': {'threshold': 400}})"
   ]
  },
  {
   "cell_type": "code",
   "execution_count": 15,
   "metadata": {},
   "outputs": [],
   "source": [
    "# tweakreg.TweakReg([outputs['F475W'], outputs['F850LP']], conv_width=4.0, minobj=3,\n",
    "#                       threshold=400, nclip=3, shiftfile=False, writecat=False, clean=True,\n",
    "#                       interactive=False)"
   ]
  },
  {
   "cell_type": "code",
   "execution_count": 17,
   "metadata": {},
   "outputs": [],
   "source": [
    "# # Create difference image to check alignment\n",
    "# f1 = fits.open(outputs['F850LP'])\n",
    "# f2 = fits.open(outputs['F475W'])\n",
    "# data = f2['SCI'].data / f1['SCI'].data\n",
    "# hdulist = fits.HDUList([fits.PrimaryHDU(), fits.ImageHDU(data=data)])\n",
    "# hdulist.writeto(diff_im, overwrite=True)"
   ]
  },
  {
   "cell_type": "code",
   "execution_count": null,
   "metadata": {},
   "outputs": [],
   "source": []
  },
  {
   "cell_type": "code",
   "execution_count": null,
   "metadata": {},
   "outputs": [],
   "source": []
  },
  {
   "cell_type": "markdown",
   "metadata": {},
   "source": [
    "# Automatic Source Extraction"
   ]
  },
  {
   "cell_type": "code",
   "execution_count": 18,
   "metadata": {},
   "outputs": [
    {
     "name": "stdout",
     "output_type": "stream",
     "text": [
      "CPU times: user 5min 37s, sys: 7.09 s, total: 5min 44s\n",
      "Wall time: 6min 27s\n"
     ]
    }
   ],
   "source": [
    "%%time\n",
    "box = 8\n",
    "ppy.data.sources.estimate_background(outputs['F850LP'], bkg_kwargs={'bw':box, 'bh':box})"
   ]
  },
  {
   "cell_type": "code",
   "execution_count": 19,
   "metadata": {},
   "outputs": [
    {
     "name": "stdout",
     "output_type": "stream",
     "text": [
      "CPU times: user 4.6 s, sys: 7.23 s, total: 11.8 s\n",
      "Wall time: 19.5 s\n"
     ]
    }
   ],
   "source": [
    "%%time\n",
    "ppy.data.sources.mask_sources_auto(outputs['F850LP'], threshold=10.0)"
   ]
  },
  {
   "cell_type": "code",
   "execution_count": null,
   "metadata": {},
   "outputs": [],
   "source": []
  },
  {
   "cell_type": "markdown",
   "metadata": {},
   "source": [
    "# Manual Source Extraction"
   ]
  },
  {
   "cell_type": "code",
   "execution_count": 6,
   "metadata": {},
   "outputs": [],
   "source": [
    "ppy.data.sources.mask_sources_manual(outputs['F850LP'], '../data/NGC4993/masks/NGC4993_F850LP.reg')"
   ]
  },
  {
   "cell_type": "code",
   "execution_count": 7,
   "metadata": {},
   "outputs": [],
   "source": [
    "# compute regions using only source masks\n",
    "ppy.data.sources._add_masked(outputs['F850LP'], mask_flags=[ppy.data.utils.ALL_FLAGS['SEXTRACTOR'],\n",
    "                                                            ppy.data.utils.ALL_FLAGS['MANUAL']])"
   ]
  },
  {
   "cell_type": "markdown",
   "metadata": {},
   "source": [
    "# Combine Masks"
   ]
  },
  {
   "cell_type": "code",
   "execution_count": 8,
   "metadata": {},
   "outputs": [],
   "source": [
    "ppy.data.utils.combine_flags(outputs)"
   ]
  },
  {
   "cell_type": "markdown",
   "metadata": {},
   "source": [
    "# Compute Regions"
   ]
  },
  {
   "cell_type": "code",
   "execution_count": 12,
   "metadata": {},
   "outputs": [
    {
     "name": "stderr",
     "output_type": "stream",
     "text": [
      "100%|██████████| 45/45 [01:15<00:00,  1.68s/it]\n"
     ]
    },
    {
     "data": {
      "text/plain": [
       "array([[-1, -1, -1, ..., -1, -1, -1],\n",
       "       [-1, -1, -1, ..., -1, -1, -1],\n",
       "       [-1, -1, -1, ..., -1, -1, -1],\n",
       "       ...,\n",
       "       [-1, -1, -1, ..., -1, -1, -1],\n",
       "       [-1, -1, -1, ..., -1, -1, -1],\n",
       "       [-1, -1, -1, ..., -1, -1, -1]], dtype=int32)"
      ]
     },
     "execution_count": 12,
     "metadata": {},
     "output_type": "execute_result"
    }
   ],
   "source": [
    "ppy.data.extraction.add_regions(outputs, '../data/NGC4993/masks/NGC4993_F850LP_contours_new.reg', base_filter='F850LP',\n",
    "                                xc=2827, yc=2659)"
   ]
  },
  {
   "cell_type": "markdown",
   "metadata": {},
   "source": [
    "# Extract PCMDs"
   ]
  },
  {
   "cell_type": "code",
   "execution_count": 13,
   "metadata": {},
   "outputs": [
    {
     "name": "stdout",
     "output_type": "stream",
     "text": [
      "Filter: F850LP\n",
      "Observation Date: 57992 (MJD)\n",
      "Vega ZeroPoint: 24.3316\n",
      "AB ZeroPoint: 24.8573\n",
      "ST ZeroPoint: 25.9444\n",
      "Exposure Time: 680.0\n",
      "A pre-made filter is available\n",
      "Filter: F475W\n",
      "Observation Date: 57992 (MJD)\n",
      "Vega ZeroPoint: 26.1477\n",
      "AB ZeroPoint: 26.0552\n",
      "ST ZeroPoint: 25.7448\n",
      "Exposure Time: 1395.0\n",
      "A pre-made filter is available\n"
     ]
    },
    {
     "name": "stderr",
     "output_type": "stream",
     "text": [
      "100%|██████████| 180/180 [00:16<00:00, 10.63it/s]\n"
     ]
    }
   ],
   "source": [
    "pcmds = ppy.data.extraction.save_pcmds(outputs, 'F850LP', 'F475W', path='../data/NGC4993/pcmds/',\n",
    "                                       name_append='NGC4993_z_gz')"
   ]
  },
  {
   "cell_type": "markdown",
   "metadata": {},
   "source": [
    "# Check"
   ]
  },
  {
   "cell_type": "code",
   "execution_count": 14,
   "metadata": {},
   "outputs": [],
   "source": [
    "f = ppy.instrument.default_ngc4993_filters()"
   ]
  },
  {
   "cell_type": "code",
   "execution_count": 15,
   "metadata": {},
   "outputs": [],
   "source": [
    "with fits.open(outputs['F850LP']) as h:\n",
    "    mags = f[0].counts_to_mag(h['SCI'].data)\n",
    "    regions = h['REGIONS'].data\n",
    "with fits.open(outputs['F475W']) as h:\n",
    "    colors = f[1].counts_to_mag(h['SCI'].data) - mags"
   ]
  },
  {
   "cell_type": "code",
   "execution_count": 16,
   "metadata": {},
   "outputs": [
    {
     "name": "stderr",
     "output_type": "stream",
     "text": [
      "NGC4993: 100%|██████████| 45/45 [03:02<00:00,  4.05s/it]\n"
     ]
    }
   ],
   "source": [
    "ellips = {}\n",
    "xc, yc = 2827, 2659\n",
    "delta_mags = []\n",
    "for i in tqdm(range(regions.max() // 4), desc='NGC4993'):\n",
    "    mask = (regions >= 4*i + 1)&(regions < 4*(i+1) + 1)\n",
    "    ellips[i+1] = ppy.data.extraction.EllipticalFit(mask, xc=xc, yc=yc)\n",
    "    delta_mags.append(ellips[i+1].delta_val(mags))"
   ]
  },
  {
   "cell_type": "code",
   "execution_count": 17,
   "metadata": {},
   "outputs": [
    {
     "data": {
      "text/plain": [
       "<matplotlib.lines.Line2D at 0x102736860>"
      ]
     },
     "execution_count": 17,
     "metadata": {},
     "output_type": "execute_result"
    },
    {
     "data": {
      "image/png": "[encoded data removed]",
      "text/plain": [
       "<Figure size 432x288 with 1 Axes>"
      ]
     },
     "metadata": {},
     "output_type": "display_data"
    }
   ],
   "source": [
    "plt.plot(np.arange(len(delta_mags))+1, delta_mags)\n",
    "plt.axhline(y=0.1)"
   ]
  },
  {
   "cell_type": "code",
   "execution_count": 18,
   "metadata": {},
   "outputs": [
    {
     "data": {
      "text/plain": [
       "<matplotlib.axes._subplots.AxesSubplot at 0x1c4847e10>"
      ]
     },
     "execution_count": 18,
     "metadata": {},
     "output_type": "execute_result"
    },
    {
     "data": {
      "image/png": "[encoded data removed]",
      "text/plain": [
       "<Figure size 432x288 with 2 Axes>"
      ]
     },
     "metadata": {},
     "output_type": "display_data"
    }
   ],
   "source": [
    "ppy.data.extraction.plot_image(mags, ellips[11].mask)"
   ]
  },
  {
   "cell_type": "code",
   "execution_count": 24,
   "metadata": {},
   "outputs": [
    {
     "data": {
      "text/plain": [
       "(25.6, 26.0)"
      ]
     },
     "execution_count": 24,
     "metadata": {},
     "output_type": "execute_result"
    },
    {
     "data": {
      "image/png": "[encoded data removed]",
      "text/plain": [
       "<Figure size 432x288 with 2 Axes>"
      ]
     },
     "metadata": {},
     "output_type": "display_data"
    }
   ],
   "source": [
    "fig, axes = plt.subplots(ncols=2, sharey=True)\n",
    "ellips[11].plot_radial_gradient(mags, ax=axes[0])\n",
    "ellips[11].plot_angular_gradient(mags, ax=axes[1])\n",
    "axes[1].set_xlim([-4 ,4])\n",
    "axes[1].set_ylim([25.6, 26.0])"
   ]
  },
  {
   "cell_type": "code",
   "execution_count": 34,
   "metadata": {},
   "outputs": [
    {
     "name": "stderr",
     "output_type": "stream",
     "text": [
      "100%|██████████| 179/179 [00:01<00:00, 98.04it/s]\n"
     ]
    }
   ],
   "source": [
    "pcmds = {}\n",
    "for i in tqdm(range(1, 180)):\n",
    "    filename = f'../data/NGC4993/pcmds/NGC4993_z_gz_{i}.pcmd'\n",
    "    try:\n",
    "        pcmds[i] = np.loadtxt(filename, unpack=True)\n",
    "    except OSError:\n",
    "        continue\n",
    "    if len(pcmds[i]) == 0:\n",
    "        pcmds.pop(i)\n",
    "        os.remove(filename)"
   ]
  },
  {
   "cell_type": "code",
   "execution_count": 35,
   "metadata": {},
   "outputs": [],
   "source": [
    "keys = np.array(list(pcmds.keys()))"
   ]
  },
  {
   "cell_type": "code",
   "execution_count": 36,
   "metadata": {},
   "outputs": [
    {
     "data": {
      "text/plain": [
       "array([  1,   2,   3,   4,   5,   6,   7,   8,   9,  10,  11,  12,  13,\n",
       "        14,  15,  16,  17,  18,  19,  20,  21,  22,  23,  24,  26,  27,\n",
       "        28,  29,  30,  31,  32,  33,  34,  35,  36,  38,  39,  40,  41,\n",
       "        42,  43,  44,  45,  46,  47,  48,  49,  50,  51,  52,  53,  54,\n",
       "        55,  56,  57,  58,  59,  60,  61,  62,  63,  64,  65,  66,  67,\n",
       "        68,  69,  70,  71,  72,  73,  74,  75,  76,  77,  78,  79,  80,\n",
       "        81,  82,  83,  84,  85,  86,  87,  88,  89,  90,  91,  92,  93,\n",
       "        94,  95,  96,  97,  98,  99, 100, 101, 102, 103, 104, 105, 106,\n",
       "       107, 108, 109, 110, 111, 112, 113, 114, 115, 116, 117, 118, 119,\n",
       "       120, 121, 122, 123, 124, 125, 126, 127, 128, 129, 130, 131, 132,\n",
       "       133, 134, 135, 136, 137, 138, 139, 140, 141, 142, 143, 144, 145,\n",
       "       146, 147, 148, 149, 150, 151, 152, 153, 154, 155, 156, 157, 158,\n",
       "       159, 160, 161, 162, 163, 164, 165, 166, 167, 168, 169, 170, 171,\n",
       "       172, 173, 174, 175, 176, 177, 178, 179])"
      ]
     },
     "execution_count": 36,
     "metadata": {},
     "output_type": "execute_result"
    }
   ],
   "source": [
    "keys"
   ]
  },
  {
   "cell_type": "code",
   "execution_count": 37,
   "metadata": {},
   "outputs": [],
   "source": [
    "Neffs = {i: np.sqrt(pcmds[i].shape[1]) for i in pcmds.keys()}"
   ]
  },
  {
   "cell_type": "code",
   "execution_count": 38,
   "metadata": {},
   "outputs": [
    {
     "data": {
      "text/plain": [
       "[<matplotlib.lines.Line2D at 0x11d27d048>]"
      ]
     },
     "execution_count": 38,
     "metadata": {},
     "output_type": "execute_result"
    },
    {
     "data": {
      "image/png": "[encoded data removed]",
      "text/plain": [
       "<Figure size 432x288 with 1 Axes>"
      ]
     },
     "metadata": {},
     "output_type": "display_data"
    }
   ],
   "source": [
    "plt.plot(Neffs.keys(), Neffs.values())"
   ]
  },
  {
   "cell_type": "code",
   "execution_count": 39,
   "metadata": {},
   "outputs": [],
   "source": [
    "f = ppy.instrument.default_ngc4993_filters()\n",
    "iso_model = ppy.isochrones.Isochrone_Model(f)"
   ]
  },
  {
   "cell_type": "code",
   "execution_count": 40,
   "metadata": {},
   "outputs": [],
   "source": [
    "dmod = 33.0"
   ]
  },
  {
   "cell_type": "code",
   "execution_count": 41,
   "metadata": {},
   "outputs": [
    {
     "data": {
      "text/plain": [
       "39.810717055349734"
      ]
     },
     "execution_count": 41,
     "metadata": {},
     "output_type": "execute_result"
    }
   ],
   "source": [
    "ppy.distancemodels.dmod_to_mpc(dmod)"
   ]
  },
  {
   "cell_type": "code",
   "execution_count": 42,
   "metadata": {},
   "outputs": [],
   "source": [
    "driv = ppy.driver.Driver(iso_model, gpu=False)"
   ]
  },
  {
   "cell_type": "code",
   "execution_count": 43,
   "metadata": {},
   "outputs": [],
   "source": [
    "gal_3 = ppy.galaxy.SSPSimple(np.array([0., -2., 3., 10.]), dmod=dmod)\n",
    "gal_4 = ppy.galaxy.SSPSimple(np.array([0., -2., 4., 10.]), dmod=dmod)\n",
    "gal_5 = ppy.galaxy.SSPSimple(np.array([0., -2., 5., 10.]), dmod=dmod)\n",
    "gal_6 = ppy.galaxy.SSPSimple(np.array([0., -2., 6., 10.]), dmod=dmod)"
   ]
  },
  {
   "cell_type": "code",
   "execution_count": 44,
   "metadata": {},
   "outputs": [],
   "source": [
    "sky = [58.5, 157.1]"
   ]
  },
  {
   "cell_type": "code",
   "execution_count": 45,
   "metadata": {},
   "outputs": [],
   "source": [
    "pcmd_3, _ = driv.simulate(gal_3, 256, sky_noise=sky)\n",
    "pcmd_4, _ = driv.simulate(gal_4, 256, sky_noise=sky)\n",
    "pcmd_5, _ = driv.simulate(gal_5, 256, sky_noise=sky)\n",
    "pcmd_6, _ = driv.simulate(gal_6, 256, sky_noise=sky)"
   ]
  },
  {
   "cell_type": "code",
   "execution_count": 46,
   "metadata": {},
   "outputs": [
    {
     "name": "stderr",
     "output_type": "stream",
     "text": [
      "100%|██████████| 45/45 [00:51<00:00,  1.15s/it]\n"
     ]
    }
   ],
   "source": [
    "is_dark = False\n",
    "for i in tqdm(np.unique((keys-1)//4)):\n",
    "    fig, axes = plt.subplots(ncols=2, nrows=2, figsize=(10, 8), sharex=True, sharey=True)\n",
    "    axes = [axes[0,1], axes[0,0], axes[1,0], axes[1,1]] # 4 quadrants\n",
    "    for j in range(4):\n",
    "        k = j + 1 + 4*i\n",
    "        if k not in pcmds:\n",
    "            continue\n",
    "        pcmd = pcmds[k]\n",
    "        ppy.plotting.plot_pcmd(pcmd, ax=axes[j])\n",
    "        ppy.plotting.plot_pcmd_contours(pcmd_3, keep_limits=True, ax=axes[j], alpha=0.3, color=('w' if is_dark else 'k'))\n",
    "        ppy.plotting.plot_pcmd_contours(pcmd_4, keep_limits=True, ax=axes[j], alpha=0.3, color=('w' if is_dark else 'k'))\n",
    "        ppy.plotting.plot_pcmd_contours(pcmd_5, keep_limits=True, ax=axes[j], alpha=0.3, color=('w' if is_dark else 'k'))\n",
    "        ppy.plotting.plot_pcmd_contours(pcmd_6, keep_limits=True, ax=axes[j], alpha=0.3, color=('w' if is_dark else 'k'))\n",
    "        axes[j].set_title('Region {:d}, Neff = {:.0f}'.format(k, np.sqrt(pcmd.shape[1])))\n",
    "        ppy.plotting.plot_isochrone(iso_model, dmod=30.25, axes=axes[j], mag_system='vega')\n",
    "        axes[j].axhline(y=f[0].counts_to_mag(sky[0]), color='r', ls='--')\n",
    "    axes[0].set_xlim([0, 3])\n",
    "    axes[0].set_ylim([29, 22])\n",
    "    plt.tight_layout()\n",
    "    plt.savefig(f'figures/NGC4993/NGC4993_s{i}_pcmds.pdf')\n",
    "    plt.close()"
   ]
  },
  {
   "cell_type": "code",
   "execution_count": null,
   "metadata": {},
   "outputs": [],
   "source": []
  }
 ],
 "metadata": {
  "kernelspec": {
   "display_name": "Python 3",
   "language": "python",
   "name": "python3"
  },
  "language_info": {
   "codemirror_mode": {
    "name": "ipython",
    "version": 3
   },
   "file_extension": ".py",
   "mimetype": "text/x-python",
   "name": "python",
   "nbconvert_exporter": "python",
   "pygments_lexer": "ipython3",
   "version": "3.6.4"
  }
 },
 "nbformat": 4,
 "nbformat_minor": 2
}
