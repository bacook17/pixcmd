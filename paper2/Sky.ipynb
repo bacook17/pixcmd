{
 "cells": [
  {
   "cell_type": "code",
   "execution_count": 33,
   "metadata": {},
   "outputs": [],
   "source": [
    "import numpy as np, matplotlib.pyplot as plt, matplotlib as mpl\n",
    "import pandas as pd\n",
    "from scipy.interpolate import interp1d\n",
    "from scipy.integrate import trapz\n",
    "import os, sys\n",
    "from astropy.io import fits\n",
    "from astropy.table import Table\n",
    "from drizzlepac import sky\n",
    "import seaborn as sns\n",
    "from tqdm import tqdm\n",
    "%matplotlib inline"
   ]
  },
  {
   "cell_type": "code",
   "execution_count": 34,
   "metadata": {},
   "outputs": [],
   "source": [
    "# def compute_sky(input_image, n=100, good_frac=0.1, verbose=True):\n",
    "#     image = fits.getdata(input_image, 'SCI')\n",
    "#     flags = fits.getdata(input_image, 'FLAGS')\n",
    "#     meds = []\n",
    "#     for i in tqdm(range(0, image.shape[0]+n, n), disable=(not verbose)):\n",
    "#         for j in range(0, image.shape[1]+n, n):\n",
    "#             s1 = slice(i, i+n)\n",
    "#             s2 = slice(j, j+n)\n",
    "#             sub_im = image[s1, s2]\n",
    "#             n_total = sub_im.shape[0] * sub_im.shape[1]\n",
    "#             sub_mask = (flags[s1, s2] == 0)\n",
    "#             data = sub_im[sub_mask]\n",
    "#             data = data[~np.isnan(data)]\n",
    "#             n_final = len(data)\n",
    "#             if (n_final >= good_frac*n_total)&(n_final > 0):\n",
    "#                 meds.append(np.median(data))\n",
    "#     return np.min(meds)"
   ]
  },
  {
   "cell_type": "code",
   "execution_count": 35,
   "metadata": {},
   "outputs": [],
   "source": [
    "# files = ['../data/NGC3377/reduced/NGC3377_F475W_drc.fits', '../data/NGC3377/reduced/NGC3377_F850LP_drc.fits',\n",
    "#         '../data/NGC4993/reduced/NGC4993_F475W_drc.fits', '../data/NGC4993/reduced/NGC4993_F850LP_drc.fits',\n",
    "#         '../data/M49/reduced/M49_F475W_drc.fits', '../data/M49/reduced/M49_F850LP_drc.fits',\n",
    "#         '../data/M87/reduced/M87_F475W_drc.fits', '../data/M87/reduced/M87_F606W_drc.fits', '../data/M87/reduced/M87_F814W_drc.fits']"
   ]
  },
  {
   "cell_type": "code",
   "execution_count": 36,
   "metadata": {},
   "outputs": [],
   "source": [
    "# for f in files:\n",
    "#     sky = compute_sky(f, n=100, verbose=False)\n",
    "#     print(f.rpartition('/')[-1], sky)"
   ]
  },
  {
   "cell_type": "markdown",
   "metadata": {},
   "source": [
    "# Estimate Earthshine\n",
    "\n",
    "scraped from http://www.stsci.edu/hst/stis/documents/handbooks/currentIHB/c06_exptime6.html#337664"
   ]
  },
  {
   "cell_type": "code",
   "execution_count": 37,
   "metadata": {},
   "outputs": [],
   "source": [
    "df = pd.read_csv('../data/Earthshine_Levels.csv', names=['limbangle', 'mags'])\n",
    "df.sort_values('limbangle', inplace=True)\n",
    "limbangle, mags = df.values.T"
   ]
  },
  {
   "cell_type": "code",
   "execution_count": 38,
   "metadata": {},
   "outputs": [],
   "source": [
    "mag_interp = interp1d(limbangle, mags, kind='cubic', fill_value='extrapolate')"
   ]
  },
  {
   "cell_type": "code",
   "execution_count": 39,
   "metadata": {},
   "outputs": [],
   "source": [
    "def flux_ratio(angle, baseline=50, earth_mod=None):\n",
    "    \"\"\"\n",
    "    Compute the flux ratio of Earthshine at angle, relative to 50 degrees\n",
    "    \"\"\"\n",
    "    baseline = mag_interp(baseline)\n",
    "    mags = earth_mod if earth_mod is not None else mag_interp(angle)\n",
    "    fluxes = 10.**(-0.4 * (mags - baseline))\n",
    "    return fluxes"
   ]
  },
  {
   "cell_type": "code",
   "execution_count": 40,
   "metadata": {},
   "outputs": [
    {
     "data": {
      "text/plain": [
       "Text(0, 0.5, 'EarthShine (V-band Mags / as^2)')"
      ]
     },
     "execution_count": 40,
     "metadata": {},
     "output_type": "execute_result"
    },
    {
     "data": {
      "image/png": "[encoded data removed]",
      "text/plain": [
       "<Figure size 432x288 with 1 Axes>"
      ]
     },
     "metadata": {},
     "output_type": "display_data"
    }
   ],
   "source": [
    "plt.plot(limbangle, mags, 'ko')\n",
    "x = np.linspace(0, 90, 100)\n",
    "plt.plot(x, mag_interp(x), 'r--')\n",
    "plt.xlabel('Earth Limb Angle')\n",
    "plt.ylabel('EarthShine (V-band Mags / as^2)')"
   ]
  },
  {
   "cell_type": "code",
   "execution_count": 41,
   "metadata": {},
   "outputs": [
    {
     "data": {
      "image/png": "[encoded data removed]",
      "text/plain": [
       "<Figure size 432x288 with 1 Axes>"
      ]
     },
     "metadata": {},
     "output_type": "display_data"
    }
   ],
   "source": [
    "x = np.linspace(20, 90, 100)\n",
    "plt.plot(x, flux_ratio(x), 'r--')\n",
    "plt.xlabel('Earth Limb Angle')\n",
    "plt.ylabel('EarthShine (Flux Ratio)')\n",
    "plt.yscale('log')"
   ]
  },
  {
   "cell_type": "code",
   "execution_count": 42,
   "metadata": {},
   "outputs": [],
   "source": [
    "def total_earthshine(angles, times=None, is_bright=None, earth_mod=None):\n",
    "    \"\"\"\n",
    "    Return the total earthshine flux (relative to 50 degrees) over an exposure\n",
    "    \n",
    "    Assumes 3 second spacing between datapoints if x not given\n",
    "    \"\"\"\n",
    "    fluxes = flux_ratio(angles, earth_mod=earth_mod)\n",
    "    if is_bright is not None:\n",
    "        fluxes *= is_bright.astype(float)\n",
    "    kwargs = {'x': times}\n",
    "    if times is None:\n",
    "        kwargs['dx'] = 3.0\n",
    "    return trapz(fluxes, **kwargs)"
   ]
  },
  {
   "cell_type": "code",
   "execution_count": 43,
   "metadata": {},
   "outputs": [],
   "source": [
    "def earthshine_factor(flc_file):\n",
    "    \"\"\"\n",
    "    Return the earthshine factor for an exposure, including both the average earthshine and the total exposure time\n",
    "    \"\"\"\n",
    "    gal_name = flc_file.rpartition('/')[-1].split('_')[0]\n",
    "    asn_id = fits.getval(flc_file, 'ASN_ID').lower()\n",
    "    if asn_id == 'none':\n",
    "        asn_id = fits.getval(flc_file, 'ROOTNAME').lower()[:-1] + 'j'\n",
    "    root_name = fits.getval(flc_file, 'ROOTNAME').lower()[:-1]\n",
    "    jit_file = f'../data/{gal_name}/calibration/{asn_id}_jit.fits'\n",
    "    if not os.path.isfile(jit_file):\n",
    "        jit_file = jit_file.replace('0_jit.fits', '1_jit.fits')\n",
    "        if not os.path.isfile(jit_file):\n",
    "            raise FileNotFoundError(f'No jit file found for {flc_file} under {jit_file}')\n",
    "    with fits.open(jit_file) as h:\n",
    "        for i in range(1, len(h)):\n",
    "            if h[i].header['EXPNAME'].lower()[:-1] == root_name:\n",
    "                if 'BrightLimb' in h[i].data.columns.names:\n",
    "                    is_bright = h[i].data['BrightLimb']\n",
    "                    earth_mod = None\n",
    "                else:\n",
    "                    is_bright = None\n",
    "                    earth_mod = h[i].data['EarthMod']\n",
    "                return total_earthshine(h[i].data['LIMBANG'], times=h[i].data['Seconds'],\n",
    "                                        is_bright=is_bright, earth_mod=earth_mod)\n",
    "    raise FileNotFoundError(f'No valid extension found for {root_name}')"
   ]
  },
  {
   "cell_type": "code",
   "execution_count": 44,
   "metadata": {},
   "outputs": [],
   "source": [
    "def get_zodiacal_params(files, outputs):\n",
    "    for filt in files.keys():\n",
    "        print(filt)\n",
    "        print('Filter 1', fits.getval(outputs[filt], 'FILTER1'))\n",
    "        print('Filter 2', fits.getval(outputs[filt], 'FILTER2'))\n",
    "        print('Exposure Time', fits.getval(outputs[filt], 'EXPTIME'), 's')\n",
    "        print('RA', fits.getval(files[filt][0], 'RA_TARG'))\n",
    "        print('DEC', fits.getval(files[filt][0], 'DEC_TARG'))\n",
    "        for f in files[filt]:\n",
    "            print('SUN ANGLE', fits.getval(f, 'SUNANGLE'))\n",
    "        print('')"
   ]
  },
  {
   "cell_type": "code",
   "execution_count": 45,
   "metadata": {},
   "outputs": [],
   "source": [
    "def total_sky(flcs, drc, no_earth_sky, avg_earth_sky, pix_scale=0.05):\n",
    "    \"\"\"\n",
    "    Compute the total sky\n",
    "    \n",
    "    no_earth_sky : sky value without earthshine (in e-/s/as^2)\n",
    "    avg_earth_sky : sky value with average earthshine (in e-/s/as^2)\n",
    "    dark_current : dark current (in e-/s/as^2)\n",
    "    \"\"\"\n",
    "    avg_earth_counts = (avg_earth_sky - no_earth_sky) * pix_scale**2\n",
    "    zodiacal_sky = fits.getval(drc, 'EXPTIME') * (no_earth_sky) * pix_scale**2\n",
    "    earth_sky = 0.\n",
    "    for f in flcs:\n",
    "        earth_sky += avg_earth_counts * earthshine_factor(f)\n",
    "    print(f'Total Sky: {earth_sky + zodiacal_sky:.1f}')\n",
    "    print(f'    Zodiacal: {zodiacal_sky:.1f}')\n",
    "    print(f'    Earthshine: {earth_sky:.1f}')\n",
    "    return earth_sky + zodiacal_sky"
   ]
  },
  {
   "cell_type": "code",
   "execution_count": 48,
   "metadata": {},
   "outputs": [],
   "source": [
    "files, outputs = {}, {}\n",
    "\n",
    "files['NGC4993'] = {'F475W': ['../data/NGC4993/raw/NGC4993_F475W_EXP{:d}_flc.fits'.format(i) for i in range(1, 4)],\n",
    "                    'F850LP': ['../data/NGC4993/raw/NGC4993_F850LP_EXP{:d}_flc.fits'.format(i) for i in range(1, 3)]}\n",
    "outputs['NGC4993'] = {'F475W': '../data/NGC4993/reduced/NGC4993_F475W_drc.fits',\n",
    "                      'F850LP': '../data/NGC4993/reduced/NGC4993_F850LP_drc.fits'}\n",
    "\n",
    "files['M87'] = {'F475W': ['../data/M87/raw/M87_F475W_EXP{:d}_flc.fits'.format(i) for i in range(1, 3)],\n",
    "                'F606W': ['../data/M87/raw/M87_F606W_EXP{:d}_flc.fits'.format(i) for i in range(1, 7)],\n",
    "                'F814W': ['../data/M87/raw/M87_F814W_EXP{:d}_flc.fits'.format(i) for i in range(1, 9)]}\n",
    "outputs['M87'] = {'F475W': '../data/M87_v2/reduced/M87_F475W_drc.fits',\n",
    "                  'F606W': '../data/M87/reduced/M87_F606W_drc.fits',\n",
    "                  'F814W': '../data/M87/reduced/M87_F814W_drc.fits'}\n",
    "\n",
    "files['M49'] = {'F475W': ['../data/M49/raw/M49_F475W_EXP{:d}_flc.fits'.format(i) for i in range(1, 3)],\n",
    "                'F850LP': ['../data/M49/raw/M49_F850LP_EXP{:d}_flc.fits'.format(i) for i in range(1, 3)]}\n",
    "outputs['M49'] = {'F475W': '../data/M49/reduced/M49_F475W_drc.fits',\n",
    "                  'F850LP': '../data/M49/reduced/M49_F850LP_drc.fits'}\n",
    "\n",
    "files['NGC3377'] = {'F475W': ['../data/NGC3377/raw/NGC3377_F475W_EXP{:d}_flc.fits'.format(i) for i in range(1, 5)],\n",
    "                    'F850LP': ['../data/NGC3377/raw/NGC3377_F850LP_EXP{:d}_flc.fits'.format(i) for i in range(1, 5)]}\n",
    "outputs['NGC3377'] = {'F475W': '../data/NGC3377/reduced/NGC3377_F475W_drc.fits',\n",
    "                      'F850LP': '../data/NGC3377/reduced/NGC3377_F850LP_drc.fits'}\n",
    "\n",
    "files['M51'] = {'F435W': ['../data/M51/raw/M51_F435W_EXP{:d}_flc.fits'.format(i) for i in range(1, 5)],\n",
    "                'F814W': ['../data/M51/raw/M51_F814W_EXP{:d}_flc.fits'.format(i) for i in range(1, 5)]}\n",
    "outputs['M51'] = {'F435W': '../data/M51/reduced/M51_F435W_drc.fits',\n",
    "                  'F814W': '../data/M51/reduced/M51_F814W_drc.fits'}\n",
    "\n",
    "files['DF2'] = {'F606W': ['../data/DF2/raw/DF2_F606W_EXP{:d}_flc.fits'.format(i) for i in range(1, 5)],\n",
    "                'F814W': ['../data/DF2/raw/DF2_F814W_EXP{:d}_flc.fits'.format(i) for i in range(1, 5)]}\n",
    "outputs['DF2'] = {'F606W': '../data/DF2/reduced/DF2_F606W_drc.fits',\n",
    "                  'F814W': '../data/DF2/reduced/DF2_F814W_drc.fits'}\n",
    "\n",
    "files['M31'] = {'F475W': [],\n",
    "               'F814W': []}\n",
    "outputs['M31'] = {'F475W': '../data/m31/raw/hlsp_phat_hst_acs-wfc_12058-m31-b01_f475w_v1_drz_ALIGNED.fits',\n",
    "                  'F814W': '../data/m31/raw/hlsp_phat_hst_acs-wfc_12058-m31-b01_f814w_v1_drz.fits'}"
   ]
  },
  {
   "cell_type": "code",
   "execution_count": 49,
   "metadata": {},
   "outputs": [],
   "source": [
    "no_earth_sky = {}\n",
    "avg_earth_sky = {}"
   ]
  },
  {
   "cell_type": "markdown",
   "metadata": {},
   "source": [
    "# NGC 3377"
   ]
  },
  {
   "cell_type": "code",
   "execution_count": 50,
   "metadata": {},
   "outputs": [
    {
     "name": "stdout",
     "output_type": "stream",
     "text": [
      "NGC3377\n",
      "F475W\n",
      "Filter 1 F475W\n",
      "Filter 2 CLEAR2L\n",
      "Exposure Time 1380.0 s\n",
      "RA 161.9264166667\n",
      "DEC 13.98563888889\n",
      "SUN ANGLE 134.615356\n",
      "SUN ANGLE 134.671051\n",
      "SUN ANGLE 134.676132\n",
      "SUN ANGLE 134.681183\n",
      "\n",
      "F850LP\n",
      "Filter 1 F850LP\n",
      "Filter 2 CLEAR2L\n",
      "Exposure Time 3005.0 s\n",
      "RA 161.9264166667\n",
      "DEC 13.98563888889\n",
      "SUN ANGLE 134.739075\n",
      "SUN ANGLE 134.747574\n",
      "SUN ANGLE 134.804459\n",
      "SUN ANGLE 134.814835\n",
      "\n"
     ]
    }
   ],
   "source": [
    "print('NGC3377')\n",
    "get_zodiacal_params(files['NGC3377'], outputs['NGC3377'])"
   ]
  },
  {
   "cell_type": "code",
   "execution_count": 51,
   "metadata": {},
   "outputs": [],
   "source": [
    "no_earth_sky['NGC3377'] = {\n",
    "    'F850LP': 16.887,\n",
    "    'F475W': 22.177\n",
    "}\n",
    "avg_earth_sky['NGC3377'] = {\n",
    "    'F850LP': 20.873,\n",
    "    'F475W': 29.207\n",
    "}"
   ]
  },
  {
   "cell_type": "markdown",
   "metadata": {},
   "source": [
    "# NGC 4993"
   ]
  },
  {
   "cell_type": "code",
   "execution_count": 52,
   "metadata": {},
   "outputs": [
    {
     "name": "stdout",
     "output_type": "stream",
     "text": [
      "NGC4993\n",
      "F475W\n",
      "Filter 1 F475W\n",
      "Filter 2 CLEAR2L\n",
      "Exposure Time 1395.0 s\n",
      "RA 197.450375\n",
      "DEC -23.38148611111\n",
      "SUN ANGLE 52.592072\n",
      "SUN ANGLE 52.537567\n",
      "SUN ANGLE 52.583733\n",
      "\n",
      "F850LP\n",
      "Filter 1 F850LP\n",
      "Filter 2 CLEAR2L\n",
      "Exposure Time 680.0 s\n",
      "RA 197.450375\n",
      "DEC -23.38148611111\n",
      "SUN ANGLE 52.410385\n",
      "SUN ANGLE 52.46376\n",
      "\n"
     ]
    }
   ],
   "source": [
    "print('NGC4993')\n",
    "get_zodiacal_params(files['NGC4993'], outputs['NGC4993'])"
   ]
  },
  {
   "cell_type": "code",
   "execution_count": 53,
   "metadata": {},
   "outputs": [],
   "source": [
    "no_earth_sky['NGC4993'] = {\n",
    "    'F850LP': 33.574,\n",
    "    'F475W': 43.99\n",
    "}\n",
    "avg_earth_sky['NGC4993'] = {\n",
    "    'F850LP': 37.561,\n",
    "    'F475W': 51.018\n",
    "}"
   ]
  },
  {
   "cell_type": "markdown",
   "metadata": {},
   "source": [
    "# M87"
   ]
  },
  {
   "cell_type": "code",
   "execution_count": 54,
   "metadata": {},
   "outputs": [
    {
     "name": "stdout",
     "output_type": "stream",
     "text": [
      "M87\n",
      "F475W\n",
      "Filter 1 F475W\n",
      "Filter 2 CLEAR2L\n",
      "Exposure Time 750.0 s\n",
      "RA 187.7059166667\n",
      "DEC 12.39111111111\n",
      "SUN ANGLE 116.435112\n",
      "SUN ANGLE 116.441307\n",
      "\n",
      "F606W\n",
      "Filter 1 F606W\n",
      "Filter 2 CLEAR2L\n",
      "Exposure Time 3000.0 s\n",
      "RA 187.7058333333\n",
      "DEC 12.39111111111\n",
      "SUN ANGLE 108.552048\n",
      "SUN ANGLE 115.290573\n",
      "SUN ANGLE 123.160904\n",
      "SUN ANGLE 130.668259\n",
      "SUN ANGLE 137.063354\n",
      "SUN ANGLE 143.136826\n",
      "\n",
      "F814W\n",
      "Filter 1 CLEAR1L\n",
      "Filter 2 F814W\n",
      "Exposure Time 2880.0 s\n",
      "RA 187.7058333333\n",
      "DEC 12.39111111111\n",
      "SUN ANGLE 108.488235\n",
      "SUN ANGLE 108.495064\n",
      "SUN ANGLE 108.500923\n",
      "SUN ANGLE 108.50679\n",
      "SUN ANGLE 115.219025\n",
      "SUN ANGLE 115.225822\n",
      "SUN ANGLE 115.279114\n",
      "SUN ANGLE 115.284943\n",
      "\n"
     ]
    }
   ],
   "source": [
    "print('M87')\n",
    "get_zodiacal_params(files['M87'], outputs['M87'])"
   ]
  },
  {
   "cell_type": "code",
   "execution_count": 55,
   "metadata": {},
   "outputs": [],
   "source": [
    "no_earth_sky['M87'] = {\n",
    "    'F814W': 40.57,\n",
    "    'F606W': 46.818,\n",
    "    'F475W': 20.167,\n",
    "}\n",
    "avg_earth_sky['M87'] = {\n",
    "    'F814W': 50.356,\n",
    "    'F606W': 58.919,\n",
    "    'F475W': 27.197\n",
    "}"
   ]
  },
  {
   "cell_type": "markdown",
   "metadata": {},
   "source": [
    "# M49"
   ]
  },
  {
   "cell_type": "code",
   "execution_count": 56,
   "metadata": {},
   "outputs": [
    {
     "name": "stdout",
     "output_type": "stream",
     "text": [
      "M49\n",
      "F475W\n",
      "Filter 1 F475W\n",
      "Filter 2 CLEAR2L\n",
      "Exposure Time 750.0 s\n",
      "RA 187.4449583333\n",
      "DEC 8.000416666667\n",
      "SUN ANGLE 96.026253\n",
      "SUN ANGLE 96.020294\n",
      "\n",
      "F850LP\n",
      "Filter 1 F850LP\n",
      "Filter 2 CLEAR2L\n",
      "Exposure Time 1120.0 s\n",
      "RA 187.4449583333\n",
      "DEC 8.000416666667\n",
      "SUN ANGLE 96.041382\n",
      "SUN ANGLE 96.033813\n",
      "\n"
     ]
    }
   ],
   "source": [
    "print('M49')\n",
    "get_zodiacal_params(files['M49'], outputs['M49'])"
   ]
  },
  {
   "cell_type": "code",
   "execution_count": 57,
   "metadata": {},
   "outputs": [],
   "source": [
    "no_earth_sky['M49'] = {\n",
    "    'F850LP': 20.317,\n",
    "    'F475W': 26.694\n",
    "}\n",
    "avg_earth_sky['M49'] = {\n",
    "    'F850LP': 24.303,\n",
    "    'F475W': 33.724\n",
    "}"
   ]
  },
  {
   "cell_type": "markdown",
   "metadata": {},
   "source": [
    "# M51"
   ]
  },
  {
   "cell_type": "code",
   "execution_count": 58,
   "metadata": {},
   "outputs": [
    {
     "name": "stdout",
     "output_type": "stream",
     "text": [
      "M51\n",
      "F435W\n",
      "Filter 1 CLEAR1L\n",
      "Filter 2 F435W\n",
      "Exposure Time 2720.0 s\n",
      "RA 202.5075833333\n",
      "DEC 47.21459444444\n",
      "SUN ANGLE 111.699074\n",
      "SUN ANGLE 112.143326\n",
      "SUN ANGLE 111.138313\n",
      "SUN ANGLE 112.656525\n",
      "\n",
      "F814W\n",
      "Filter 1 CLEAR1L\n",
      "Filter 2 F814W\n",
      "Exposure Time 1360.0 s\n",
      "RA 202.5075833333\n",
      "DEC 47.21459444444\n",
      "SUN ANGLE 111.70826\n",
      "SUN ANGLE 112.152435\n",
      "SUN ANGLE 111.147583\n",
      "SUN ANGLE 112.665565\n",
      "\n"
     ]
    }
   ],
   "source": [
    "print('M51')\n",
    "get_zodiacal_params(files['M51'], outputs['M51'])"
   ]
  },
  {
   "cell_type": "code",
   "execution_count": 59,
   "metadata": {},
   "outputs": [],
   "source": [
    "no_earth_sky['M51'] = {\n",
    "    'F814W': 21.43,\n",
    "    'F435W': 5.960\n",
    "}\n",
    "avg_earth_sky['M51'] = {\n",
    "    'F814W': 32.19,\n",
    "    'F435W': 9.816\n",
    "}"
   ]
  },
  {
   "cell_type": "markdown",
   "metadata": {},
   "source": [
    "# DF2"
   ]
  },
  {
   "cell_type": "markdown",
   "metadata": {},
   "source": [
    "DF2 is not an extended source, so astrodrizzle's Sky should work well"
   ]
  },
  {
   "cell_type": "code",
   "execution_count": 60,
   "metadata": {},
   "outputs": [],
   "source": [
    "sky_F814W = Table(fits.getdata(outputs['DF2']['F814W'], 'HDRTAB')).to_pandas().MDRIZSKY.sum() / 2.\n",
    "sky_F606W = Table(fits.getdata(outputs['DF2']['F606W'], 'HDRTAB')).to_pandas().MDRIZSKY.sum() / 2."
   ]
  },
  {
   "cell_type": "code",
   "execution_count": 61,
   "metadata": {},
   "outputs": [
    {
     "data": {
      "text/plain": [
       "(163.67780303955078, 207.13434600830078)"
      ]
     },
     "execution_count": 61,
     "metadata": {},
     "output_type": "execute_result"
    }
   ],
   "source": [
    "sky_F814W, sky_F606W"
   ]
  },
  {
   "cell_type": "code",
   "execution_count": 62,
   "metadata": {},
   "outputs": [
    {
     "name": "stdout",
     "output_type": "stream",
     "text": [
      "DF2\n",
      "F606W\n",
      "Filter 1 F606W\n",
      "Filter 2 CLEAR2L\n",
      "Exposure Time 2180.0 s\n",
      "RA 40.44466666667\n",
      "DEC -8.403\n",
      "SUN ANGLE 150.606979\n",
      "SUN ANGLE 150.601379\n",
      "SUN ANGLE 150.595551\n",
      "SUN ANGLE 150.59053\n",
      "\n",
      "F814W\n",
      "Filter 1 CLEAR1L\n",
      "Filter 2 F814W\n",
      "Exposure Time 2320.0 s\n",
      "RA 40.44466666667\n",
      "DEC -8.403\n",
      "SUN ANGLE 150.567093\n",
      "SUN ANGLE 150.561432\n",
      "SUN ANGLE 150.555328\n",
      "SUN ANGLE 150.550049\n",
      "\n"
     ]
    }
   ],
   "source": [
    "print('DF2')\n",
    "get_zodiacal_params(files['DF2'], outputs['DF2'])"
   ]
  },
  {
   "cell_type": "code",
   "execution_count": 63,
   "metadata": {},
   "outputs": [],
   "source": [
    "no_earth_sky['DF2'] = {\n",
    "    'F814W': 32.3,\n",
    "    'F606W': 38.642\n",
    "}\n",
    "avg_earth_sky['DF2'] = {\n",
    "    'F814W': 43.059,\n",
    "    'F606W': 53.581\n",
    "}"
   ]
  },
  {
   "cell_type": "markdown",
   "metadata": {},
   "source": [
    "# M31"
   ]
  },
  {
   "cell_type": "code",
   "execution_count": 69,
   "metadata": {},
   "outputs": [],
   "source": [
    "no_earth_sky['M31'] = {\n",
    "    'F814W': 23.429,\n",
    "    'F475W': 12.039\n",
    "}\n",
    "avg_earth_sky['M31'] = {\n",
    "    'F814W': 34.188,\n",
    "    'F475W': 19.07\n",
    "}"
   ]
  },
  {
   "cell_type": "markdown",
   "metadata": {},
   "source": [
    "# Results"
   ]
  },
  {
   "cell_type": "code",
   "execution_count": 70,
   "metadata": {},
   "outputs": [
    {
     "name": "stdout",
     "output_type": "stream",
     "text": [
      "========\n",
      "NGC4993\n",
      "F475W\n",
      "Total Sky: 157.1\n",
      "    Zodiacal: 153.4\n",
      "    Earthshine: 3.7\n",
      "F850LP\n",
      "Total Sky: 58.5\n",
      "    Zodiacal: 57.1\n",
      "    Earthshine: 1.4\n",
      "\n",
      "========\n",
      "M87\n",
      "F475W\n",
      "Total Sky: 43.4\n",
      "    Zodiacal: 37.8\n",
      "    Earthshine: 5.6\n",
      "F606W\n",
      "Total Sky: 377.1\n",
      "    Zodiacal: 351.1\n",
      "    Earthshine: 26.0\n",
      "F814W\n",
      "Total Sky: 292.8\n",
      "    Zodiacal: 292.1\n",
      "    Earthshine: 0.7\n",
      "\n",
      "========\n",
      "M49\n",
      "F475W\n",
      "Total Sky: 50.1\n",
      "    Zodiacal: 50.1\n",
      "    Earthshine: 0.0\n",
      "F850LP\n",
      "Total Sky: 56.9\n",
      "    Zodiacal: 56.9\n",
      "    Earthshine: 0.0\n",
      "\n",
      "========\n",
      "NGC3377\n",
      "F475W\n",
      "Total Sky: 76.5\n",
      "    Zodiacal: 76.5\n",
      "    Earthshine: 0.0\n",
      "F850LP\n",
      "Total Sky: 126.9\n",
      "    Zodiacal: 126.9\n",
      "    Earthshine: 0.0\n",
      "\n",
      "========\n",
      "M51\n",
      "F435W\n",
      "Total Sky: 40.5\n",
      "    Zodiacal: 40.5\n",
      "    Earthshine: 0.0\n",
      "F814W\n",
      "Total Sky: 72.9\n",
      "    Zodiacal: 72.9\n",
      "    Earthshine: 0.0\n",
      "\n",
      "========\n",
      "DF2\n",
      "F606W\n",
      "Total Sky: 210.6\n",
      "    Zodiacal: 210.6\n",
      "    Earthshine: 0.0\n",
      "F814W\n",
      "Total Sky: 187.3\n",
      "    Zodiacal: 187.3\n",
      "    Earthshine: 0.0\n",
      "\n",
      "========\n",
      "M31\n",
      "F475W\n"
     ]
    },
    {
     "ename": "KeyError",
     "evalue": "\"Keyword 'EXPTIME' not found.\"",
     "output_type": "error",
     "traceback": [
      "\u001b[0;31m---------------------------------------------------------------------------\u001b[0m",
      "\u001b[0;31mKeyError\u001b[0m                                  Traceback (most recent call last)",
      "\u001b[0;32m<ipython-input-70-a3eb6094b85d>\u001b[0m in \u001b[0;36m<module>\u001b[0;34m()\u001b[0m\n\u001b[1;32m      4\u001b[0m     \u001b[0;32mfor\u001b[0m \u001b[0mfilt\u001b[0m \u001b[0;32min\u001b[0m \u001b[0mfiles\u001b[0m\u001b[0;34m[\u001b[0m\u001b[0mgal\u001b[0m\u001b[0;34m]\u001b[0m\u001b[0;34m.\u001b[0m\u001b[0mkeys\u001b[0m\u001b[0;34m(\u001b[0m\u001b[0;34m)\u001b[0m\u001b[0;34m:\u001b[0m\u001b[0;34m\u001b[0m\u001b[0m\n\u001b[1;32m      5\u001b[0m         \u001b[0mprint\u001b[0m\u001b[0;34m(\u001b[0m\u001b[0mfilt\u001b[0m\u001b[0;34m)\u001b[0m\u001b[0;34m\u001b[0m\u001b[0m\n\u001b[0;32m----> 6\u001b[0;31m         \u001b[0mtotal_sky\u001b[0m\u001b[0;34m(\u001b[0m\u001b[0mfiles\u001b[0m\u001b[0;34m[\u001b[0m\u001b[0mgal\u001b[0m\u001b[0;34m]\u001b[0m\u001b[0;34m[\u001b[0m\u001b[0mfilt\u001b[0m\u001b[0;34m]\u001b[0m\u001b[0;34m,\u001b[0m \u001b[0moutputs\u001b[0m\u001b[0;34m[\u001b[0m\u001b[0mgal\u001b[0m\u001b[0;34m]\u001b[0m\u001b[0;34m[\u001b[0m\u001b[0mfilt\u001b[0m\u001b[0;34m]\u001b[0m\u001b[0;34m,\u001b[0m \u001b[0mno_earth_sky\u001b[0m\u001b[0;34m[\u001b[0m\u001b[0mgal\u001b[0m\u001b[0;34m]\u001b[0m\u001b[0;34m[\u001b[0m\u001b[0mfilt\u001b[0m\u001b[0;34m]\u001b[0m\u001b[0;34m,\u001b[0m \u001b[0mavg_earth_sky\u001b[0m\u001b[0;34m[\u001b[0m\u001b[0mgal\u001b[0m\u001b[0;34m]\u001b[0m\u001b[0;34m[\u001b[0m\u001b[0mfilt\u001b[0m\u001b[0;34m]\u001b[0m\u001b[0;34m)\u001b[0m\u001b[0;34m\u001b[0m\u001b[0m\n\u001b[0m\u001b[1;32m      7\u001b[0m     \u001b[0mprint\u001b[0m\u001b[0;34m(\u001b[0m\u001b[0;34m''\u001b[0m\u001b[0;34m)\u001b[0m\u001b[0;34m\u001b[0m\u001b[0m\n",
      "\u001b[0;32m<ipython-input-45-ba2630e0b4f6>\u001b[0m in \u001b[0;36mtotal_sky\u001b[0;34m(flcs, drc, no_earth_sky, avg_earth_sky, pix_scale)\u001b[0m\n\u001b[1;32m      8\u001b[0m     \"\"\"\n\u001b[1;32m      9\u001b[0m     \u001b[0mavg_earth_counts\u001b[0m \u001b[0;34m=\u001b[0m \u001b[0;34m(\u001b[0m\u001b[0mavg_earth_sky\u001b[0m \u001b[0;34m-\u001b[0m \u001b[0mno_earth_sky\u001b[0m\u001b[0;34m)\u001b[0m \u001b[0;34m*\u001b[0m \u001b[0mpix_scale\u001b[0m\u001b[0;34m**\u001b[0m\u001b[0;36m2\u001b[0m\u001b[0;34m\u001b[0m\u001b[0m\n\u001b[0;32m---> 10\u001b[0;31m     \u001b[0mzodiacal_sky\u001b[0m \u001b[0;34m=\u001b[0m \u001b[0mfits\u001b[0m\u001b[0;34m.\u001b[0m\u001b[0mgetval\u001b[0m\u001b[0;34m(\u001b[0m\u001b[0mdrc\u001b[0m\u001b[0;34m,\u001b[0m \u001b[0;34m'EXPTIME'\u001b[0m\u001b[0;34m)\u001b[0m \u001b[0;34m*\u001b[0m \u001b[0;34m(\u001b[0m\u001b[0mno_earth_sky\u001b[0m\u001b[0;34m)\u001b[0m \u001b[0;34m*\u001b[0m \u001b[0mpix_scale\u001b[0m\u001b[0;34m**\u001b[0m\u001b[0;36m2\u001b[0m\u001b[0;34m\u001b[0m\u001b[0m\n\u001b[0m\u001b[1;32m     11\u001b[0m     \u001b[0mearth_sky\u001b[0m \u001b[0;34m=\u001b[0m \u001b[0;36m0.\u001b[0m\u001b[0;34m\u001b[0m\u001b[0m\n\u001b[1;32m     12\u001b[0m     \u001b[0;32mfor\u001b[0m \u001b[0mf\u001b[0m \u001b[0;32min\u001b[0m \u001b[0mflcs\u001b[0m\u001b[0;34m:\u001b[0m\u001b[0;34m\u001b[0m\u001b[0m\n",
      "\u001b[0;32m~/anaconda/envs/py36/lib/python3.6/site-packages/astropy/io/fits/convenience.py\u001b[0m in \u001b[0;36mgetval\u001b[0;34m(filename, keyword, *args, **kwargs)\u001b[0m\n\u001b[1;32m    263\u001b[0m \u001b[0;34m\u001b[0m\u001b[0m\n\u001b[1;32m    264\u001b[0m     \u001b[0mhdr\u001b[0m \u001b[0;34m=\u001b[0m \u001b[0mgetheader\u001b[0m\u001b[0;34m(\u001b[0m\u001b[0mfilename\u001b[0m\u001b[0;34m,\u001b[0m \u001b[0;34m*\u001b[0m\u001b[0margs\u001b[0m\u001b[0;34m,\u001b[0m \u001b[0;34m**\u001b[0m\u001b[0mkwargs\u001b[0m\u001b[0;34m)\u001b[0m\u001b[0;34m\u001b[0m\u001b[0m\n\u001b[0;32m--> 265\u001b[0;31m     \u001b[0;32mreturn\u001b[0m \u001b[0mhdr\u001b[0m\u001b[0;34m[\u001b[0m\u001b[0mkeyword\u001b[0m\u001b[0;34m]\u001b[0m\u001b[0;34m\u001b[0m\u001b[0m\n\u001b[0m\u001b[1;32m    266\u001b[0m \u001b[0;34m\u001b[0m\u001b[0m\n\u001b[1;32m    267\u001b[0m \u001b[0;34m\u001b[0m\u001b[0m\n",
      "\u001b[0;32m~/anaconda/envs/py36/lib/python3.6/site-packages/astropy/io/fits/header.py\u001b[0m in \u001b[0;36m__getitem__\u001b[0;34m(self, key)\u001b[0m\n\u001b[1;32m    143\u001b[0m         \u001b[0;32melse\u001b[0m\u001b[0;34m:\u001b[0m\u001b[0;34m\u001b[0m\u001b[0m\n\u001b[1;32m    144\u001b[0m             \u001b[0mkeyword\u001b[0m \u001b[0;34m=\u001b[0m \u001b[0mkey\u001b[0m\u001b[0;34m\u001b[0m\u001b[0m\n\u001b[0;32m--> 145\u001b[0;31m         \u001b[0mcard\u001b[0m \u001b[0;34m=\u001b[0m \u001b[0mself\u001b[0m\u001b[0;34m.\u001b[0m\u001b[0m_cards\u001b[0m\u001b[0;34m[\u001b[0m\u001b[0mself\u001b[0m\u001b[0;34m.\u001b[0m\u001b[0m_cardindex\u001b[0m\u001b[0;34m(\u001b[0m\u001b[0mkey\u001b[0m\u001b[0;34m)\u001b[0m\u001b[0;34m]\u001b[0m\u001b[0;34m\u001b[0m\u001b[0m\n\u001b[0m\u001b[1;32m    146\u001b[0m         \u001b[0;32mif\u001b[0m \u001b[0mcard\u001b[0m\u001b[0;34m.\u001b[0m\u001b[0mfield_specifier\u001b[0m \u001b[0;32mis\u001b[0m \u001b[0;32mnot\u001b[0m \u001b[0;32mNone\u001b[0m \u001b[0;32mand\u001b[0m \u001b[0mkeyword\u001b[0m \u001b[0;34m==\u001b[0m \u001b[0mcard\u001b[0m\u001b[0;34m.\u001b[0m\u001b[0mrawkeyword\u001b[0m\u001b[0;34m:\u001b[0m\u001b[0;34m\u001b[0m\u001b[0m\n\u001b[1;32m    147\u001b[0m             \u001b[0;31m# This is RVKC; if only the top-level keyword was specified return\u001b[0m\u001b[0;34m\u001b[0m\u001b[0;34m\u001b[0m\u001b[0m\n",
      "\u001b[0;32m~/anaconda/envs/py36/lib/python3.6/site-packages/astropy/io/fits/header.py\u001b[0m in \u001b[0;36m_cardindex\u001b[0;34m(self, key)\u001b[0m\n\u001b[1;32m   1652\u001b[0m \u001b[0;34m\u001b[0m\u001b[0m\n\u001b[1;32m   1653\u001b[0m         \u001b[0;32mif\u001b[0m \u001b[0;32mnot\u001b[0m \u001b[0mindices\u001b[0m\u001b[0;34m:\u001b[0m\u001b[0;34m\u001b[0m\u001b[0m\n\u001b[0;32m-> 1654\u001b[0;31m             \u001b[0;32mraise\u001b[0m \u001b[0mKeyError\u001b[0m\u001b[0;34m(\u001b[0m\u001b[0;34m\"Keyword {!r} not found.\"\u001b[0m\u001b[0;34m.\u001b[0m\u001b[0mformat\u001b[0m\u001b[0;34m(\u001b[0m\u001b[0mkeyword\u001b[0m\u001b[0;34m)\u001b[0m\u001b[0;34m)\u001b[0m\u001b[0;34m\u001b[0m\u001b[0m\n\u001b[0m\u001b[1;32m   1655\u001b[0m \u001b[0;34m\u001b[0m\u001b[0m\n\u001b[1;32m   1656\u001b[0m         \u001b[0;32mtry\u001b[0m\u001b[0;34m:\u001b[0m\u001b[0;34m\u001b[0m\u001b[0m\n",
      "\u001b[0;31mKeyError\u001b[0m: \"Keyword 'EXPTIME' not found.\""
     ]
    }
   ],
   "source": [
    "for gal in files.keys():\n",
    "    print('========')\n",
    "    print(gal)\n",
    "    for filt in files[gal].keys():\n",
    "        print(filt)\n",
    "        total_sky(files[gal][filt], outputs[gal][filt], no_earth_sky[gal][filt], avg_earth_sky[gal][filt])\n",
    "    print('')"
   ]
  },
  {
   "cell_type": "code",
   "execution_count": null,
   "metadata": {},
   "outputs": [],
   "source": []
  },
  {
   "cell_type": "code",
   "execution_count": null,
   "metadata": {},
   "outputs": [],
   "source": []
  }
 ],
 "metadata": {
  "kernelspec": {
   "display_name": "Python 3",
   "language": "python",
   "name": "python3"
  },
  "language_info": {
   "codemirror_mode": {
    "name": "ipython",
    "version": 3
   },
   "file_extension": ".py",
   "mimetype": "text/x-python",
   "name": "python",
   "nbconvert_exporter": "python",
   "pygments_lexer": "ipython3",
   "version": "3.6.4"
  }
 },
 "nbformat": 4,
 "nbformat_minor": 2
}
