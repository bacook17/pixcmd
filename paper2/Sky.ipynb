{
 "cells": [
  {
   "cell_type": "code",
   "execution_count": 1,
   "metadata": {},
   "outputs": [
    {
     "name": "stdout",
     "output_type": "stream",
     "text": [
      "The following task in the stsci.skypac package can be run with TEAL:\n",
      "                                    skymatch                                    \n",
      "The following tasks in the drizzlepac package can be run with TEAL:\n",
      "    astrodrizzle       imagefindpars           mapreg              photeq       \n",
      "     pixreplace           pixtopix            pixtosky        refimagefindpars  \n",
      "     resetbits          runastrodriz            sky               skytopix      \n",
      "     tweakback            tweakreg           updatenpol\n"
     ]
    }
   ],
   "source": [
    "import numpy as np, matplotlib.pyplot as plt, matplotlib as mpl\n",
    "import pandas as pd\n",
    "from astropy.io import fits\n",
    "from astropy.table import Table\n",
    "from drizzlepac import sky\n",
    "import seaborn as sns\n",
    "from tqdm import tqdm\n",
    "%matplotlib inline"
   ]
  },
  {
   "cell_type": "code",
   "execution_count": 2,
   "metadata": {},
   "outputs": [],
   "source": [
    "import os, sys"
   ]
  },
  {
   "cell_type": "code",
   "execution_count": 13,
   "metadata": {},
   "outputs": [],
   "source": [
    "def compute_sky(input_image, n=100, good_frac=0.25, verbose=True):\n",
    "    image = fits.getdata(input_image, 'SCI')\n",
    "    flags = fits.getdata(input_image, 'FLAGS')\n",
    "    meds = []\n",
    "    for i in tqdm(range(0, image.shape[0]+n, n), disable=(not verbose)):\n",
    "        for j in range(0, image.shape[1]+n, n):\n",
    "            s1 = slice(i, i+n)\n",
    "            s2 = slice(j, j+n)\n",
    "            sub_im = image[s1, s2]\n",
    "            n_total = sub_im.shape[0] * sub_im.shape[1]\n",
    "            sub_mask = (flags[s1, s2] == 0)\n",
    "            data = sub_im[sub_mask]\n",
    "            data = data[~np.isnan(data)]\n",
    "            n_final = len(data)\n",
    "            if (n_final >= good_frac*n_total)&(n_final > 0):\n",
    "                meds.append(np.median(data))\n",
    "    return np.min(meds)"
   ]
  },
  {
   "cell_type": "code",
   "execution_count": 14,
   "metadata": {},
   "outputs": [],
   "source": [
    "files = ['../data/NGC3377/reduced/NGC3377_F475W_drc.fits', '../data/NGC3377/reduced/NGC3377_F850LP_drc.fits',\n",
    "        '../data/NGC4993/reduced/NGC4993_F475W_drc.fits', '../data/NGC4993/reduced/NGC4993_F850LP_drc.fits',\n",
    "        '../data/M49/reduced/M49_F475W_drc.fits', '../data/M49/reduced/M49_F850LP_drc.fits',\n",
    "        '../data/M87/reduced/M87_F475W_drc.fits', '../data/M87/reduced/M87_F606W_drc.fits', '../data/M87/reduced/M87_F814W_drc.fits']"
   ]
  },
  {
   "cell_type": "code",
   "execution_count": 15,
   "metadata": {},
   "outputs": [
    {
     "name": "stdout",
     "output_type": "stream",
     "text": [
      "NGC3377_F475W_drc.fits 81.75273\n",
      "NGC3377_F850LP_drc.fits 122.83262\n",
      "NGC4993_F475W_drc.fits 170.75229\n",
      "NGC4993_F850LP_drc.fits 58.188858\n",
      "M49_F475W_drc.fits 68.45227\n",
      "M49_F850LP_drc.fits 92.19022\n",
      "M87_F475W_drc.fits 81.13346\n",
      "M87_F606W_drc.fits 828.9583\n",
      "M87_F814W_drc.fits 629.1317\n"
     ]
    }
   ],
   "source": [
    "for f in files:\n",
    "    sky = compute_sky(f, n=100, verbose=False)\n",
    "    print(f.rpartition('/')[-1], sky)"
   ]
  },
  {
   "cell_type": "code",
   "execution_count": null,
   "metadata": {},
   "outputs": [],
   "source": []
  }
 ],
 "metadata": {
  "kernelspec": {
   "display_name": "Python 3",
   "language": "python",
   "name": "python3"
  },
  "language_info": {
   "codemirror_mode": {
    "name": "ipython",
    "version": 3
   },
   "file_extension": ".py",
   "mimetype": "text/x-python",
   "name": "python",
   "nbconvert_exporter": "python",
   "pygments_lexer": "ipython3",
   "version": "3.6.4"
  }
 },
 "nbformat": 4,
 "nbformat_minor": 2
}
