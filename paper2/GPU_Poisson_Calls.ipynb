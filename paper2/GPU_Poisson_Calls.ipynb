{
 "cells": [
  {
   "cell_type": "code",
   "execution_count": 62,
   "metadata": {},
   "outputs": [],
   "source": [
    "import numpy as np, matplotlib as mpl, matplotlib.pyplot as plt\n",
    "from pycuda import curandom\n",
    "from time import time\n",
    "from pycuda import autoinit\n",
    "from tqdm import tqdm\n",
    "%matplotlib inline"
   ]
  },
  {
   "cell_type": "code",
   "execution_count": 61,
   "metadata": {},
   "outputs": [],
   "source": [
    "gener = curandom.XORWOWRandomNumberGenerator()"
   ]
  },
  {
   "cell_type": "code",
   "execution_count": 41,
   "metadata": {},
   "outputs": [],
   "source": [
    "lam, N = 0.01, 10000000"
   ]
  },
  {
   "cell_type": "code",
   "execution_count": 51,
   "metadata": {},
   "outputs": [
    {
     "name": "stdout",
     "output_type": "stream",
     "text": [
      "CPU times: user 425 ms, sys: 30.6 ms, total: 455 ms\n",
      "Wall time: 454 ms\n"
     ]
    },
    {
     "data": {
      "text/plain": [
       "array([0, 0, 0, ..., 0, 0, 0])"
      ]
     },
     "execution_count": 51,
     "metadata": {},
     "output_type": "execute_result"
    }
   ],
   "source": [
    "%%time\n",
    "np.random.poisson(lam=lam, size=(N,))"
   ]
  },
  {
   "cell_type": "code",
   "execution_count": 52,
   "metadata": {},
   "outputs": [
    {
     "name": "stdout",
     "output_type": "stream",
     "text": [
      "CPU times: user 18.8 ms, sys: 23.1 ms, total: 41.9 ms\n",
      "Wall time: 41.6 ms\n"
     ]
    },
    {
     "data": {
      "text/plain": [
       "array([0, 1, 2, ..., 1, 0, 1], dtype=uint32)"
      ]
     },
     "execution_count": 52,
     "metadata": {},
     "output_type": "execute_result"
    }
   ],
   "source": [
    "%%time\n",
    "gener.gen_poisson((N,), np.uint32, lam*100).get()"
   ]
  },
  {
   "cell_type": "code",
   "execution_count": 82,
   "metadata": {},
   "outputs": [],
   "source": [
    "N = 1000000\n",
    "lams = 10.**np.arange(-2, 6.1)"
   ]
  },
  {
   "cell_type": "code",
   "execution_count": 95,
   "metadata": {},
   "outputs": [
    {
     "name": "stderr",
     "output_type": "stream",
     "text": [
      "100%|██████████| 9/9 [00:00<00:00, 36.24it/s]\n"
     ]
    }
   ],
   "source": [
    "med_cpu = {}\n",
    "all_cpu = {}\n",
    "med_gpu = {}\n",
    "all_gpu = {}\n",
    "for lam in tqdm(lams):\n",
    "    cpu = []\n",
    "    gpu = []\n",
    "    for _ in range(10):\n",
    "#         tstart = time()\n",
    "#         x = np.random.poisson(lam=lam, size=(N,))\n",
    "#         cpu.append(time() - tstart)\n",
    "        tstart = time()\n",
    "        x = gener.gen_poisson((N,), np.uint32, lam).get()\n",
    "        gpu.append(time() - tstart)\n",
    "#     med_cpu[lam] = np.median(cpu)\n",
    "#     all_cpu[lam] = np.array(cpu)\n",
    "    med_gpu[lam] = np.median(gpu)\n",
    "    all_gpu[lam] = np.array(gpu)\n",
    "    "
   ]
  },
  {
   "cell_type": "code",
   "execution_count": 96,
   "metadata": {},
   "outputs": [
    {
     "data": {
      "text/plain": [
       "{0.01: 0.0028568506240844727,\n",
       " 0.1: 0.002641916275024414,\n",
       " 1.0: 0.0025783777236938477,\n",
       " 10.0: 0.0026988983154296875,\n",
       " 100.0: 0.0028488636016845703,\n",
       " 1000.0: 0.0028421878814697266,\n",
       " 10000.0: 0.0026149749755859375,\n",
       " 100000.0: 0.002608060836791992,\n",
       " 1000000.0: 0.0026091337203979492}"
      ]
     },
     "execution_count": 96,
     "metadata": {},
     "output_type": "execute_result"
    }
   ],
   "source": [
    "med_gpu"
   ]
  },
  {
   "cell_type": "code",
   "execution_count": null,
   "metadata": {},
   "outputs": [],
   "source": [
    "\"\"\"\n",
    "#include <curand_kernel.h>\n",
    "\n",
    "extern \"C\"\n",
    "{\n",
    "__global__ void poisson(curandState *global_state)\n",
    "\n",
    "\n",
    "}\n",
    "\"\"\""
   ]
  }
 ],
 "metadata": {
  "kernelspec": {
   "display_name": "Python 3",
   "language": "python",
   "name": "python3"
  },
  "language_info": {
   "codemirror_mode": {
    "name": "ipython",
    "version": 3
   },
   "file_extension": ".py",
   "mimetype": "text/x-python",
   "name": "python",
   "nbconvert_exporter": "python",
   "pygments_lexer": "ipython3",
   "version": "3.6.3"
  }
 },
 "nbformat": 4,
 "nbformat_minor": 2
}
