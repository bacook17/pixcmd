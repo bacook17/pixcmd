{
 "cells": [
  {
   "cell_type": "code",
   "execution_count": 1,
   "metadata": {
    "collapsed": false
   },
   "outputs": [],
   "source": [
    "import numpy as np, matplotlib.pyplot as plt, matplotlib as mpl\n",
    "import pandas as pd\n",
    "%matplotlib inline"
   ]
  },
  {
   "cell_type": "code",
   "execution_count": 2,
   "metadata": {
    "collapsed": false
   },
   "outputs": [
    {
     "name": "stdout",
     "output_type": "stream",
     "text": [
      "pycuda not installed.\n",
      "GPU acceleration not available, sorry\n"
     ]
    },
    {
     "ename": "ImportError",
     "evalue": "No module named emcee",
     "output_type": "error",
     "traceback": [
      "\u001b[0;31m---------------------------------------------------------------------------\u001b[0m",
      "\u001b[0;31mImportError\u001b[0m                               Traceback (most recent call last)",
      "\u001b[0;32m<ipython-input-2-26e498246672>\u001b[0m in \u001b[0;36m<module>\u001b[0;34m()\u001b[0m\n\u001b[1;32m      1\u001b[0m \u001b[0;32mimport\u001b[0m \u001b[0minstrument\u001b[0m \u001b[0;32mas\u001b[0m \u001b[0mins\u001b[0m\u001b[0;34m,\u001b[0m \u001b[0misochrones\u001b[0m \u001b[0;32mas\u001b[0m \u001b[0miso\u001b[0m\u001b[0;34m\u001b[0m\u001b[0m\n\u001b[1;32m      2\u001b[0m \u001b[0;32mimport\u001b[0m \u001b[0mgalaxy\u001b[0m \u001b[0;32mas\u001b[0m \u001b[0mgal\u001b[0m\u001b[0;34m,\u001b[0m \u001b[0mdriver\u001b[0m\u001b[0;34m\u001b[0m\u001b[0m\n\u001b[0;32m----> 3\u001b[0;31m \u001b[0;32mimport\u001b[0m \u001b[0mfit_model\u001b[0m\u001b[0;34m,\u001b[0m \u001b[0mutils\u001b[0m\u001b[0;34m,\u001b[0m \u001b[0mgpu_utils\u001b[0m\u001b[0;34m\u001b[0m\u001b[0m\n\u001b[0m",
      "\u001b[0;32m/Users/patron/bcook/pixcmd/pysrc/fit_model.py\u001b[0m in \u001b[0;36m<module>\u001b[0;34m()\u001b[0m\n\u001b[1;32m      8\u001b[0m \u001b[0;32mimport\u001b[0m \u001b[0mdriver\u001b[0m\u001b[0;34m\u001b[0m\u001b[0m\n\u001b[1;32m      9\u001b[0m \u001b[0;32mimport\u001b[0m \u001b[0mutils\u001b[0m\u001b[0;34m\u001b[0m\u001b[0m\n\u001b[0;32m---> 10\u001b[0;31m \u001b[0;32mimport\u001b[0m \u001b[0memcee\u001b[0m\u001b[0;34m\u001b[0m\u001b[0m\n\u001b[0m\u001b[1;32m     11\u001b[0m \u001b[0;34m\u001b[0m\u001b[0m\n\u001b[1;32m     12\u001b[0m \u001b[0;32mdef\u001b[0m \u001b[0mlnprior_ssp\u001b[0m\u001b[0;34m(\u001b[0m\u001b[0mgal_params\u001b[0m\u001b[0;34m)\u001b[0m\u001b[0;34m:\u001b[0m\u001b[0;34m\u001b[0m\u001b[0m\n",
      "\u001b[0;31mImportError\u001b[0m: No module named emcee"
     ]
    }
   ],
   "source": [
    "import instrument as ins, isochrones as iso\n",
    "import galaxy as gal, driver \n",
    "import fit_model, utils, gpu_utils"
   ]
  },
  {
   "cell_type": "code",
   "execution_count": 4,
   "metadata": {
    "collapsed": true
   },
   "outputs": [],
   "source": [
    "filters = [ins.Filter.HST_F475W(1.), ins.Filter.HST_F814W(1.)]\n",
    "n_filters = len(filters)\n",
    "iso_model = iso.Isochrone_Model(filters)\n",
    "driver_gpu = driver.Driver(iso_model, gpu=True)"
   ]
  },
  {
   "cell_type": "code",
   "execution_count": null,
   "metadata": {
    "collapsed": true
   },
   "outputs": [],
   "source": [
    "n_scale = 1024"
   ]
  },
  {
   "cell_type": "code",
   "execution_count": 5,
   "metadata": {
    "collapsed": true
   },
   "outputs": [],
   "source": [
    "model_ssp = gal.Galaxy_SSP(np.array([0., -2., 2., 10.]))\n",
    "model_full = gal.Galaxy_Model(np.array([0., -2., 0., 0., 0., 0., 0., 0., 0.]))"
   ]
  },
  {
   "cell_type": "code",
   "execution_count": 8,
   "metadata": {
    "collapsed": false
   },
   "outputs": [
    {
     "name": "stdout",
     "output_type": "stream",
     "text": [
      "CPU times: user 1.08 s, sys: 221 ms, total: 1.31 s\n",
      "Wall time: 1.43 s\n"
     ]
    }
   ],
   "source": [
    "%%time\n",
    "_ = driver_gpu.simulate(model_full, 1024)"
   ]
  },
  {
   "cell_type": "code",
   "execution_count": 10,
   "metadata": {
    "collapsed": true
   },
   "outputs": [],
   "source": [
    "xbins, ybins = np.arange(-1.5, 4.6, 0.05), np.arange(-12, 15.6, 0.05)\n",
    "bins = np.array([xbins, ybins])"
   ]
  },
  {
   "cell_type": "code",
   "execution_count": null,
   "metadata": {
    "collapsed": false
   },
   "outputs": [
    {
     "name": "stdout",
     "output_type": "stream",
     "text": [
      "(128, 0.0)\n",
      "(128, 2.0)\n",
      "(128, 4.0)\n",
      "(256, 0.0)\n",
      "(256, 2.0)\n",
      "(256, 4.0)\n",
      "(512, 0.0)\n",
      "(512, 2.0)\n",
      "(512, 4.0)\n",
      "(1024, 0.0)\n",
      "(1024, 2.0)\n"
     ]
    }
   ],
   "source": [
    "loglikes = {}\n",
    "N_samples = 100\n",
    "for N_scale in [128, 256, 512, 1024, 2048]:\n",
    "    for log_Npix in [0., 2., 4.]:\n",
    "        print((N_scale, log_Npix))\n",
    "        temp = []\n",
    "        model = gal.Galaxy_SSP(np.array([0., -2., log_Npix, 10.]))\n",
    "        _, mags, _, _ = driver_gpu.simulate(model, N_scale)\n",
    "        pcmd = utils.make_pcmd(mags)\n",
    "        driver_gpu.initialize_data(pcmd, bins)\n",
    "        assert(np.isclose(driver_gpu.loglike(pcmd), 0.))\n",
    "        for i in range(N_samples):\n",
    "            _, mags, _, _ = driver_gpu.simulate(model, N_scale)\n",
    "            pcmd = utils.make_pcmd(mags)\n",
    "            temp.append(driver_gpu.loglike(pcmd))\n",
    "        loglikes[(N_scale, log_Npix)] = temp"
   ]
  },
  {
   "cell_type": "code",
   "execution_count": 13,
   "metadata": {
    "collapsed": false
   },
   "outputs": [
    {
     "data": {
      "text/plain": [
       "{(128, 0.0): [-2048.021398271268, -3171.1733690008805],\n",
       " (128, 1.0): [-1172.2244478202274, -1147.2343711103479],\n",
       " (128, 2.0): [-1050.4976797815953, -895.50505036689515],\n",
       " (128, 3.0): [-396.03947588973915, -411.26483769873829],\n",
       " (128, 4.0): [-298.62420272438317, -260.95401798031781],\n",
       " (128, 5.0): [-51.95282863550878, -66.713937883128779],\n",
       " (256, 0.0): [-3938.5373822634792, -3573.5421068666647],\n",
       " (256, 1.0): [-2268.5777780797785, -2936.979287893731],\n",
       " (256, 2.0): [-1369.1592576601356, -1577.3729029416049],\n",
       " (256, 3.0): [-557.62268983308024, -575.06370197281115],\n",
       " (256, 4.0): [-243.1855822854827, -254.25519302629272],\n",
       " (256, 5.0): [-30.965254868361409, -50.581456904419852],\n",
       " (512, 0.0): [-7639.3732316654086, -6552.1138924109055],\n",
       " (512, 1.0): [-4011.5324220857128, -6507.9216570425679],\n",
       " (512, 2.0): [-2075.0868934427026, -1916.6019631581769],\n",
       " (512, 3.0): [-652.35232971917276, -626.27028133999329],\n",
       " (512, 4.0): [-144.77781000793226, -168.61180458249237],\n",
       " (512, 5.0): [-49.464072069868763, -29.129693929187106],\n",
       " (1024, 0.0): [-7440.6110201846332, -6835.2225865874889],\n",
       " (1024, 1.0): [-5447.7304079727592, -4999.4308457740035],\n",
       " (1024, 2.0): [-2747.5220428360385, -2988.7511271436201],\n",
       " (1024, 3.0): [-736.49889666174363, -751.91142088183994],\n",
       " (1024, 4.0): [-205.77923379707917, -171.83573321517554],\n",
       " (1024, 5.0): [-85.399601360323857, -110.15916561668982],\n",
       " (2048, 0.0): [-8673.6793411726758, -8782.7272128540881],\n",
       " (2048, 1.0): [-6331.5635813187992, -6679.8819351078664],\n",
       " (2048, 2.0): [-3107.8110926780992, -3199.8552823078039],\n",
       " (2048, 3.0): [-865.34654439038354, -908.99227432911357],\n",
       " (2048, 4.0): [-192.46715880728601, -188.08648274129843],\n",
       " (2048, 5.0): [-56.269117438528227, -48.437657923533763]}"
      ]
     },
     "execution_count": 13,
     "metadata": {},
     "output_type": "execute_result"
    }
   ],
   "source": [
    "loglikes"
   ]
  },
  {
   "cell_type": "code",
   "execution_count": null,
   "metadata": {
    "collapsed": true
   },
   "outputs": [],
   "source": []
  }
 ],
 "metadata": {
  "anaconda-cloud": {},
  "kernelspec": {
   "display_name": "Python 2",
   "language": "python",
   "name": "python2"
  },
  "language_info": {
   "codemirror_mode": {
    "name": "ipython",
    "version": 2
   },
   "file_extension": ".py",
   "mimetype": "text/x-python",
   "name": "python",
   "nbconvert_exporter": "python",
   "pygments_lexer": "ipython2",
   "version": "2.7.13"
  }
 },
 "nbformat": 4,
 "nbformat_minor": 2
}
